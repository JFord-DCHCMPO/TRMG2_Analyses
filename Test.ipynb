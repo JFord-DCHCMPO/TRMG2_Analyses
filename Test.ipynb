{
 "cells": [
  {
   "cell_type": "markdown",
   "metadata": {},
   "source": [
    "## Overview\n",
    "\n",
    "This document summarizes the 2016 BY performance for the TRMG2 compared to the TRMv6.2\n"
   ]
  },
  {
   "cell_type": "code",
   "execution_count": 33,
   "metadata": {},
   "outputs": [],
   "source": [
    "import pandas as pd\n",
    "from siuba import *\n",
    "import numpy as np\n",
    "from plotnine import *\n",
    "from shared_utils import geography_utils \n",
    "\n",
    "pd.set_option('display.float_format', lambda x: '%.3f' % x)\n",
    "pd.options.display.float_format = '{:,.2f}'.format\n",
    "\n",
    "\n",
    "\n"
   ]
  },
  {
   "cell_type": "code",
   "execution_count": 34,
   "metadata": {},
   "outputs": [
    {
     "name": "stderr",
     "output_type": "stream",
     "text": [
      "C:\\Users\\JacobFo\\Anaconda3\\lib\\site-packages\\IPython\\core\\interactiveshell.py:3418: DtypeWarning:\n",
      "\n",
      "Columns (49,50,51,55,56,57,59) have mixed types.Specify dtype option on import or set low_memory=False.\n",
      "\n",
      "C:\\Users\\JacobFo\\Anaconda3\\lib\\site-packages\\IPython\\core\\interactiveshell.py:3418: DtypeWarning:\n",
      "\n",
      "Columns (20,21,25,26) have mixed types.Specify dtype option on import or set low_memory=False.\n",
      "\n"
     ]
    }
   ],
   "source": [
    "hwy_2016_g2 =  pd.read_csv('TRMG2_2016.csv')\n",
    "hwy_2016_v6 =  pd.read_csv('TRMv6_2016.csv')\n",
    "\n",
    "count =  pd.read_csv('TRM6_Count_2016_Observed.csv')\n",
    "\n",
    "\n",
    "\n",
    "temp = (\n",
    "count \n",
    "    >>select(_.ID, _.Daily_Counts)\n",
    ")\n",
    "\n",
    "temp = pd.merge(hwy_2016_v6, temp)\n",
    "\n",
    "hwy_2016_v6_counts = (\n",
    "temp\n",
    "    >>filter(_.Daily_Counts > 0)\n",
    ")\n",
    "\n"
   ]
  },
  {
   "cell_type": "code",
   "execution_count": 35,
   "metadata": {},
   "outputs": [
    {
     "data": {
      "text/html": [
       "<div>\n",
       "<style scoped>\n",
       "    .dataframe tbody tr th:only-of-type {\n",
       "        vertical-align: middle;\n",
       "    }\n",
       "\n",
       "    .dataframe tbody tr th {\n",
       "        vertical-align: top;\n",
       "    }\n",
       "\n",
       "    .dataframe thead tr th {\n",
       "        text-align: left;\n",
       "    }\n",
       "\n",
       "    .dataframe thead tr:last-of-type th {\n",
       "        text-align: right;\n",
       "    }\n",
       "</style>\n",
       "<table border=\"1\" class=\"dataframe\">\n",
       "  <thead>\n",
       "    <tr>\n",
       "      <th></th>\n",
       "      <th>sum</th>\n",
       "      <th>mean</th>\n",
       "    </tr>\n",
       "    <tr>\n",
       "      <th></th>\n",
       "      <th>Total_Flow_Daily</th>\n",
       "      <th>Total_Flow_Daily</th>\n",
       "    </tr>\n",
       "    <tr>\n",
       "      <th>MPO</th>\n",
       "      <th></th>\n",
       "      <th></th>\n",
       "    </tr>\n",
       "  </thead>\n",
       "  <tbody>\n",
       "    <tr>\n",
       "      <th>CAMPO</th>\n",
       "      <td>87,767,380.48</td>\n",
       "      <td>13,249.91</td>\n",
       "    </tr>\n",
       "    <tr>\n",
       "      <th>DCHC</th>\n",
       "      <td>44,499,404.10</td>\n",
       "      <td>12,282.47</td>\n",
       "    </tr>\n",
       "    <tr>\n",
       "      <th>None</th>\n",
       "      <td>8,027,109.89</td>\n",
       "      <td>4,769.52</td>\n",
       "    </tr>\n",
       "  </tbody>\n",
       "</table>\n",
       "</div>"
      ],
      "text/plain": [
       "                   sum             mean\n",
       "      Total_Flow_Daily Total_Flow_Daily\n",
       "MPO                                    \n",
       "CAMPO    87,767,380.48        13,249.91\n",
       "DCHC     44,499,404.10        12,282.47\n",
       "None      8,027,109.89         4,769.52"
      ]
     },
     "execution_count": 35,
     "metadata": {},
     "output_type": "execute_result"
    }
   ],
   "source": [
    "hwy_2016_g2.pivot_table(values=\"Total_Flow_Daily\", index=\"MPO\",  aggfunc=[np.sum, np.mean],fill_value=0)"
   ]
  },
  {
   "cell_type": "markdown",
   "metadata": {},
   "source": [
    "## Total Daily Flow by MPO: All Links"
   ]
  },
  {
   "cell_type": "code",
   "execution_count": 36,
   "metadata": {},
   "outputs": [
    {
     "data": {
      "text/html": [
       "<div>\n",
       "<style scoped>\n",
       "    .dataframe tbody tr th:only-of-type {\n",
       "        vertical-align: middle;\n",
       "    }\n",
       "\n",
       "    .dataframe tbody tr th {\n",
       "        vertical-align: top;\n",
       "    }\n",
       "\n",
       "    .dataframe thead tr th {\n",
       "        text-align: left;\n",
       "    }\n",
       "\n",
       "    .dataframe thead tr:last-of-type th {\n",
       "        text-align: right;\n",
       "    }\n",
       "</style>\n",
       "<table border=\"1\" class=\"dataframe\">\n",
       "  <thead>\n",
       "    <tr>\n",
       "      <th></th>\n",
       "      <th>sum</th>\n",
       "      <th>mean</th>\n",
       "    </tr>\n",
       "    <tr>\n",
       "      <th></th>\n",
       "      <th>Total_Flow_Daily</th>\n",
       "      <th>Total_Flow_Daily</th>\n",
       "    </tr>\n",
       "    <tr>\n",
       "      <th>MPO</th>\n",
       "      <th></th>\n",
       "      <th></th>\n",
       "    </tr>\n",
       "  </thead>\n",
       "  <tbody>\n",
       "    <tr>\n",
       "      <th>CAMPO</th>\n",
       "      <td>87,767,380.48</td>\n",
       "      <td>13,249.91</td>\n",
       "    </tr>\n",
       "    <tr>\n",
       "      <th>DCHC</th>\n",
       "      <td>44,499,404.10</td>\n",
       "      <td>12,282.47</td>\n",
       "    </tr>\n",
       "    <tr>\n",
       "      <th>None</th>\n",
       "      <td>8,027,109.89</td>\n",
       "      <td>4,769.52</td>\n",
       "    </tr>\n",
       "  </tbody>\n",
       "</table>\n",
       "</div>"
      ],
      "text/plain": [
       "                   sum             mean\n",
       "      Total_Flow_Daily Total_Flow_Daily\n",
       "MPO                                    \n",
       "CAMPO    87,767,380.48        13,249.91\n",
       "DCHC     44,499,404.10        12,282.47\n",
       "None      8,027,109.89         4,769.52"
      ]
     },
     "execution_count": 36,
     "metadata": {},
     "output_type": "execute_result"
    }
   ],
   "source": [
    "#hide_input\n",
    "hwy_2016_g2.pivot_table(values=\"Total_Flow_Daily\", index=\"MPO\",  aggfunc=[np.sum, np.mean],fill_value=0)"
   ]
  },
  {
   "cell_type": "code",
   "execution_count": 37,
   "metadata": {},
   "outputs": [
    {
     "data": {
      "text/html": [
       "<div>\n",
       "<style scoped>\n",
       "    .dataframe tbody tr th:only-of-type {\n",
       "        vertical-align: middle;\n",
       "    }\n",
       "\n",
       "    .dataframe tbody tr th {\n",
       "        vertical-align: top;\n",
       "    }\n",
       "\n",
       "    .dataframe thead tr th {\n",
       "        text-align: left;\n",
       "    }\n",
       "\n",
       "    .dataframe thead tr:last-of-type th {\n",
       "        text-align: right;\n",
       "    }\n",
       "</style>\n",
       "<table border=\"1\" class=\"dataframe\">\n",
       "  <thead>\n",
       "    <tr>\n",
       "      <th></th>\n",
       "      <th>sum</th>\n",
       "      <th>mean</th>\n",
       "    </tr>\n",
       "    <tr>\n",
       "      <th></th>\n",
       "      <th>Total_Flow_Daily</th>\n",
       "      <th>Total_Flow_Daily</th>\n",
       "    </tr>\n",
       "    <tr>\n",
       "      <th>MPO</th>\n",
       "      <th></th>\n",
       "      <th></th>\n",
       "    </tr>\n",
       "  </thead>\n",
       "  <tbody>\n",
       "    <tr>\n",
       "      <th>CAMPO</th>\n",
       "      <td>87,767,380.48</td>\n",
       "      <td>13,249.91</td>\n",
       "    </tr>\n",
       "    <tr>\n",
       "      <th>DCHC</th>\n",
       "      <td>44,499,404.10</td>\n",
       "      <td>12,282.47</td>\n",
       "    </tr>\n",
       "    <tr>\n",
       "      <th>None</th>\n",
       "      <td>8,027,109.89</td>\n",
       "      <td>4,769.52</td>\n",
       "    </tr>\n",
       "  </tbody>\n",
       "</table>\n",
       "</div>"
      ],
      "text/plain": [
       "                   sum             mean\n",
       "      Total_Flow_Daily Total_Flow_Daily\n",
       "MPO                                    \n",
       "CAMPO    87,767,380.48        13,249.91\n",
       "DCHC     44,499,404.10        12,282.47\n",
       "None      8,027,109.89         4,769.52"
      ]
     },
     "execution_count": 37,
     "metadata": {},
     "output_type": "execute_result"
    }
   ],
   "source": [
    "#hide_input\n",
    "import numpy as np\n",
    "\n",
    "hwy_2016_g2.pivot_table(values=\"Total_Flow_Daily\", index=\"MPO\",  aggfunc=[np.sum, np.mean],fill_value=0).head()"
   ]
  },
  {
   "cell_type": "markdown",
   "metadata": {},
   "source": [
    "## Total Daily Flow by MPO: Links w/ Counts"
   ]
  },
  {
   "cell_type": "code",
   "execution_count": 38,
   "metadata": {},
   "outputs": [
    {
     "data": {
      "text/html": [
       "<div>\n",
       "<style scoped>\n",
       "    .dataframe tbody tr th:only-of-type {\n",
       "        vertical-align: middle;\n",
       "    }\n",
       "\n",
       "    .dataframe tbody tr th {\n",
       "        vertical-align: top;\n",
       "    }\n",
       "\n",
       "    .dataframe thead th {\n",
       "        text-align: right;\n",
       "    }\n",
       "</style>\n",
       "<table border=\"1\" class=\"dataframe\">\n",
       "  <thead>\n",
       "    <tr style=\"text-align: right;\">\n",
       "      <th></th>\n",
       "      <th>MPO</th>\n",
       "      <th>TRMG2</th>\n",
       "      <th>TRMv6.2</th>\n",
       "      <th>Flow Difference</th>\n",
       "      <th>PCt Difference</th>\n",
       "    </tr>\n",
       "  </thead>\n",
       "  <tbody>\n",
       "    <tr>\n",
       "      <th>0</th>\n",
       "      <td>CAMPO</td>\n",
       "      <td>20,295,904.98</td>\n",
       "      <td>31,804,487.90</td>\n",
       "      <td>-11,508,582.93</td>\n",
       "      <td>-56.70</td>\n",
       "    </tr>\n",
       "    <tr>\n",
       "      <th>1</th>\n",
       "      <td>DCHC</td>\n",
       "      <td>10,984,663.13</td>\n",
       "      <td>15,768,182.10</td>\n",
       "      <td>-4,783,518.97</td>\n",
       "      <td>-43.55</td>\n",
       "    </tr>\n",
       "    <tr>\n",
       "      <th>2</th>\n",
       "      <td>None</td>\n",
       "      <td>2,005,225.04</td>\n",
       "      <td>4,956,043.67</td>\n",
       "      <td>-2,950,818.64</td>\n",
       "      <td>-147.16</td>\n",
       "    </tr>\n",
       "  </tbody>\n",
       "</table>\n",
       "</div>"
      ],
      "text/plain": [
       "     MPO         TRMG2       TRMv6.2  Flow Difference  PCt Difference\n",
       "0  CAMPO 20,295,904.98 31,804,487.90   -11,508,582.93          -56.70\n",
       "1   DCHC 10,984,663.13 15,768,182.10    -4,783,518.97          -43.55\n",
       "2   None  2,005,225.04  4,956,043.67    -2,950,818.64         -147.16"
      ]
     },
     "execution_count": 38,
     "metadata": {},
     "output_type": "execute_result"
    }
   ],
   "source": [
    "#hide_input\n",
    "group_cols = [\"MPO\"]\n",
    "sum_cols = [\"Total_Flow_Daily\"]\n",
    "\n",
    "hwy_2016_g2_counts = hwy_2016_g2[hwy_2016_g2.DailyCount > 0]\n",
    "\n",
    "\n",
    "by_mpo_g2 = geography_utils.aggregate_by_geography(\n",
    "    hwy_2016_g2_counts,\n",
    "    group_cols=group_cols,\n",
    "    sum_cols = sum_cols,\n",
    ")\n",
    "\n",
    "by_mpo_g2 =   by_mpo_g2.rename(columns={'Total_Flow_Daily': 'TRMG2'})\n",
    "\n",
    "\n",
    "\n",
    "sum_cols = [\"ToTDlyVol\"]\n",
    "\n",
    "by_mpo_v6 = geography_utils.aggregate_by_geography(\n",
    "    hwy_2016_v6_counts,\n",
    "    group_cols=group_cols,\n",
    "    sum_cols = sum_cols,\n",
    "\n",
    ")\n",
    "\n",
    "by_mpo_v6[\"MPO\"].replace({1: \"CAMPO\", 2: \"DCHC\", 0: \"None\"}, inplace=True)\n",
    "by_mpo_v6 = by_mpo_v6.rename(columns={'ToTDlyVol': 'TRMv6.2'}) \n",
    "by_mpo = pd.merge(by_mpo_g2, by_mpo_v6)\n",
    "by_mpo['Flow Difference']=by_mpo['TRMG2']-by_mpo['TRMv6.2']\n",
    "by_mpo['PCt Difference']=(by_mpo['TRMG2']-by_mpo['TRMv6.2'])/by_mpo['TRMG2']*100\n",
    "by_mpo\n"
   ]
  },
  {
   "cell_type": "markdown",
   "metadata": {},
   "source": [
    "### County Summaries"
   ]
  },
  {
   "cell_type": "code",
   "execution_count": 39,
   "metadata": {},
   "outputs": [
    {
     "data": {
      "text/html": [
       "<div>\n",
       "<style scoped>\n",
       "    .dataframe tbody tr th:only-of-type {\n",
       "        vertical-align: middle;\n",
       "    }\n",
       "\n",
       "    .dataframe tbody tr th {\n",
       "        vertical-align: top;\n",
       "    }\n",
       "\n",
       "    .dataframe thead th {\n",
       "        text-align: right;\n",
       "    }\n",
       "</style>\n",
       "<table border=\"1\" class=\"dataframe\">\n",
       "  <thead>\n",
       "    <tr style=\"text-align: right;\">\n",
       "      <th></th>\n",
       "      <th>County</th>\n",
       "      <th>Total_VMT_v6</th>\n",
       "      <th>Total_VMT_G2</th>\n",
       "      <th>Difference</th>\n",
       "      <th>PctDifference</th>\n",
       "    </tr>\n",
       "  </thead>\n",
       "  <tbody>\n",
       "    <tr>\n",
       "      <th>0</th>\n",
       "      <td>alamance</td>\n",
       "      <td>0.00</td>\n",
       "      <td>4,296.48</td>\n",
       "      <td>4,296.48</td>\n",
       "      <td>100.00</td>\n",
       "    </tr>\n",
       "    <tr>\n",
       "      <th>1</th>\n",
       "      <td>chatham</td>\n",
       "      <td>936,126.51</td>\n",
       "      <td>763,372.72</td>\n",
       "      <td>-172,753.79</td>\n",
       "      <td>-22.63</td>\n",
       "    </tr>\n",
       "    <tr>\n",
       "      <th>2</th>\n",
       "      <td>durham</td>\n",
       "      <td>4,154,607.14</td>\n",
       "      <td>5,986,406.85</td>\n",
       "      <td>1,831,799.71</td>\n",
       "      <td>30.60</td>\n",
       "    </tr>\n",
       "    <tr>\n",
       "      <th>3</th>\n",
       "      <td>external</td>\n",
       "      <td>19,617.21</td>\n",
       "      <td>0.00</td>\n",
       "      <td>-19,617.21</td>\n",
       "      <td>-inf</td>\n",
       "    </tr>\n",
       "    <tr>\n",
       "      <th>4</th>\n",
       "      <td>franklin</td>\n",
       "      <td>677,057.76</td>\n",
       "      <td>539,708.83</td>\n",
       "      <td>-137,348.93</td>\n",
       "      <td>-25.45</td>\n",
       "    </tr>\n",
       "    <tr>\n",
       "      <th>5</th>\n",
       "      <td>granville</td>\n",
       "      <td>710,965.80</td>\n",
       "      <td>653,340.75</td>\n",
       "      <td>-57,625.05</td>\n",
       "      <td>-8.82</td>\n",
       "    </tr>\n",
       "    <tr>\n",
       "      <th>6</th>\n",
       "      <td>harnett</td>\n",
       "      <td>520,413.73</td>\n",
       "      <td>335,142.70</td>\n",
       "      <td>-185,271.04</td>\n",
       "      <td>-55.28</td>\n",
       "    </tr>\n",
       "    <tr>\n",
       "      <th>7</th>\n",
       "      <td>johnston</td>\n",
       "      <td>3,152,058.54</td>\n",
       "      <td>2,750,084.70</td>\n",
       "      <td>-401,973.84</td>\n",
       "      <td>-14.62</td>\n",
       "    </tr>\n",
       "    <tr>\n",
       "      <th>8</th>\n",
       "      <td>nash</td>\n",
       "      <td>187,818.74</td>\n",
       "      <td>115,781.09</td>\n",
       "      <td>-72,037.65</td>\n",
       "      <td>-62.22</td>\n",
       "    </tr>\n",
       "    <tr>\n",
       "      <th>9</th>\n",
       "      <td>orange</td>\n",
       "      <td>2,758,703.74</td>\n",
       "      <td>2,901,719.64</td>\n",
       "      <td>143,015.90</td>\n",
       "      <td>4.93</td>\n",
       "    </tr>\n",
       "    <tr>\n",
       "      <th>10</th>\n",
       "      <td>person</td>\n",
       "      <td>430,298.55</td>\n",
       "      <td>165,671.35</td>\n",
       "      <td>-264,627.20</td>\n",
       "      <td>-159.73</td>\n",
       "    </tr>\n",
       "    <tr>\n",
       "      <th>11</th>\n",
       "      <td>wake</td>\n",
       "      <td>11,211,960.35</td>\n",
       "      <td>16,458,076.03</td>\n",
       "      <td>5,246,115.68</td>\n",
       "      <td>31.88</td>\n",
       "    </tr>\n",
       "  </tbody>\n",
       "</table>\n",
       "</div>"
      ],
      "text/plain": [
       "       County  Total_VMT_v6  Total_VMT_G2   Difference  PctDifference\n",
       "0    alamance          0.00      4,296.48     4,296.48         100.00\n",
       "1     chatham    936,126.51    763,372.72  -172,753.79         -22.63\n",
       "2      durham  4,154,607.14  5,986,406.85 1,831,799.71          30.60\n",
       "3    external     19,617.21          0.00   -19,617.21           -inf\n",
       "4    franklin    677,057.76    539,708.83  -137,348.93         -25.45\n",
       "5   granville    710,965.80    653,340.75   -57,625.05          -8.82\n",
       "6     harnett    520,413.73    335,142.70  -185,271.04         -55.28\n",
       "7    johnston  3,152,058.54  2,750,084.70  -401,973.84         -14.62\n",
       "8        nash    187,818.74    115,781.09   -72,037.65         -62.22\n",
       "9      orange  2,758,703.74  2,901,719.64   143,015.90           4.93\n",
       "10     person    430,298.55    165,671.35  -264,627.20        -159.73\n",
       "11       wake 11,211,960.35 16,458,076.03 5,246,115.68          31.88"
      ]
     },
     "execution_count": 39,
     "metadata": {},
     "output_type": "execute_result"
    }
   ],
   "source": [
    "#hide_input\n",
    "hwy_2016_v6_counts['New_County'] = hwy_2016_v6_counts['COUNTY'].str.lower()\n",
    "\n",
    "vmt_county_v6 = (\n",
    "hwy_2016_v6_counts \n",
    "    >>group_by(County = _.New_County)\n",
    "    >>summarize(Total_VMT_v6 = _.TotVMT.sum())\n",
    ")\n",
    "\n",
    "## add missing alamance to compare to TRMG2\n",
    "vmt_county_v6.loc[len(vmt_county_v6.index)] = ['alamance', 0] \n",
    "\n",
    "vmt_county_v6 = (\n",
    "vmt_county_v6\n",
    "    >>arrange(_.County)\n",
    ")\n",
    "\n",
    "\n",
    "\n",
    "\n",
    "hwy_2016_g2['New_County'] = hwy_2016_g2['County'].str.lower()\n",
    "\n",
    "vmt_county_g2 = (\n",
    "hwy_2016_g2 \n",
    "    >>group_by(County = _.New_County)\n",
    "    >>summarize(Total_VMT_G2 =_.Total_VMT_Daily.sum()              \n",
    "))\n",
    "\n",
    "vmt_county_g2.loc[len(vmt_county_g2.index)] = ['external', 0] \n",
    "\n",
    "vmt_county_g2 = (\n",
    "vmt_county_g2\n",
    "    >>arrange(_.County)\n",
    ")\n",
    "\n",
    "county_comparison = pd.merge(vmt_county_v6, vmt_county_g2, on=\"County\")\n",
    "county_comparison['Difference'] = county_comparison['Total_VMT_G2']-county_comparison['Total_VMT_v6']\n",
    "county_comparison['PctDifference'] = ((county_comparison['Total_VMT_G2']-county_comparison['Total_VMT_v6'])/county_comparison['Total_VMT_G2'])*100\n",
    "county_comparison"
   ]
  },
  {
   "cell_type": "code",
   "execution_count": 40,
   "metadata": {},
   "outputs": [
    {
     "data": {
      "application/vnd.jupyter.widget-view+json": {
       "model_id": "14b3de19d84f457da8e40bd508ad4610",
       "version_major": 2,
       "version_minor": 0
      },
      "text/plain": [
       "interactive(children=(Dropdown(description='Variable', index=2, options=('Total_VMT_v6', 'Total_VMT_G2', 'Diff…"
      ]
     },
     "metadata": {},
     "output_type": "display_data"
    }
   ],
   "source": [
    "import ipywidgets as widgets\n",
    "from ipywidgets import interact\n",
    "from plotly import tools\n",
    "import plotly\n",
    "import plotly.express as px\n",
    "from siuba import *\n",
    "import pandas as pd\n",
    "from plotnine import *\n",
    "from siuba import arrange\n",
    "\n",
    "w = widgets.Dropdown(options=['Total_VMT_v6','Total_VMT_G2','Difference', 'PctDifference'], value='Difference')\n",
    "#w = widgets.Dropdown(options=county_comparison.columns.values, description='column',value='Difference')\n",
    "\n",
    "@interact(Variable= w)\n",
    "\n",
    "\n",
    "def f(Variable):\n",
    "\n",
    "    \n",
    "    county_comparison['temp']=county_comparison[Variable]\n",
    "    temp_df = county_comparison.sort_values('temp', ascending=False)\n",
    "\n",
    "    p = (\n",
    "        temp_df\n",
    "        >>group_by(_.County)\n",
    "        >>arrange(_.temp)\n",
    "        >>ggplot(aes(\"County\", 'temp'))\n",
    "        +geom_bar(stat='identity') \n",
    "        + labs(y=\" \") \n",
    "        +theme(axis_text_x=element_text(rotation=45, hjust=1))\n",
    "        \n",
    "\n",
    "    )\n",
    "\n",
    "        \n",
    "    return p\n",
    "\n",
    "\n",
    "\n",
    "\n"
   ]
  },
  {
   "cell_type": "code",
   "execution_count": 41,
   "metadata": {},
   "outputs": [
    {
     "data": {
      "application/vnd.plotly.v1+json": {
       "config": {
        "plotlyServerURL": "https://plot.ly"
       },
       "data": [
        {
         "alignmentgroup": "True",
         "hovertemplate": "County=%{x}<br>Difference=%{y}<extra></extra>",
         "legendgroup": "",
         "marker": {
          "color": "#636efa",
          "pattern": {
           "shape": ""
          }
         },
         "name": "",
         "offsetgroup": "",
         "orientation": "v",
         "showlegend": false,
         "textposition": "auto",
         "type": "bar",
         "x": [
          "wake",
          "durham",
          "orange",
          "alamance",
          "external",
          "granville",
          "nash",
          "franklin",
          "chatham",
          "harnett",
          "person",
          "johnston"
         ],
         "xaxis": "x",
         "y": [
          5246115.677723924,
          1831799.7149296086,
          143015.90412365273,
          4296.478950604387,
          -19617.20755775022,
          -57625.05405163427,
          -72037.65455280813,
          -137348.92753952346,
          -172753.79322390014,
          -185271.03607731505,
          -264627.20089131856,
          -401973.84254603786
         ],
         "yaxis": "y"
        }
       ],
       "layout": {
        "barmode": "relative",
        "legend": {
         "tracegroupgap": 0
        },
        "template": {
         "data": {
          "bar": [
           {
            "error_x": {
             "color": "#2a3f5f"
            },
            "error_y": {
             "color": "#2a3f5f"
            },
            "marker": {
             "line": {
              "color": "#E5ECF6",
              "width": 0.5
             },
             "pattern": {
              "fillmode": "overlay",
              "size": 10,
              "solidity": 0.2
             }
            },
            "type": "bar"
           }
          ],
          "barpolar": [
           {
            "marker": {
             "line": {
              "color": "#E5ECF6",
              "width": 0.5
             },
             "pattern": {
              "fillmode": "overlay",
              "size": 10,
              "solidity": 0.2
             }
            },
            "type": "barpolar"
           }
          ],
          "carpet": [
           {
            "aaxis": {
             "endlinecolor": "#2a3f5f",
             "gridcolor": "white",
             "linecolor": "white",
             "minorgridcolor": "white",
             "startlinecolor": "#2a3f5f"
            },
            "baxis": {
             "endlinecolor": "#2a3f5f",
             "gridcolor": "white",
             "linecolor": "white",
             "minorgridcolor": "white",
             "startlinecolor": "#2a3f5f"
            },
            "type": "carpet"
           }
          ],
          "choropleth": [
           {
            "colorbar": {
             "outlinewidth": 0,
             "ticks": ""
            },
            "type": "choropleth"
           }
          ],
          "contour": [
           {
            "colorbar": {
             "outlinewidth": 0,
             "ticks": ""
            },
            "colorscale": [
             [
              0,
              "#0d0887"
             ],
             [
              0.1111111111111111,
              "#46039f"
             ],
             [
              0.2222222222222222,
              "#7201a8"
             ],
             [
              0.3333333333333333,
              "#9c179e"
             ],
             [
              0.4444444444444444,
              "#bd3786"
             ],
             [
              0.5555555555555556,
              "#d8576b"
             ],
             [
              0.6666666666666666,
              "#ed7953"
             ],
             [
              0.7777777777777778,
              "#fb9f3a"
             ],
             [
              0.8888888888888888,
              "#fdca26"
             ],
             [
              1,
              "#f0f921"
             ]
            ],
            "type": "contour"
           }
          ],
          "contourcarpet": [
           {
            "colorbar": {
             "outlinewidth": 0,
             "ticks": ""
            },
            "type": "contourcarpet"
           }
          ],
          "heatmap": [
           {
            "colorbar": {
             "outlinewidth": 0,
             "ticks": ""
            },
            "colorscale": [
             [
              0,
              "#0d0887"
             ],
             [
              0.1111111111111111,
              "#46039f"
             ],
             [
              0.2222222222222222,
              "#7201a8"
             ],
             [
              0.3333333333333333,
              "#9c179e"
             ],
             [
              0.4444444444444444,
              "#bd3786"
             ],
             [
              0.5555555555555556,
              "#d8576b"
             ],
             [
              0.6666666666666666,
              "#ed7953"
             ],
             [
              0.7777777777777778,
              "#fb9f3a"
             ],
             [
              0.8888888888888888,
              "#fdca26"
             ],
             [
              1,
              "#f0f921"
             ]
            ],
            "type": "heatmap"
           }
          ],
          "heatmapgl": [
           {
            "colorbar": {
             "outlinewidth": 0,
             "ticks": ""
            },
            "colorscale": [
             [
              0,
              "#0d0887"
             ],
             [
              0.1111111111111111,
              "#46039f"
             ],
             [
              0.2222222222222222,
              "#7201a8"
             ],
             [
              0.3333333333333333,
              "#9c179e"
             ],
             [
              0.4444444444444444,
              "#bd3786"
             ],
             [
              0.5555555555555556,
              "#d8576b"
             ],
             [
              0.6666666666666666,
              "#ed7953"
             ],
             [
              0.7777777777777778,
              "#fb9f3a"
             ],
             [
              0.8888888888888888,
              "#fdca26"
             ],
             [
              1,
              "#f0f921"
             ]
            ],
            "type": "heatmapgl"
           }
          ],
          "histogram": [
           {
            "marker": {
             "pattern": {
              "fillmode": "overlay",
              "size": 10,
              "solidity": 0.2
             }
            },
            "type": "histogram"
           }
          ],
          "histogram2d": [
           {
            "colorbar": {
             "outlinewidth": 0,
             "ticks": ""
            },
            "colorscale": [
             [
              0,
              "#0d0887"
             ],
             [
              0.1111111111111111,
              "#46039f"
             ],
             [
              0.2222222222222222,
              "#7201a8"
             ],
             [
              0.3333333333333333,
              "#9c179e"
             ],
             [
              0.4444444444444444,
              "#bd3786"
             ],
             [
              0.5555555555555556,
              "#d8576b"
             ],
             [
              0.6666666666666666,
              "#ed7953"
             ],
             [
              0.7777777777777778,
              "#fb9f3a"
             ],
             [
              0.8888888888888888,
              "#fdca26"
             ],
             [
              1,
              "#f0f921"
             ]
            ],
            "type": "histogram2d"
           }
          ],
          "histogram2dcontour": [
           {
            "colorbar": {
             "outlinewidth": 0,
             "ticks": ""
            },
            "colorscale": [
             [
              0,
              "#0d0887"
             ],
             [
              0.1111111111111111,
              "#46039f"
             ],
             [
              0.2222222222222222,
              "#7201a8"
             ],
             [
              0.3333333333333333,
              "#9c179e"
             ],
             [
              0.4444444444444444,
              "#bd3786"
             ],
             [
              0.5555555555555556,
              "#d8576b"
             ],
             [
              0.6666666666666666,
              "#ed7953"
             ],
             [
              0.7777777777777778,
              "#fb9f3a"
             ],
             [
              0.8888888888888888,
              "#fdca26"
             ],
             [
              1,
              "#f0f921"
             ]
            ],
            "type": "histogram2dcontour"
           }
          ],
          "mesh3d": [
           {
            "colorbar": {
             "outlinewidth": 0,
             "ticks": ""
            },
            "type": "mesh3d"
           }
          ],
          "parcoords": [
           {
            "line": {
             "colorbar": {
              "outlinewidth": 0,
              "ticks": ""
             }
            },
            "type": "parcoords"
           }
          ],
          "pie": [
           {
            "automargin": true,
            "type": "pie"
           }
          ],
          "scatter": [
           {
            "marker": {
             "colorbar": {
              "outlinewidth": 0,
              "ticks": ""
             }
            },
            "type": "scatter"
           }
          ],
          "scatter3d": [
           {
            "line": {
             "colorbar": {
              "outlinewidth": 0,
              "ticks": ""
             }
            },
            "marker": {
             "colorbar": {
              "outlinewidth": 0,
              "ticks": ""
             }
            },
            "type": "scatter3d"
           }
          ],
          "scattercarpet": [
           {
            "marker": {
             "colorbar": {
              "outlinewidth": 0,
              "ticks": ""
             }
            },
            "type": "scattercarpet"
           }
          ],
          "scattergeo": [
           {
            "marker": {
             "colorbar": {
              "outlinewidth": 0,
              "ticks": ""
             }
            },
            "type": "scattergeo"
           }
          ],
          "scattergl": [
           {
            "marker": {
             "colorbar": {
              "outlinewidth": 0,
              "ticks": ""
             }
            },
            "type": "scattergl"
           }
          ],
          "scattermapbox": [
           {
            "marker": {
             "colorbar": {
              "outlinewidth": 0,
              "ticks": ""
             }
            },
            "type": "scattermapbox"
           }
          ],
          "scatterpolar": [
           {
            "marker": {
             "colorbar": {
              "outlinewidth": 0,
              "ticks": ""
             }
            },
            "type": "scatterpolar"
           }
          ],
          "scatterpolargl": [
           {
            "marker": {
             "colorbar": {
              "outlinewidth": 0,
              "ticks": ""
             }
            },
            "type": "scatterpolargl"
           }
          ],
          "scatterternary": [
           {
            "marker": {
             "colorbar": {
              "outlinewidth": 0,
              "ticks": ""
             }
            },
            "type": "scatterternary"
           }
          ],
          "surface": [
           {
            "colorbar": {
             "outlinewidth": 0,
             "ticks": ""
            },
            "colorscale": [
             [
              0,
              "#0d0887"
             ],
             [
              0.1111111111111111,
              "#46039f"
             ],
             [
              0.2222222222222222,
              "#7201a8"
             ],
             [
              0.3333333333333333,
              "#9c179e"
             ],
             [
              0.4444444444444444,
              "#bd3786"
             ],
             [
              0.5555555555555556,
              "#d8576b"
             ],
             [
              0.6666666666666666,
              "#ed7953"
             ],
             [
              0.7777777777777778,
              "#fb9f3a"
             ],
             [
              0.8888888888888888,
              "#fdca26"
             ],
             [
              1,
              "#f0f921"
             ]
            ],
            "type": "surface"
           }
          ],
          "table": [
           {
            "cells": {
             "fill": {
              "color": "#EBF0F8"
             },
             "line": {
              "color": "white"
             }
            },
            "header": {
             "fill": {
              "color": "#C8D4E3"
             },
             "line": {
              "color": "white"
             }
            },
            "type": "table"
           }
          ]
         },
         "layout": {
          "annotationdefaults": {
           "arrowcolor": "#2a3f5f",
           "arrowhead": 0,
           "arrowwidth": 1
          },
          "autotypenumbers": "strict",
          "coloraxis": {
           "colorbar": {
            "outlinewidth": 0,
            "ticks": ""
           }
          },
          "colorscale": {
           "diverging": [
            [
             0,
             "#8e0152"
            ],
            [
             0.1,
             "#c51b7d"
            ],
            [
             0.2,
             "#de77ae"
            ],
            [
             0.3,
             "#f1b6da"
            ],
            [
             0.4,
             "#fde0ef"
            ],
            [
             0.5,
             "#f7f7f7"
            ],
            [
             0.6,
             "#e6f5d0"
            ],
            [
             0.7,
             "#b8e186"
            ],
            [
             0.8,
             "#7fbc41"
            ],
            [
             0.9,
             "#4d9221"
            ],
            [
             1,
             "#276419"
            ]
           ],
           "sequential": [
            [
             0,
             "#0d0887"
            ],
            [
             0.1111111111111111,
             "#46039f"
            ],
            [
             0.2222222222222222,
             "#7201a8"
            ],
            [
             0.3333333333333333,
             "#9c179e"
            ],
            [
             0.4444444444444444,
             "#bd3786"
            ],
            [
             0.5555555555555556,
             "#d8576b"
            ],
            [
             0.6666666666666666,
             "#ed7953"
            ],
            [
             0.7777777777777778,
             "#fb9f3a"
            ],
            [
             0.8888888888888888,
             "#fdca26"
            ],
            [
             1,
             "#f0f921"
            ]
           ],
           "sequentialminus": [
            [
             0,
             "#0d0887"
            ],
            [
             0.1111111111111111,
             "#46039f"
            ],
            [
             0.2222222222222222,
             "#7201a8"
            ],
            [
             0.3333333333333333,
             "#9c179e"
            ],
            [
             0.4444444444444444,
             "#bd3786"
            ],
            [
             0.5555555555555556,
             "#d8576b"
            ],
            [
             0.6666666666666666,
             "#ed7953"
            ],
            [
             0.7777777777777778,
             "#fb9f3a"
            ],
            [
             0.8888888888888888,
             "#fdca26"
            ],
            [
             1,
             "#f0f921"
            ]
           ]
          },
          "colorway": [
           "#636efa",
           "#EF553B",
           "#00cc96",
           "#ab63fa",
           "#FFA15A",
           "#19d3f3",
           "#FF6692",
           "#B6E880",
           "#FF97FF",
           "#FECB52"
          ],
          "font": {
           "color": "#2a3f5f"
          },
          "geo": {
           "bgcolor": "white",
           "lakecolor": "white",
           "landcolor": "#E5ECF6",
           "showlakes": true,
           "showland": true,
           "subunitcolor": "white"
          },
          "hoverlabel": {
           "align": "left"
          },
          "hovermode": "closest",
          "mapbox": {
           "style": "light"
          },
          "paper_bgcolor": "white",
          "plot_bgcolor": "#E5ECF6",
          "polar": {
           "angularaxis": {
            "gridcolor": "white",
            "linecolor": "white",
            "ticks": ""
           },
           "bgcolor": "#E5ECF6",
           "radialaxis": {
            "gridcolor": "white",
            "linecolor": "white",
            "ticks": ""
           }
          },
          "scene": {
           "xaxis": {
            "backgroundcolor": "#E5ECF6",
            "gridcolor": "white",
            "gridwidth": 2,
            "linecolor": "white",
            "showbackground": true,
            "ticks": "",
            "zerolinecolor": "white"
           },
           "yaxis": {
            "backgroundcolor": "#E5ECF6",
            "gridcolor": "white",
            "gridwidth": 2,
            "linecolor": "white",
            "showbackground": true,
            "ticks": "",
            "zerolinecolor": "white"
           },
           "zaxis": {
            "backgroundcolor": "#E5ECF6",
            "gridcolor": "white",
            "gridwidth": 2,
            "linecolor": "white",
            "showbackground": true,
            "ticks": "",
            "zerolinecolor": "white"
           }
          },
          "shapedefaults": {
           "line": {
            "color": "#2a3f5f"
           }
          },
          "ternary": {
           "aaxis": {
            "gridcolor": "white",
            "linecolor": "white",
            "ticks": ""
           },
           "baxis": {
            "gridcolor": "white",
            "linecolor": "white",
            "ticks": ""
           },
           "bgcolor": "#E5ECF6",
           "caxis": {
            "gridcolor": "white",
            "linecolor": "white",
            "ticks": ""
           }
          },
          "title": {
           "x": 0.05
          },
          "xaxis": {
           "automargin": true,
           "gridcolor": "white",
           "linecolor": "white",
           "ticks": "",
           "title": {
            "standoff": 15
           },
           "zerolinecolor": "white",
           "zerolinewidth": 2
          },
          "yaxis": {
           "automargin": true,
           "gridcolor": "white",
           "linecolor": "white",
           "ticks": "",
           "title": {
            "standoff": 15
           },
           "zerolinecolor": "white",
           "zerolinewidth": 2
          }
         }
        },
        "title": {
         "text": "Difference TRMG2 - TRMv6.2"
        },
        "xaxis": {
         "anchor": "y",
         "domain": [
          0,
          1
         ],
         "title": {
          "text": "County"
         }
        },
        "yaxis": {
         "anchor": "x",
         "domain": [
          0,
          1
         ],
         "title": {
          "text": "Difference"
         }
        }
       }
      }
     },
     "metadata": {},
     "output_type": "display_data"
    }
   ],
   "source": [
    "##COPY\n",
    "import plotly\n",
    "import plotly.express as px\n",
    "\n",
    "dat = county_comparison.sort_values('Difference', ascending=False)\n",
    "\n",
    "fig = px.bar(dat,              # our dataframe\n",
    "       x=\"County\",         # x will be the 'key' column of the dataframe\n",
    "       y=\"Difference\",\n",
    "       title=\"Difference TRMG2 - TRMv6.2\")\n",
    "\n",
    "fig.show()"
   ]
  },
  {
   "cell_type": "markdown",
   "metadata": {},
   "source": [
    "## Highway Assignment Checks TRMG2\n",
    "\n",
    "Goal: Replicate the current TRMv6.2 summary tool and evaluation report's key metrics, while developing tool to replicate in TRMG2 format. \n",
    "\n",
    "\n",
    "\n",
    " "
   ]
  },
  {
   "cell_type": "markdown",
   "metadata": {},
   "source": [
    "# Vehicle Miles Traveled "
   ]
  },
  {
   "cell_type": "markdown",
   "metadata": {},
   "source": [
    "### Total VMT: TRMv6.2\n"
   ]
  },
  {
   "cell_type": "code",
   "execution_count": 42,
   "metadata": {},
   "outputs": [
    {
     "ename": "NameError",
     "evalue": "name 'replace_nas' is not defined",
     "output_type": "error",
     "traceback": [
      "\u001b[1;31m---------------------------------------------------------------------------\u001b[0m",
      "\u001b[1;31mNameError\u001b[0m                                 Traceback (most recent call last)",
      "\u001b[1;32m<ipython-input-42-b7d117831702>\u001b[0m in \u001b[0;36m<module>\u001b[1;34m\u001b[0m\n\u001b[0;32m      1\u001b[0m \u001b[1;31m#hide_input\u001b[0m\u001b[1;33m\u001b[0m\u001b[1;33m\u001b[0m\u001b[1;33m\u001b[0m\u001b[0m\n\u001b[1;32m----> 2\u001b[1;33m \u001b[0mvmt_v6_total\u001b[0m \u001b[1;33m=\u001b[0m \u001b[0mreplace_nas\u001b[0m\u001b[1;33m[\u001b[0m\u001b[1;34m'TotVMT'\u001b[0m\u001b[1;33m]\u001b[0m\u001b[1;33m.\u001b[0m\u001b[0msum\u001b[0m\u001b[1;33m(\u001b[0m\u001b[1;33m)\u001b[0m\u001b[1;33m\u001b[0m\u001b[1;33m\u001b[0m\u001b[0m\n\u001b[0m\u001b[0;32m      3\u001b[0m \u001b[0mvmt_v6_total\u001b[0m\u001b[1;33m\u001b[0m\u001b[1;33m\u001b[0m\u001b[0m\n",
      "\u001b[1;31mNameError\u001b[0m: name 'replace_nas' is not defined"
     ]
    }
   ],
   "source": [
    "#hide_input\n",
    "vmt_v6_total = replace_nas['TotVMT'].sum()\n",
    "vmt_v6_total"
   ]
  },
  {
   "cell_type": "markdown",
   "metadata": {},
   "source": [
    "### Total VMT: TRMG2"
   ]
  },
  {
   "cell_type": "code",
   "execution_count": null,
   "metadata": {},
   "outputs": [
    {
     "data": {
      "text/plain": [
       "59765994.53828005"
      ]
     },
     "execution_count": 9,
     "metadata": {},
     "output_type": "execute_result"
    }
   ],
   "source": [
    "#hide_input\n",
    "vmt_g2_total=hwy_2016_g2['Total_VMT_Daily'].sum()\n",
    "vmt_g2_total"
   ]
  },
  {
   "cell_type": "markdown",
   "metadata": {},
   "source": [
    "Percent Difference: (G2 - v6.2)/ G2"
   ]
  },
  {
   "cell_type": "code",
   "execution_count": null,
   "metadata": {},
   "outputs": [
    {
     "data": {
      "text/plain": [
       "4.749248543178484"
      ]
     },
     "execution_count": 10,
     "metadata": {},
     "output_type": "execute_result"
    }
   ],
   "source": [
    "#hide_input\n",
    "((vmt_g2_total-vmt_v6_total)/vmt_g2_total)*100"
   ]
  },
  {
   "cell_type": "markdown",
   "metadata": {},
   "source": [
    "### Total VMT by MPO: TRMv6.2"
   ]
  },
  {
   "cell_type": "code",
   "execution_count": null,
   "metadata": {},
   "outputs": [
    {
     "data": {
      "text/html": [
       "<div>\n",
       "<style scoped>\n",
       "    .dataframe tbody tr th:only-of-type {\n",
       "        vertical-align: middle;\n",
       "    }\n",
       "\n",
       "    .dataframe tbody tr th {\n",
       "        vertical-align: top;\n",
       "    }\n",
       "\n",
       "    .dataframe thead th {\n",
       "        text-align: right;\n",
       "    }\n",
       "</style>\n",
       "<table border=\"1\" class=\"dataframe\">\n",
       "  <thead>\n",
       "    <tr style=\"text-align: right;\">\n",
       "      <th></th>\n",
       "      <th>MPO</th>\n",
       "      <th>Total_VMT_v6</th>\n",
       "    </tr>\n",
       "  </thead>\n",
       "  <tbody>\n",
       "    <tr>\n",
       "      <th>0</th>\n",
       "      <td>0</td>\n",
       "      <td>7,864,112.07</td>\n",
       "    </tr>\n",
       "    <tr>\n",
       "      <th>1</th>\n",
       "      <td>1</td>\n",
       "      <td>34,546,729.40</td>\n",
       "    </tr>\n",
       "    <tr>\n",
       "      <th>2</th>\n",
       "      <td>2</td>\n",
       "      <td>14,516,717.45</td>\n",
       "    </tr>\n",
       "  </tbody>\n",
       "</table>\n",
       "</div>"
      ],
      "text/plain": [
       "   MPO  Total_VMT_v6\n",
       "0    0  7,864,112.07\n",
       "1    1 34,546,729.40\n",
       "2    2 14,516,717.45"
      ]
     },
     "execution_count": 11,
     "metadata": {},
     "output_type": "execute_result"
    }
   ],
   "source": [
    "#hide_input\n",
    "vmt_mpo_v6 = (\n",
    "replace_nas \n",
    "    >>group_by(MPO = _.MPO)\n",
    "    >>summarize(Total_VMT_v6 = _.TotVMT.sum())\n",
    ")\n",
    "\n",
    "\n",
    "vmt_mpo_v6 = (\n",
    "vmt_mpo_v6\n",
    "    >>arrange(_.MPO)\n",
    ")\n",
    "\n",
    "\n",
    "vmt_mpo_v6"
   ]
  },
  {
   "cell_type": "markdown",
   "metadata": {},
   "source": [
    "### Total VMT by MPO: TRMG2\n",
    "\n",
    "- missing from TRMG2 line and TAZ layer, will need to circle around to tag"
   ]
  },
  {
   "cell_type": "markdown",
   "metadata": {},
   "source": []
  },
  {
   "cell_type": "code",
   "execution_count": null,
   "metadata": {},
   "outputs": [
    {
     "data": {
      "text/html": [
       "<div>\n",
       "<style scoped>\n",
       "    .dataframe tbody tr th:only-of-type {\n",
       "        vertical-align: middle;\n",
       "    }\n",
       "\n",
       "    .dataframe tbody tr th {\n",
       "        vertical-align: top;\n",
       "    }\n",
       "\n",
       "    .dataframe thead th {\n",
       "        text-align: right;\n",
       "    }\n",
       "</style>\n",
       "<table border=\"1\" class=\"dataframe\">\n",
       "  <thead>\n",
       "    <tr style=\"text-align: right;\">\n",
       "      <th></th>\n",
       "      <th>MPO</th>\n",
       "      <th>Sum VMT Flow</th>\n",
       "      <th>Mean VMT</th>\n",
       "    </tr>\n",
       "  </thead>\n",
       "  <tbody>\n",
       "    <tr>\n",
       "      <th>0</th>\n",
       "      <td>CAMPO</td>\n",
       "      <td>36,385,516.35</td>\n",
       "      <td>476.39</td>\n",
       "    </tr>\n",
       "    <tr>\n",
       "      <th>1</th>\n",
       "      <td>None</td>\n",
       "      <td>8,466,352.76</td>\n",
       "      <td>370.15</td>\n",
       "    </tr>\n",
       "    <tr>\n",
       "      <th>2</th>\n",
       "      <td>DCHC</td>\n",
       "      <td>14,649,339.95</td>\n",
       "      <td>520.88</td>\n",
       "    </tr>\n",
       "    <tr>\n",
       "      <th>3</th>\n",
       "      <td>None</td>\n",
       "      <td>NaN</td>\n",
       "      <td>NaN</td>\n",
       "    </tr>\n",
       "  </tbody>\n",
       "</table>\n",
       "</div>"
      ],
      "text/plain": [
       "     MPO  Sum VMT Flow  Mean VMT\n",
       "0  CAMPO 36,385,516.35    476.39\n",
       "1   None  8,466,352.76    370.15\n",
       "2   DCHC 14,649,339.95    520.88\n",
       "3   None           NaN       NaN"
      ]
     },
     "execution_count": 12,
     "metadata": {},
     "output_type": "execute_result"
    }
   ],
   "source": [
    "#hide_input\n",
    "group_cols = [\"MPO\"]\n",
    "sum_cols = [\"Total_VMT_Daily\"]\n",
    "mean_cols = [\"Total_VMT_Daily\"]\n",
    "\n",
    "\n",
    "\n",
    "by_mpo = geography_utils.aggregate_by_geography(\n",
    "    hwy_2016_g2,\n",
    "    group_cols=group_cols,\n",
    "    sum_cols = sum_cols,\n",
    "    mean_cols=mean_cols,\n",
    "\n",
    "\n",
    ")\n",
    "\n",
    "by_mpo =   by_mpo.rename(columns={'Total_VMT_Daily_x': 'Sum VMT Flow'})\n",
    "by_mpo = by_mpo.rename(columns={'Total_VMT_Daily_y': 'Mean VMT'})\n",
    "by_mpo"
   ]
  },
  {
   "cell_type": "markdown",
   "metadata": {},
   "source": [
    "### Total VMT by County"
   ]
  },
  {
   "cell_type": "code",
   "execution_count": null,
   "metadata": {},
   "outputs": [
    {
     "data": {
      "text/html": [
       "<div>\n",
       "<style scoped>\n",
       "    .dataframe tbody tr th:only-of-type {\n",
       "        vertical-align: middle;\n",
       "    }\n",
       "\n",
       "    .dataframe tbody tr th {\n",
       "        vertical-align: top;\n",
       "    }\n",
       "\n",
       "    .dataframe thead th {\n",
       "        text-align: right;\n",
       "    }\n",
       "</style>\n",
       "<table border=\"1\" class=\"dataframe\">\n",
       "  <thead>\n",
       "    <tr style=\"text-align: right;\">\n",
       "      <th></th>\n",
       "      <th>County</th>\n",
       "      <th>Total_VMT_v6</th>\n",
       "      <th>Total_VMT_G2</th>\n",
       "      <th>Difference</th>\n",
       "      <th>PctDifference</th>\n",
       "    </tr>\n",
       "  </thead>\n",
       "  <tbody>\n",
       "    <tr>\n",
       "      <th>0</th>\n",
       "      <td>alamance</td>\n",
       "      <td>0.00</td>\n",
       "      <td>993,303.30</td>\n",
       "      <td>993,303.30</td>\n",
       "      <td>100.00</td>\n",
       "    </tr>\n",
       "    <tr>\n",
       "      <th>1</th>\n",
       "      <td>chatham</td>\n",
       "      <td>1,887,084.19</td>\n",
       "      <td>1,908,876.63</td>\n",
       "      <td>21,792.44</td>\n",
       "      <td>1.14</td>\n",
       "    </tr>\n",
       "    <tr>\n",
       "      <th>2</th>\n",
       "      <td>durham</td>\n",
       "      <td>9,579,639.35</td>\n",
       "      <td>9,896,837.57</td>\n",
       "      <td>317,198.22</td>\n",
       "      <td>3.21</td>\n",
       "    </tr>\n",
       "    <tr>\n",
       "      <th>3</th>\n",
       "      <td>external</td>\n",
       "      <td>145,265.00</td>\n",
       "      <td>0.00</td>\n",
       "      <td>-145,265.00</td>\n",
       "      <td>-inf</td>\n",
       "    </tr>\n",
       "    <tr>\n",
       "      <th>4</th>\n",
       "      <td>franklin</td>\n",
       "      <td>1,482,186.22</td>\n",
       "      <td>1,562,436.32</td>\n",
       "      <td>80,250.10</td>\n",
       "      <td>5.14</td>\n",
       "    </tr>\n",
       "    <tr>\n",
       "      <th>5</th>\n",
       "      <td>granville</td>\n",
       "      <td>1,311,675.05</td>\n",
       "      <td>1,176,954.35</td>\n",
       "      <td>-134,720.71</td>\n",
       "      <td>-11.45</td>\n",
       "    </tr>\n",
       "    <tr>\n",
       "      <th>6</th>\n",
       "      <td>harnett</td>\n",
       "      <td>1,099,687.87</td>\n",
       "      <td>1,001,411.44</td>\n",
       "      <td>-98,276.43</td>\n",
       "      <td>-9.81</td>\n",
       "    </tr>\n",
       "    <tr>\n",
       "      <th>7</th>\n",
       "      <td>johnston</td>\n",
       "      <td>6,071,384.15</td>\n",
       "      <td>5,819,436.97</td>\n",
       "      <td>-251,947.18</td>\n",
       "      <td>-4.33</td>\n",
       "    </tr>\n",
       "    <tr>\n",
       "      <th>8</th>\n",
       "      <td>nash</td>\n",
       "      <td>250,834.74</td>\n",
       "      <td>199,839.95</td>\n",
       "      <td>-50,994.79</td>\n",
       "      <td>-25.52</td>\n",
       "    </tr>\n",
       "    <tr>\n",
       "      <th>9</th>\n",
       "      <td>orange</td>\n",
       "      <td>5,220,110.19</td>\n",
       "      <td>5,146,945.83</td>\n",
       "      <td>-73,164.36</td>\n",
       "      <td>-1.42</td>\n",
       "    </tr>\n",
       "    <tr>\n",
       "      <th>10</th>\n",
       "      <td>person</td>\n",
       "      <td>726,642.31</td>\n",
       "      <td>592,546.60</td>\n",
       "      <td>-134,095.71</td>\n",
       "      <td>-22.63</td>\n",
       "    </tr>\n",
       "    <tr>\n",
       "      <th>11</th>\n",
       "      <td>wake</td>\n",
       "      <td>29,143,576.44</td>\n",
       "      <td>31,202,620.11</td>\n",
       "      <td>2,059,043.67</td>\n",
       "      <td>6.60</td>\n",
       "    </tr>\n",
       "  </tbody>\n",
       "</table>\n",
       "</div>"
      ],
      "text/plain": [
       "       County  Total_VMT_v6  Total_VMT_G2   Difference  PctDifference\n",
       "0    alamance          0.00    993,303.30   993,303.30         100.00\n",
       "1     chatham  1,887,084.19  1,908,876.63    21,792.44           1.14\n",
       "2      durham  9,579,639.35  9,896,837.57   317,198.22           3.21\n",
       "3    external    145,265.00          0.00  -145,265.00           -inf\n",
       "4    franklin  1,482,186.22  1,562,436.32    80,250.10           5.14\n",
       "5   granville  1,311,675.05  1,176,954.35  -134,720.71         -11.45\n",
       "6     harnett  1,099,687.87  1,001,411.44   -98,276.43          -9.81\n",
       "7    johnston  6,071,384.15  5,819,436.97  -251,947.18          -4.33\n",
       "8        nash    250,834.74    199,839.95   -50,994.79         -25.52\n",
       "9      orange  5,220,110.19  5,146,945.83   -73,164.36          -1.42\n",
       "10     person    726,642.31    592,546.60  -134,095.71         -22.63\n",
       "11       wake 29,143,576.44 31,202,620.11 2,059,043.67           6.60"
      ]
     },
     "execution_count": 13,
     "metadata": {},
     "output_type": "execute_result"
    }
   ],
   "source": [
    "\n",
    "#hide_input\n",
    "replace_nas['New_County'] = replace_nas['COUNTY'].str.lower()\n",
    "\n",
    "vmt_county_v6 = (\n",
    "replace_nas \n",
    "    >>group_by(County = _.New_County)\n",
    "    >>summarize(Total_VMT_v6 = _.TotVMT.sum())\n",
    ")\n",
    "\n",
    "## add missing alamance to compare to TRMG2\n",
    "vmt_county_v6.loc[len(vmt_county_v6.index)] = ['alamance', 0] \n",
    "\n",
    "vmt_county_v6 = (\n",
    "vmt_county_v6\n",
    "    >>arrange(_.County)\n",
    ")\n",
    "\n",
    "\n",
    "\n",
    "\n",
    "hwy_2016_g2['New_County'] = hwy_2016_g2['County'].str.lower()\n",
    "\n",
    "vmt_county_g2 = (\n",
    "hwy_2016_g2 \n",
    "    >>group_by(County = _.New_County)\n",
    "    >>summarize(Total_VMT_G2 =_.Total_VMT_Daily.sum()              \n",
    "))\n",
    "\n",
    "vmt_county_g2.loc[len(vmt_county_g2.index)] = ['external', 0] \n",
    "\n",
    "vmt_county_g2 = (\n",
    "vmt_county_g2\n",
    "    >>arrange(_.County)\n",
    ")\n",
    "\n",
    "county_comparison = pd.merge(vmt_county_v6, vmt_county_g2, on=\"County\")\n",
    "county_comparison['Difference'] = county_comparison['Total_VMT_G2']-county_comparison['Total_VMT_v6']\n",
    "county_comparison['PctDifference'] = ((county_comparison['Total_VMT_G2']-county_comparison['Total_VMT_v6'])/county_comparison['Total_VMT_G2'])*100\n",
    "county_comparison"
   ]
  },
  {
   "cell_type": "code",
   "execution_count": null,
   "metadata": {},
   "outputs": [
    {
     "data": {
      "image/png": "[encoded data removed]",
      "text/plain": [
       "<Figure size 640x480 with 1 Axes>"
      ]
     },
     "metadata": {},
     "output_type": "display_data"
    },
    {
     "data": {
      "text/plain": [
       "<ggplot: (135015204834)>"
      ]
     },
     "execution_count": 14,
     "metadata": {},
     "output_type": "execute_result"
    }
   ],
   "source": [
    "\n",
    "#hide_input\n",
    "\n",
    "(\n",
    "county_comparison\n",
    "    >>arrange(-_.PctDifference)\n",
    "    >>filter(_.County !=\"alamance\")\n",
    "    >>filter(_.County !=\"external\")\n",
    "    >>ggplot(aes('reorder(County, PctDifference)', \"PctDifference\"))+geom_col()+ theme(axis_text_x = element_text(angle = 45 , hjust=1)) +ggtitle(\"VMT PCtDiffernce TRMG2 to TRMv6\")\n",
    "\n",
    ")\n"
   ]
  },
  {
   "cell_type": "markdown",
   "metadata": {},
   "source": [
    "# Vehicle Hours Traveled"
   ]
  },
  {
   "cell_type": "markdown",
   "metadata": {},
   "source": [
    "### Total VHT: TRMv6.2"
   ]
  },
  {
   "cell_type": "code",
   "execution_count": null,
   "metadata": {},
   "outputs": [
    {
     "data": {
      "text/plain": [
       "1415882.0878761539"
      ]
     },
     "execution_count": 15,
     "metadata": {},
     "output_type": "execute_result"
    }
   ],
   "source": [
    "#hide_input\n",
    "vht_v6_total = replace_nas['TotVHT'].sum()\n",
    "vht_v6_total"
   ]
  },
  {
   "cell_type": "markdown",
   "metadata": {},
   "source": [
    "### Total VHT: TRMG2"
   ]
  },
  {
   "cell_type": "code",
   "execution_count": null,
   "metadata": {},
   "outputs": [
    {
     "data": {
      "text/plain": [
       "1287044.2371000464"
      ]
     },
     "execution_count": 16,
     "metadata": {},
     "output_type": "execute_result"
    }
   ],
   "source": [
    "#hide_input\n",
    "vht_g2_total = hwy_2016_g2['Total_VHT_Daily'].sum()\n",
    "vht_g2_total"
   ]
  },
  {
   "cell_type": "markdown",
   "metadata": {},
   "source": [
    "### Total VHT by County"
   ]
  },
  {
   "cell_type": "code",
   "execution_count": null,
   "metadata": {},
   "outputs": [
    {
     "data": {
      "text/html": [
       "<div>\n",
       "<style scoped>\n",
       "    .dataframe tbody tr th:only-of-type {\n",
       "        vertical-align: middle;\n",
       "    }\n",
       "\n",
       "    .dataframe tbody tr th {\n",
       "        vertical-align: top;\n",
       "    }\n",
       "\n",
       "    .dataframe thead th {\n",
       "        text-align: right;\n",
       "    }\n",
       "</style>\n",
       "<table border=\"1\" class=\"dataframe\">\n",
       "  <thead>\n",
       "    <tr style=\"text-align: right;\">\n",
       "      <th></th>\n",
       "      <th>County</th>\n",
       "      <th>Total_VHT_v6</th>\n",
       "      <th>Total_VHT_G2</th>\n",
       "      <th>Difference</th>\n",
       "      <th>PctDifference</th>\n",
       "    </tr>\n",
       "  </thead>\n",
       "  <tbody>\n",
       "    <tr>\n",
       "      <th>0</th>\n",
       "      <td>alamance</td>\n",
       "      <td>0.00</td>\n",
       "      <td>25,916.82</td>\n",
       "      <td>25,916.82</td>\n",
       "      <td>100.00</td>\n",
       "    </tr>\n",
       "    <tr>\n",
       "      <th>1</th>\n",
       "      <td>chatham</td>\n",
       "      <td>38,290.33</td>\n",
       "      <td>36,496.28</td>\n",
       "      <td>-1,794.05</td>\n",
       "      <td>-4.92</td>\n",
       "    </tr>\n",
       "    <tr>\n",
       "      <th>2</th>\n",
       "      <td>durham</td>\n",
       "      <td>246,640.25</td>\n",
       "      <td>222,062.40</td>\n",
       "      <td>-24,577.85</td>\n",
       "      <td>-11.07</td>\n",
       "    </tr>\n",
       "    <tr>\n",
       "      <th>3</th>\n",
       "      <td>external</td>\n",
       "      <td>3,321.71</td>\n",
       "      <td>0.00</td>\n",
       "      <td>-3,321.71</td>\n",
       "      <td>-inf</td>\n",
       "    </tr>\n",
       "    <tr>\n",
       "      <th>4</th>\n",
       "      <td>franklin</td>\n",
       "      <td>32,199.82</td>\n",
       "      <td>31,519.27</td>\n",
       "      <td>-680.55</td>\n",
       "      <td>-2.16</td>\n",
       "    </tr>\n",
       "    <tr>\n",
       "      <th>5</th>\n",
       "      <td>granville</td>\n",
       "      <td>25,698.70</td>\n",
       "      <td>22,038.49</td>\n",
       "      <td>-3,660.21</td>\n",
       "      <td>-16.61</td>\n",
       "    </tr>\n",
       "    <tr>\n",
       "      <th>6</th>\n",
       "      <td>harnett</td>\n",
       "      <td>24,472.33</td>\n",
       "      <td>21,624.69</td>\n",
       "      <td>-2,847.64</td>\n",
       "      <td>-13.17</td>\n",
       "    </tr>\n",
       "    <tr>\n",
       "      <th>7</th>\n",
       "      <td>johnston</td>\n",
       "      <td>124,541.80</td>\n",
       "      <td>108,030.82</td>\n",
       "      <td>-16,510.97</td>\n",
       "      <td>-15.28</td>\n",
       "    </tr>\n",
       "    <tr>\n",
       "      <th>8</th>\n",
       "      <td>nash</td>\n",
       "      <td>4,109.60</td>\n",
       "      <td>3,125.57</td>\n",
       "      <td>-984.03</td>\n",
       "      <td>-31.48</td>\n",
       "    </tr>\n",
       "    <tr>\n",
       "      <th>9</th>\n",
       "      <td>orange</td>\n",
       "      <td>122,548.29</td>\n",
       "      <td>111,874.43</td>\n",
       "      <td>-10,673.87</td>\n",
       "      <td>-9.54</td>\n",
       "    </tr>\n",
       "    <tr>\n",
       "      <th>10</th>\n",
       "      <td>person</td>\n",
       "      <td>16,593.21</td>\n",
       "      <td>13,116.74</td>\n",
       "      <td>-3,476.46</td>\n",
       "      <td>-26.50</td>\n",
       "    </tr>\n",
       "    <tr>\n",
       "      <th>11</th>\n",
       "      <td>wake</td>\n",
       "      <td>777,193.90</td>\n",
       "      <td>685,015.99</td>\n",
       "      <td>-92,177.91</td>\n",
       "      <td>-13.46</td>\n",
       "    </tr>\n",
       "  </tbody>\n",
       "</table>\n",
       "</div>"
      ],
      "text/plain": [
       "       County  Total_VHT_v6  Total_VHT_G2  Difference  PctDifference\n",
       "0    alamance          0.00     25,916.82   25,916.82         100.00\n",
       "1     chatham     38,290.33     36,496.28   -1,794.05          -4.92\n",
       "2      durham    246,640.25    222,062.40  -24,577.85         -11.07\n",
       "3    external      3,321.71          0.00   -3,321.71           -inf\n",
       "4    franklin     32,199.82     31,519.27     -680.55          -2.16\n",
       "5   granville     25,698.70     22,038.49   -3,660.21         -16.61\n",
       "6     harnett     24,472.33     21,624.69   -2,847.64         -13.17\n",
       "7    johnston    124,541.80    108,030.82  -16,510.97         -15.28\n",
       "8        nash      4,109.60      3,125.57     -984.03         -31.48\n",
       "9      orange    122,548.29    111,874.43  -10,673.87          -9.54\n",
       "10     person     16,593.21     13,116.74   -3,476.46         -26.50\n",
       "11       wake    777,193.90    685,015.99  -92,177.91         -13.46"
      ]
     },
     "execution_count": 17,
     "metadata": {},
     "output_type": "execute_result"
    }
   ],
   "source": [
    "#hide_input\n",
    "vht_county_v6 = (\n",
    "replace_nas \n",
    "    >>group_by(County = _.New_County)\n",
    "    >>summarize(Total_VHT_v6 = _.TotVHT.sum())\n",
    ")\n",
    "\n",
    "## add missing alamance to compare to TRMG2\n",
    "vht_county_v6.loc[len(vht_county_v6.index)] = ['alamance', 0] \n",
    "\n",
    "vht_county_v6 = (\n",
    "vht_county_v6\n",
    "    >>arrange(_.County)\n",
    ")\n",
    "\n",
    "\n",
    "hwy_2016_g2['New_County'] = hwy_2016_g2['County'].str.lower()\n",
    "\n",
    "vht_county_g2 = (\n",
    "hwy_2016_g2 \n",
    "    >>group_by(County = _.New_County)\n",
    "    >>summarize(Total_VHT_G2 =_.Total_VHT_Daily.sum()              \n",
    "))\n",
    "\n",
    "vht_county_g2.loc[len(vmt_county_g2.index)] = ['external', 0] \n",
    "\n",
    "vht_county_g2 = (\n",
    "vht_county_g2\n",
    "    >>arrange(_.County)\n",
    ")\n",
    "\n",
    "county_comparison = pd.merge(vht_county_v6, vht_county_g2, on=\"County\")\n",
    "county_comparison['Difference'] = county_comparison['Total_VHT_G2']-county_comparison['Total_VHT_v6']\n",
    "county_comparison['PctDifference'] = ((county_comparison['Total_VHT_G2']-county_comparison['Total_VHT_v6'])/county_comparison['Total_VHT_G2'])*100\n",
    "\n",
    "county_comparison\n"
   ]
  },
  {
   "cell_type": "code",
   "execution_count": null,
   "metadata": {},
   "outputs": [
    {
     "data": {
      "image/png": "[encoded data removed]",
      "text/plain": [
       "<Figure size 640x480 with 1 Axes>"
      ]
     },
     "metadata": {},
     "output_type": "display_data"
    },
    {
     "data": {
      "text/plain": [
       "<ggplot: (135020028778)>"
      ]
     },
     "execution_count": 18,
     "metadata": {},
     "output_type": "execute_result"
    }
   ],
   "source": [
    "#hide_input\n",
    "(\n",
    "county_comparison\n",
    "    >>arrange(-_.PctDifference)\n",
    "    >>filter(_.County !=\"alamance\")\n",
    "    >>filter(_.County !=\"external\")\n",
    "    >>ggplot(aes('reorder(County, PctDifference)', \"PctDifference\"))+geom_col()+ theme(axis_text_x = element_text(angle = 45 , hjust=1)) +ggtitle(\"VHT PCtDiffernce TRMG2 to TRMv6\")\n",
    "\n",
    ")\n"
   ]
  },
  {
   "cell_type": "markdown",
   "metadata": {},
   "source": [
    "# Total Daily Volume - All Links\n"
   ]
  },
  {
   "cell_type": "markdown",
   "metadata": {},
   "source": [
    "### Total Daily Volume: TRMv6.2"
   ]
  },
  {
   "cell_type": "code",
   "execution_count": null,
   "metadata": {},
   "outputs": [
    {
     "data": {
      "text/plain": [
       "186392885.39225224"
      ]
     },
     "execution_count": 36,
     "metadata": {},
     "output_type": "execute_result"
    }
   ],
   "source": [
    "#hide_input\n",
    "tot_vol_v6_total = replace_nas['ToTDlyVol'].sum()\n",
    "tot_vol_v6_total"
   ]
  },
  {
   "cell_type": "markdown",
   "metadata": {},
   "source": [
    "### Total Daily Volume: TRMG2"
   ]
  },
  {
   "cell_type": "code",
   "execution_count": null,
   "metadata": {},
   "outputs": [
    {
     "data": {
      "text/plain": [
       "306663903.1572029"
      ]
     },
     "execution_count": 37,
     "metadata": {},
     "output_type": "execute_result"
    }
   ],
   "source": [
    "#hide_input\n",
    "tot_vol_g2_total = hwy_2016_g2['Total_Flow_Daily'].sum()\n",
    "tot_vol_g2_total"
   ]
  },
  {
   "cell_type": "markdown",
   "metadata": {},
   "source": [
    "### Total Daily Volume by County"
   ]
  },
  {
   "cell_type": "code",
   "execution_count": null,
   "metadata": {},
   "outputs": [
    {
     "data": {
      "text/html": [
       "<div>\n",
       "<style scoped>\n",
       "    .dataframe tbody tr th:only-of-type {\n",
       "        vertical-align: middle;\n",
       "    }\n",
       "\n",
       "    .dataframe tbody tr th {\n",
       "        vertical-align: top;\n",
       "    }\n",
       "\n",
       "    .dataframe thead th {\n",
       "        text-align: right;\n",
       "    }\n",
       "</style>\n",
       "<table border=\"1\" class=\"dataframe\">\n",
       "  <thead>\n",
       "    <tr style=\"text-align: right;\">\n",
       "      <th></th>\n",
       "      <th>County</th>\n",
       "      <th>Total_Flow_v6</th>\n",
       "      <th>Total_Flow_G2</th>\n",
       "      <th>Difference</th>\n",
       "      <th>PctDifference</th>\n",
       "    </tr>\n",
       "  </thead>\n",
       "  <tbody>\n",
       "    <tr>\n",
       "      <th>0</th>\n",
       "      <td>alamance</td>\n",
       "      <td>0.00</td>\n",
       "      <td>5,365,310.61</td>\n",
       "      <td>5,365,310.61</td>\n",
       "      <td>100.00</td>\n",
       "    </tr>\n",
       "    <tr>\n",
       "      <th>1</th>\n",
       "      <td>chatham</td>\n",
       "      <td>2,498,666.22</td>\n",
       "      <td>5,943,315.38</td>\n",
       "      <td>3,444,649.16</td>\n",
       "      <td>57.96</td>\n",
       "    </tr>\n",
       "    <tr>\n",
       "      <th>2</th>\n",
       "      <td>durham</td>\n",
       "      <td>43,217,816.60</td>\n",
       "      <td>60,486,993.38</td>\n",
       "      <td>17,269,176.78</td>\n",
       "      <td>28.55</td>\n",
       "    </tr>\n",
       "    <tr>\n",
       "      <th>3</th>\n",
       "      <td>external</td>\n",
       "      <td>676,773.89</td>\n",
       "      <td>0.00</td>\n",
       "      <td>-676,773.89</td>\n",
       "      <td>-inf</td>\n",
       "    </tr>\n",
       "    <tr>\n",
       "      <th>4</th>\n",
       "      <td>franklin</td>\n",
       "      <td>2,665,561.59</td>\n",
       "      <td>8,323,252.44</td>\n",
       "      <td>5,657,690.85</td>\n",
       "      <td>67.97</td>\n",
       "    </tr>\n",
       "    <tr>\n",
       "      <th>5</th>\n",
       "      <td>granville</td>\n",
       "      <td>1,775,753.36</td>\n",
       "      <td>3,324,355.45</td>\n",
       "      <td>1,548,602.09</td>\n",
       "      <td>46.58</td>\n",
       "    </tr>\n",
       "    <tr>\n",
       "      <th>6</th>\n",
       "      <td>harnett</td>\n",
       "      <td>1,930,055.64</td>\n",
       "      <td>4,795,670.69</td>\n",
       "      <td>2,865,615.04</td>\n",
       "      <td>59.75</td>\n",
       "    </tr>\n",
       "    <tr>\n",
       "      <th>7</th>\n",
       "      <td>johnston</td>\n",
       "      <td>10,281,901.43</td>\n",
       "      <td>19,573,688.23</td>\n",
       "      <td>9,291,786.80</td>\n",
       "      <td>47.47</td>\n",
       "    </tr>\n",
       "    <tr>\n",
       "      <th>8</th>\n",
       "      <td>nash</td>\n",
       "      <td>249,296.36</td>\n",
       "      <td>388,466.36</td>\n",
       "      <td>139,170.00</td>\n",
       "      <td>35.83</td>\n",
       "    </tr>\n",
       "    <tr>\n",
       "      <th>9</th>\n",
       "      <td>orange</td>\n",
       "      <td>15,895,967.24</td>\n",
       "      <td>22,718,823.81</td>\n",
       "      <td>6,822,856.58</td>\n",
       "      <td>30.03</td>\n",
       "    </tr>\n",
       "    <tr>\n",
       "      <th>10</th>\n",
       "      <td>person</td>\n",
       "      <td>1,152,069.54</td>\n",
       "      <td>2,524,527.18</td>\n",
       "      <td>1,372,457.64</td>\n",
       "      <td>54.36</td>\n",
       "    </tr>\n",
       "    <tr>\n",
       "      <th>11</th>\n",
       "      <td>wake</td>\n",
       "      <td>105,993,078.45</td>\n",
       "      <td>172,314,595.95</td>\n",
       "      <td>66,321,517.50</td>\n",
       "      <td>38.49</td>\n",
       "    </tr>\n",
       "  </tbody>\n",
       "</table>\n",
       "</div>"
      ],
      "text/plain": [
       "       County  Total_Flow_v6  Total_Flow_G2    Difference  PctDifference\n",
       "0    alamance           0.00   5,365,310.61  5,365,310.61         100.00\n",
       "1     chatham   2,498,666.22   5,943,315.38  3,444,649.16          57.96\n",
       "2      durham  43,217,816.60  60,486,993.38 17,269,176.78          28.55\n",
       "3    external     676,773.89           0.00   -676,773.89           -inf\n",
       "4    franklin   2,665,561.59   8,323,252.44  5,657,690.85          67.97\n",
       "5   granville   1,775,753.36   3,324,355.45  1,548,602.09          46.58\n",
       "6     harnett   1,930,055.64   4,795,670.69  2,865,615.04          59.75\n",
       "7    johnston  10,281,901.43  19,573,688.23  9,291,786.80          47.47\n",
       "8        nash     249,296.36     388,466.36    139,170.00          35.83\n",
       "9      orange  15,895,967.24  22,718,823.81  6,822,856.58          30.03\n",
       "10     person   1,152,069.54   2,524,527.18  1,372,457.64          54.36\n",
       "11       wake 105,993,078.45 172,314,595.95 66,321,517.50          38.49"
      ]
     },
     "execution_count": 21,
     "metadata": {},
     "output_type": "execute_result"
    }
   ],
   "source": [
    "#hide_input\n",
    "tot_vol_county_v6 = (\n",
    "replace_nas \n",
    "    >>group_by(County = _.New_County)\n",
    "    >>summarize(Total_Flow_v6 = _.ToTDlyVol.sum())\n",
    ")\n",
    "\n",
    "## add missing alamance to compare to TRMG2\n",
    "tot_vol_county_v6.loc[len(tot_vol_county_v6.index)] = ['alamance', 0] \n",
    "\n",
    "tot_vol_county_v6 = (\n",
    "tot_vol_county_v6\n",
    "    >>arrange(_.County)\n",
    ")\n",
    "\n",
    "\n",
    "hwy_2016_g2['New_County'] = hwy_2016_g2['County'].str.lower()\n",
    "\n",
    "tot_vol_county_g2 = (\n",
    "hwy_2016_g2 \n",
    "    >>group_by(County = _.New_County)\n",
    "    >>summarize(Total_Flow_G2 =_.Total_Flow_Daily.sum()              \n",
    "))\n",
    "\n",
    "tot_vol_county_g2.loc[len(tot_vol_county_g2.index)] = ['external', 0] \n",
    "\n",
    "tot_vol_county_g2 = (\n",
    "tot_vol_county_g2\n",
    "    >>arrange(_.County)\n",
    ")\n",
    "\n",
    "county_comparison = pd.merge(tot_vol_county_v6, tot_vol_county_g2, on=\"County\")\n",
    "county_comparison['Difference'] = county_comparison['Total_Flow_G2']-county_comparison['Total_Flow_v6']\n",
    "county_comparison['PctDifference'] = ((county_comparison['Total_Flow_G2']-county_comparison['Total_Flow_v6'])/county_comparison['Total_Flow_G2'])*100\n",
    "\n",
    "county_comparison\n"
   ]
  },
  {
   "cell_type": "code",
   "execution_count": null,
   "metadata": {},
   "outputs": [
    {
     "data": {
      "image/png": "[encoded data removed]",
      "text/plain": [
       "<Figure size 640x480 with 1 Axes>"
      ]
     },
     "metadata": {},
     "output_type": "display_data"
    },
    {
     "data": {
      "text/plain": [
       "<ggplot: (135014097559)>"
      ]
     },
     "execution_count": 22,
     "metadata": {},
     "output_type": "execute_result"
    }
   ],
   "source": [
    "#hide_input\n",
    "(\n",
    "county_comparison\n",
    "    >>arrange(-_.PctDifference)\n",
    "    >>filter(_.County !=\"alamance\")\n",
    "    >>filter(_.County !=\"external\")\n",
    "    >>ggplot(aes('reorder(County, PctDifference)', \"PctDifference\"))+geom_col()+ theme(axis_text_x = element_text(angle = 45 , hjust=1)) +ggtitle(\"Total Flow PCtDiffernce TRMG2 to TRMv6\")\n",
    "\n",
    ")\n"
   ]
  },
  {
   "cell_type": "markdown",
   "metadata": {},
   "source": [
    "# Total Daily Volume - Links with Counts"
   ]
  },
  {
   "cell_type": "markdown",
   "metadata": {},
   "source": [
    "### Total Daily Volume: TRMv6.2"
   ]
  },
  {
   "cell_type": "code",
   "execution_count": null,
   "metadata": {},
   "outputs": [
    {
     "data": {
      "text/plain": [
       "52528713.675038055"
      ]
     },
     "execution_count": 40,
     "metadata": {},
     "output_type": "execute_result"
    }
   ],
   "source": [
    "\n",
    "tot_vol_v6_total = hwy_2016_v6_counts['ToTDlyVol'].sum()\n",
    "tot_vol_v6_total\n",
    "\n"
   ]
  },
  {
   "cell_type": "markdown",
   "metadata": {},
   "source": [
    "### Total Daily Volume: TRMG2"
   ]
  },
  {
   "cell_type": "code",
   "execution_count": null,
   "metadata": {},
   "outputs": [
    {
     "data": {
      "text/plain": [
       "56116720.94354267"
      ]
     },
     "execution_count": 39,
     "metadata": {},
     "output_type": "execute_result"
    }
   ],
   "source": [
    "#hide_input\n",
    "hwy_2016_g2_counts = (\n",
    "hwy_2016_g2\n",
    "    >>filter(_.DailyCount>0)\n",
    ")\n",
    "\n",
    "tot_vol_g2_total = hwy_2016_g2_counts['Total_Flow_Daily'].sum()\n",
    "tot_vol_g2_total"
   ]
  },
  {
   "cell_type": "markdown",
   "metadata": {},
   "source": [
    "Percent Difference"
   ]
  },
  {
   "cell_type": "code",
   "execution_count": null,
   "metadata": {},
   "outputs": [
    {
     "data": {
      "text/plain": [
       "6.393829162103747"
      ]
     },
     "execution_count": 25,
     "metadata": {},
     "output_type": "execute_result"
    }
   ],
   "source": [
    "#hide_input\n",
    "((tot_vol_g2_total-tot_vol_v6_total)/tot_vol_g2_total)*100"
   ]
  },
  {
   "cell_type": "code",
   "execution_count": null,
   "metadata": {},
   "outputs": [
    {
     "name": "stderr",
     "output_type": "stream",
     "text": [
      "<ipython-input-26-cd808247b23c>:11: SettingWithCopyWarning:\n",
      "\n",
      "\n",
      "A value is trying to be set on a copy of a slice from a DataFrame.\n",
      "Try using .loc[row_indexer,col_indexer] = value instead\n",
      "\n",
      "See the caveats in the documentation: https://pandas.pydata.org/pandas-docs/stable/user_guide/indexing.html#returning-a-view-versus-a-copy\n",
      "\n"
     ]
    },
    {
     "data": {
      "text/html": [
       "<div>\n",
       "<style scoped>\n",
       "    .dataframe tbody tr th:only-of-type {\n",
       "        vertical-align: middle;\n",
       "    }\n",
       "\n",
       "    .dataframe tbody tr th {\n",
       "        vertical-align: top;\n",
       "    }\n",
       "\n",
       "    .dataframe thead th {\n",
       "        text-align: right;\n",
       "    }\n",
       "</style>\n",
       "<table border=\"1\" class=\"dataframe\">\n",
       "  <thead>\n",
       "    <tr style=\"text-align: right;\">\n",
       "      <th></th>\n",
       "      <th>County</th>\n",
       "      <th>Total_Flow_v6</th>\n",
       "      <th>Total_Flow_G2</th>\n",
       "      <th>PctDifference</th>\n",
       "    </tr>\n",
       "  </thead>\n",
       "  <tbody>\n",
       "    <tr>\n",
       "      <th>0</th>\n",
       "      <td>chatham</td>\n",
       "      <td>845,870.51</td>\n",
       "      <td>912,262.99</td>\n",
       "      <td>7.28</td>\n",
       "    </tr>\n",
       "    <tr>\n",
       "      <th>1</th>\n",
       "      <td>durham</td>\n",
       "      <td>12,016,011.96</td>\n",
       "      <td>12,969,703.99</td>\n",
       "      <td>7.35</td>\n",
       "    </tr>\n",
       "    <tr>\n",
       "      <th>2</th>\n",
       "      <td>external</td>\n",
       "      <td>104,807.18</td>\n",
       "      <td>0.00</td>\n",
       "      <td>-inf</td>\n",
       "    </tr>\n",
       "    <tr>\n",
       "      <th>3</th>\n",
       "      <td>franklin</td>\n",
       "      <td>979,763.42</td>\n",
       "      <td>1,020,690.38</td>\n",
       "      <td>4.01</td>\n",
       "    </tr>\n",
       "    <tr>\n",
       "      <th>4</th>\n",
       "      <td>granville</td>\n",
       "      <td>674,119.03</td>\n",
       "      <td>628,106.70</td>\n",
       "      <td>-7.33</td>\n",
       "    </tr>\n",
       "    <tr>\n",
       "      <th>5</th>\n",
       "      <td>harnett</td>\n",
       "      <td>728,257.70</td>\n",
       "      <td>652,223.98</td>\n",
       "      <td>-11.66</td>\n",
       "    </tr>\n",
       "    <tr>\n",
       "      <th>6</th>\n",
       "      <td>johnston</td>\n",
       "      <td>3,509,072.79</td>\n",
       "      <td>3,436,414.09</td>\n",
       "      <td>-2.11</td>\n",
       "    </tr>\n",
       "    <tr>\n",
       "      <th>7</th>\n",
       "      <td>nash</td>\n",
       "      <td>124,308.54</td>\n",
       "      <td>66,200.31</td>\n",
       "      <td>-87.78</td>\n",
       "    </tr>\n",
       "    <tr>\n",
       "      <th>8</th>\n",
       "      <td>orange</td>\n",
       "      <td>4,007,723.59</td>\n",
       "      <td>3,925,944.75</td>\n",
       "      <td>-2.08</td>\n",
       "    </tr>\n",
       "    <tr>\n",
       "      <th>9</th>\n",
       "      <td>person</td>\n",
       "      <td>644,518.16</td>\n",
       "      <td>527,404.48</td>\n",
       "      <td>-22.21</td>\n",
       "    </tr>\n",
       "    <tr>\n",
       "      <th>10</th>\n",
       "      <td>wake</td>\n",
       "      <td>28,884,130.14</td>\n",
       "      <td>31,020,631.33</td>\n",
       "      <td>6.89</td>\n",
       "    </tr>\n",
       "  </tbody>\n",
       "</table>\n",
       "</div>"
      ],
      "text/plain": [
       "       County  Total_Flow_v6  Total_Flow_G2  PctDifference\n",
       "0     chatham     845,870.51     912,262.99           7.28\n",
       "1      durham  12,016,011.96  12,969,703.99           7.35\n",
       "2    external     104,807.18           0.00           -inf\n",
       "3    franklin     979,763.42   1,020,690.38           4.01\n",
       "4   granville     674,119.03     628,106.70          -7.33\n",
       "5     harnett     728,257.70     652,223.98         -11.66\n",
       "6    johnston   3,509,072.79   3,436,414.09          -2.11\n",
       "7        nash     124,308.54      66,200.31         -87.78\n",
       "8      orange   4,007,723.59   3,925,944.75          -2.08\n",
       "9      person     644,518.16     527,404.48         -22.21\n",
       "10       wake  28,884,130.14  31,020,631.33           6.89"
      ]
     },
     "execution_count": 26,
     "metadata": {},
     "output_type": "execute_result"
    }
   ],
   "source": [
    "#hide_input\n",
    "tot_vol_county_v6 = (\n",
    "hwy_2016_v6_counts \n",
    "    >>group_by(County = _.New_County)\n",
    "    >>summarize(Total_Flow_v6 = _.ToTDlyVol.sum(),\n",
    "               Total_Counts_v6 = _.Daily_Counts.sum())\n",
    "    >>mutate(PctDifference = (_.Total_Flow_v6 - _.Total_Counts_v6)/_.Total_Flow_v6*100)\n",
    ")\n",
    "\n",
    "\n",
    "hwy_2016_g2_counts['New_County'] = hwy_2016_g2_counts['County'].str.lower()\n",
    "\n",
    "tot_vol_county_g2 = (\n",
    "hwy_2016_g2_counts \n",
    "    >>group_by(County = _.New_County)\n",
    "    >>summarize(Total_Flow_G2 =_.Total_Flow_Daily.sum(),\n",
    "                Total_Counts_G2 = _.DailyCount.sum())\n",
    "    >>mutate(PctDifference = (_.Total_Flow_G2 - _.Total_Counts_G2)/_.Total_Flow_G2*100)\n",
    ")\n",
    "\n",
    "\n",
    "tot_vol_county_g2.loc[len(tot_vol_county_g2.index)] = ['external', 0,0,0] \n",
    "\n",
    "tot_vol_county_g2 = (\n",
    "tot_vol_county_g2\n",
    "    >>arrange(_.County)\n",
    ")\n",
    "\n",
    "county_comparison = pd.merge(tot_vol_county_v6, tot_vol_county_g2, on=\"County\")\n",
    "\n",
    "county_comparison['Difference'] = county_comparison['Total_Flow_G2']-county_comparison['Total_Flow_v6']\n",
    "county_comparison['PctDifference'] = ((county_comparison['Total_Flow_G2']-county_comparison['Total_Flow_v6'])/county_comparison['Total_Flow_G2'])*100\n",
    "\n",
    "tot_flow_county = (\n",
    "county_comparison\n",
    "    >>select(_.County, _.Total_Flow_v6, _.Total_Flow_G2, _.PctDifference)\n",
    ")\n",
    "tot_flow_county"
   ]
  },
  {
   "cell_type": "code",
   "execution_count": null,
   "metadata": {},
   "outputs": [
    {
     "data": {
      "image/png": "[encoded data removed]",
      "text/plain": [
       "<Figure size 640x480 with 1 Axes>"
      ]
     },
     "metadata": {},
     "output_type": "display_data"
    },
    {
     "data": {
      "text/plain": [
       "<ggplot: (134982219719)>"
      ]
     },
     "execution_count": 27,
     "metadata": {},
     "output_type": "execute_result"
    }
   ],
   "source": [
    "#hide_input\n",
    "\n",
    "(\n",
    "tot_flow_county\n",
    "    >>arrange(-_.PctDifference)\n",
    "    >>filter(_.County !=\"alamance\")\n",
    "    >>filter(_.County !=\"external\")\n",
    "   # >>ggplot(aes(\"County\", \"PctDifference\"))+geom_col()+ theme(axis_text_x = element_text(angle = 45 , hjust=1)) +ggtitle(\"Total Flow PCtDiffernce TRMG2 to TRMv6\")\n",
    "     >>ggplot(aes('reorder(County, PctDifference)', \"PctDifference\"))+geom_col()+ theme(axis_text_x = element_text(angle = 45 , hjust=1)) +ggtitle(\"Total Flow PCtDiffernce TRMG2 to TRMv6\")\n",
    ")\n"
   ]
  },
  {
   "cell_type": "markdown",
   "metadata": {},
   "source": [
    "# Total Flow by Facility Type"
   ]
  },
  {
   "cell_type": "markdown",
   "metadata": {},
   "source": [
    "## TRMv6.2"
   ]
  },
  {
   "cell_type": "code",
   "execution_count": null,
   "metadata": {},
   "outputs": [
    {
     "data": {
      "text/html": [
       "<div>\n",
       "<style scoped>\n",
       "    .dataframe tbody tr th:only-of-type {\n",
       "        vertical-align: middle;\n",
       "    }\n",
       "\n",
       "    .dataframe tbody tr th {\n",
       "        vertical-align: top;\n",
       "    }\n",
       "\n",
       "    .dataframe thead th {\n",
       "        text-align: right;\n",
       "    }\n",
       "</style>\n",
       "<table border=\"1\" class=\"dataframe\">\n",
       "  <thead>\n",
       "    <tr style=\"text-align: right;\">\n",
       "      <th></th>\n",
       "      <th>FCGroup_Tag</th>\n",
       "      <th>Total_Flow_v6</th>\n",
       "      <th>Total_Counts_v6</th>\n",
       "      <th>PctDifference</th>\n",
       "    </tr>\n",
       "  </thead>\n",
       "  <tbody>\n",
       "    <tr>\n",
       "      <th>0</th>\n",
       "      <td>Collector</td>\n",
       "      <td>6,441,993.94</td>\n",
       "      <td>6623550</td>\n",
       "      <td>-2.82</td>\n",
       "    </tr>\n",
       "    <tr>\n",
       "      <th>1</th>\n",
       "      <td>Freeway</td>\n",
       "      <td>14,257,957.00</td>\n",
       "      <td>14084500</td>\n",
       "      <td>1.22</td>\n",
       "    </tr>\n",
       "    <tr>\n",
       "      <th>2</th>\n",
       "      <td>Local</td>\n",
       "      <td>4,735,795.87</td>\n",
       "      <td>4655830</td>\n",
       "      <td>1.69</td>\n",
       "    </tr>\n",
       "    <tr>\n",
       "      <th>3</th>\n",
       "      <td>Major Arterial</td>\n",
       "      <td>13,835,060.62</td>\n",
       "      <td>15284820</td>\n",
       "      <td>-10.48</td>\n",
       "    </tr>\n",
       "    <tr>\n",
       "      <th>4</th>\n",
       "      <td>Minor Arterial</td>\n",
       "      <td>13,151,478.38</td>\n",
       "      <td>13397660</td>\n",
       "      <td>-1.87</td>\n",
       "    </tr>\n",
       "  </tbody>\n",
       "</table>\n",
       "</div>"
      ],
      "text/plain": [
       "      FCGroup_Tag  Total_Flow_v6  Total_Counts_v6  PctDifference\n",
       "0       Collector   6,441,993.94          6623550          -2.82\n",
       "1         Freeway  14,257,957.00         14084500           1.22\n",
       "2           Local   4,735,795.87          4655830           1.69\n",
       "3  Major Arterial  13,835,060.62         15284820         -10.48\n",
       "4  Minor Arterial  13,151,478.38         13397660          -1.87"
      ]
     },
     "execution_count": 32,
     "metadata": {},
     "output_type": "execute_result"
    }
   ],
   "source": [
    "#hide_input\n",
    "\n",
    "hwy_2016_v6_counts['FCGroup_Tag'] = case_when(hwy_2016_v6_counts, {\n",
    "    _.FCGROUP ==1 : \"Freeway\",\n",
    "    _.FCGROUP ==2 : \"Major Arterial\",\n",
    "    _.FCGROUP ==3: \"Minor Arterial\",\n",
    "    _.FCGROUP ==4: \"Collector\",\n",
    "    _.FCGROUP ==5: \"Local\",\n",
    "    True: \"CC\"\n",
    "})\n",
    "\n",
    "tot_vol_fcgroup_v6 = (\n",
    "hwy_2016_v6_counts \n",
    "    >>group_by(_.FCGroup_Tag)\n",
    "    >>filter(_.FCGroup_Tag !=\"CC\")\n",
    "    >>summarize(Total_Flow_v6 = _.ToTDlyVol.sum(),\n",
    "               Total_Counts_v6 = _.Daily_Counts.sum())\n",
    "    >>mutate(PctDifference = (_.Total_Flow_v6 - _.Total_Counts_v6)/_.Total_Flow_v6*100)\n",
    ")\n",
    "tot_vol_fcgroup_v6"
   ]
  },
  {
   "cell_type": "markdown",
   "metadata": {},
   "source": [
    "## TRMG2"
   ]
  },
  {
   "cell_type": "markdown",
   "metadata": {},
   "source": []
  }
 ],
 "metadata": {
  "kernelspec": {
   "display_name": "Python 3",
   "language": "python",
   "name": "python3"
  },
  "language_info": {
   "codemirror_mode": {
    "name": "ipython",
    "version": 3
   },
   "file_extension": ".py",
   "mimetype": "text/x-python",
   "name": "python",
   "nbconvert_exporter": "python",
   "pygments_lexer": "ipython3",
   "version": "3.8.5"
  }
 },
 "nbformat": 4,
 "nbformat_minor": 4
}
