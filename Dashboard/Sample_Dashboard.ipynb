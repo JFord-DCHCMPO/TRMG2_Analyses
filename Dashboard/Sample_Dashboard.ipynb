{
 "cells": [
  {
   "cell_type": "markdown",
   "metadata": {},
   "source": []
  },
  {
   "cell_type": "code",
   "execution_count": 18,
   "metadata": {},
   "outputs": [],
   "source": [
    "import caliper, caliperpy, traceback, sys\n",
    "import os\n",
    "import sys\n",
    "path = \"c:/Users/JacobFo/OneDrive - City of Durham/Python/TRMG2/TRMG2_Analyses\"\n",
    "os.chdir(path)\n",
    "\n",
    "\n",
    "import caliper, caliperpy, traceback, sys\n",
    "import numpy as np\n",
    "import pandas as pd\n",
    "from siuba import *\n",
    "from siuba import group_by, summarize, _\n",
    "from plotnine import ggplot, aes, geom_line\n",
    "import voila\n",
    "from plotnine import *\n",
    "\n",
    "from shared_utils import geography_utils\n",
    "\n",
    "\n",
    "pd.set_option('display.float_format', lambda x: '%.3f' % x)\n",
    "#git instructions - open terminal in jupyternotebook\n",
    "## cd \"C:/Users/JacobFo/OneDrive - City of Durham/Python/TRMG2\"\n",
    "dk = caliperpy.TransCAD.connect()"
   ]
  },
  {
   "cell_type": "code",
   "execution_count": 17,
   "metadata": {},
   "outputs": [],
   "source": [
    "##TRMG2\n",
    "\n",
    "path = \"c:/Users/JacobFo/TRMG2_v0.2/scenarios/base_2016/output/networks/scenario_links.bin\"\n",
    "hwy_2016_g2 = dk.GetDataFrameFromBin(path)\n",
    "\n",
    "hwy_2016_g2['Total_Transit_Flow'] = hwy_2016_g2['AB_Total_TransitFlow'] + hwy_2016_g2['BA_Total_TransitFlow']\n",
    "\n",
    "##Load TRMv6.2\n",
    "\n",
    "path = \"c:/Users/JacobFo/OneDrive - City of Durham/Full Model Runs/Original TRMv6.2_2016 - Copy/\"\n",
    "inpFname =  os.path.join(path, \"Input/Highway/Highway_Line.bin\")\n",
    "hwy_2016_v6 = dk.GetDataFrameFromBin(inpFname)\n",
    "\n",
    "replace_nas = hwy_2016_v6\n",
    "\n",
    "replace_nas.fillna(value = 0,inplace = True)\n",
    "\n",
    "replace_nas['TotVMT'] = replace_nas['ABAMVMT']+replace_nas['ABMDVMT']+replace_nas['ABNTVMT']+replace_nas['ABPMVMT']+replace_nas['BAAMVMT']+replace_nas['BAMDVMT']+replace_nas['BANTVMT']+replace_nas['BAPMVMT']\n",
    "\n",
    "replace_nas['TotVHT'] = replace_nas['ABAMVHT']+replace_nas['ABMDVHT']+replace_nas['ABNTVHT']+replace_nas['ABPMVHT']+replace_nas['BAAMVHT']+replace_nas['BAMDVHT']+replace_nas['BANTVHT']+replace_nas['BAPMVHT']\n",
    "\n",
    "path = \"c:/Users/JacobFo/OneDrive - City of Durham/Full Model Runs/Original TRMv6.2_2016 - Copy/\"\n",
    "inpFname =  os.path.join(path, \"EvalModule/TRM6_Count_2016_Observed.bin\")\n",
    "count = dk.GetDataFrameFromBin(inpFname)\n",
    "\n",
    "temp = (\n",
    "count \n",
    "    >>select(_.ID, _.Daily_Counts)\n",
    ")\n",
    "\n",
    "temp = pd.merge(replace_nas, temp)\n",
    "\n",
    "hwy_2016_v6_counts = (\n",
    "temp\n",
    "    >>filter(_.Daily_Counts > 0)\n",
    ")\n",
    "\n",
    "\n",
    "\n",
    "pd.set_option('display.float_format', lambda x: '%.3f' % x)"
   ]
  },
  {
   "cell_type": "code",
   "execution_count": null,
   "metadata": {},
   "outputs": [],
   "source": [
    "path = \"c:/Users/JacobFo/TRMG2_v0.2/scenarios/base_2016/output/networks/\"\n",
    "inpFname =  os.path.join(path, \"scenario_links.bin\")\n",
    "hwy_2016_g2 = dk.GetDataFrameFromBin(inpFname)\n",
    "\n",
    "hwy_2016_g2['Total_Transit_Flow'] = hwy_2016_g2['AB_Total_TransitFlow'] + hwy_2016_g2['BA_Total_TransitFlow']\n",
    "\n",
    "path = \"c:/Users/JacobFo/OneDrive - City of Durham/Full Model Runs/Original TRMv6.2_2016 - Copy/\"\n",
    "inpFname =  os.path.join(path, \"Input/Highway/Highway_Line.bin\")\n",
    "hwy_2016_v6 = dk.GetDataFrameFromBin(inpFname)\n",
    "\n",
    "replace_nas = hwy_2016_v6\n",
    "\n",
    "replace_nas.fillna(value = 0,inplace = True)\n",
    "\n",
    "replace_nas['TotVMT'] = replace_nas['ABAMVMT']+replace_nas['ABMDVMT']+replace_nas['ABNTVMT']+replace_nas['ABPMVMT']+replace_nas['BAAMVMT']+replace_nas['BAMDVMT']+replace_nas['BANTVMT']+replace_nas['BAPMVMT']\n",
    "\n",
    "replace_nas['TotVHT'] = replace_nas['ABAMVHT']+replace_nas['ABMDVHT']+replace_nas['ABNTVHT']+replace_nas['ABPMVHT']+replace_nas['BAAMVHT']+replace_nas['BAMDVHT']+replace_nas['BANTVHT']+replace_nas['BAPMVHT']\n",
    "\n"
   ]
  },
  {
   "cell_type": "code",
   "execution_count": null,
   "metadata": {},
   "outputs": [
    {
     "data": {
      "text/html": [
       "<div>\n",
       "<style scoped>\n",
       "    .dataframe tbody tr th:only-of-type {\n",
       "        vertical-align: middle;\n",
       "    }\n",
       "\n",
       "    .dataframe tbody tr th {\n",
       "        vertical-align: top;\n",
       "    }\n",
       "\n",
       "    .dataframe thead th {\n",
       "        text-align: right;\n",
       "    }\n",
       "</style>\n",
       "<table border=\"1\" class=\"dataframe\">\n",
       "  <thead>\n",
       "    <tr style=\"text-align: right;\">\n",
       "      <th></th>\n",
       "      <th>ID</th>\n",
       "      <th>ABLanes</th>\n",
       "      <th>BALanes</th>\n",
       "      <th>PostedSpeed</th>\n",
       "      <th>BOSSS</th>\n",
       "      <th>TollCostT</th>\n",
       "      <th>TollCostNT</th>\n",
       "      <th>DailyCount</th>\n",
       "      <th>DailyCountSUT</th>\n",
       "      <th>DailyCountMUT</th>\n",
       "      <th>...</th>\n",
       "      <th>BA_Access_Walk_Flow</th>\n",
       "      <th>AB_Xfer_Walk_Flow</th>\n",
       "      <th>BA_Xfer_Walk_Flow</th>\n",
       "      <th>AB_Egress_Walk_Flow</th>\n",
       "      <th>BA_Egress_Walk_Flow</th>\n",
       "      <th>AB_Walk_Flow</th>\n",
       "      <th>BA_Walk_Flow</th>\n",
       "      <th>AB_Drive_Flow</th>\n",
       "      <th>BA_Drive_Flow</th>\n",
       "      <th>Total_Transit_Flow</th>\n",
       "    </tr>\n",
       "  </thead>\n",
       "  <tbody>\n",
       "    <tr>\n",
       "      <th>count</th>\n",
       "      <td>127834.000</td>\n",
       "      <td>41811.000</td>\n",
       "      <td>41795.000</td>\n",
       "      <td>41882.000</td>\n",
       "      <td>150.000</td>\n",
       "      <td>127386.000</td>\n",
       "      <td>127386.000</td>\n",
       "      <td>4600.000</td>\n",
       "      <td>729.000</td>\n",
       "      <td>729.000</td>\n",
       "      <td>...</td>\n",
       "      <td>42250.000</td>\n",
       "      <td>42250.000</td>\n",
       "      <td>42250.000</td>\n",
       "      <td>42250.000</td>\n",
       "      <td>42250.000</td>\n",
       "      <td>40943.000</td>\n",
       "      <td>40943.000</td>\n",
       "      <td>40943.000</td>\n",
       "      <td>40943.000</td>\n",
       "      <td>42250.000</td>\n",
       "    </tr>\n",
       "    <tr>\n",
       "      <th>mean</th>\n",
       "      <td>5101.250</td>\n",
       "      <td>1.186</td>\n",
       "      <td>1.029</td>\n",
       "      <td>41.539</td>\n",
       "      <td>35.000</td>\n",
       "      <td>0.000</td>\n",
       "      <td>0.000</td>\n",
       "      <td>12087.463</td>\n",
       "      <td>476.619</td>\n",
       "      <td>297.857</td>\n",
       "      <td>...</td>\n",
       "      <td>2.993</td>\n",
       "      <td>0.317</td>\n",
       "      <td>0.237</td>\n",
       "      <td>3.755</td>\n",
       "      <td>4.873</td>\n",
       "      <td>0.546</td>\n",
       "      <td>0.608</td>\n",
       "      <td>7.366</td>\n",
       "      <td>4.832</td>\n",
       "      <td>123.649</td>\n",
       "    </tr>\n",
       "    <tr>\n",
       "      <th>std</th>\n",
       "      <td>43543.253</td>\n",
       "      <td>0.502</td>\n",
       "      <td>0.475</td>\n",
       "      <td>10.989</td>\n",
       "      <td>0.000</td>\n",
       "      <td>0.008</td>\n",
       "      <td>0.012</td>\n",
       "      <td>13962.623</td>\n",
       "      <td>513.941</td>\n",
       "      <td>598.739</td>\n",
       "      <td>...</td>\n",
       "      <td>23.934</td>\n",
       "      <td>5.461</td>\n",
       "      <td>3.776</td>\n",
       "      <td>22.699</td>\n",
       "      <td>34.123</td>\n",
       "      <td>11.059</td>\n",
       "      <td>17.512</td>\n",
       "      <td>45.903</td>\n",
       "      <td>36.866</td>\n",
       "      <td>463.742</td>\n",
       "    </tr>\n",
       "    <tr>\n",
       "      <th>min</th>\n",
       "      <td>1.000</td>\n",
       "      <td>0.000</td>\n",
       "      <td>0.000</td>\n",
       "      <td>0.000</td>\n",
       "      <td>35.000</td>\n",
       "      <td>0.000</td>\n",
       "      <td>0.000</td>\n",
       "      <td>90.000</td>\n",
       "      <td>10.000</td>\n",
       "      <td>0.000</td>\n",
       "      <td>...</td>\n",
       "      <td>0.000</td>\n",
       "      <td>0.000</td>\n",
       "      <td>0.000</td>\n",
       "      <td>0.000</td>\n",
       "      <td>0.000</td>\n",
       "      <td>0.000</td>\n",
       "      <td>0.000</td>\n",
       "      <td>0.000</td>\n",
       "      <td>0.000</td>\n",
       "      <td>0.000</td>\n",
       "    </tr>\n",
       "    <tr>\n",
       "      <th>25%</th>\n",
       "      <td>75126.250</td>\n",
       "      <td>1.000</td>\n",
       "      <td>1.000</td>\n",
       "      <td>35.000</td>\n",
       "      <td>35.000</td>\n",
       "      <td>0.000</td>\n",
       "      <td>0.000</td>\n",
       "      <td>2600.000</td>\n",
       "      <td>130.000</td>\n",
       "      <td>18.000</td>\n",
       "      <td>...</td>\n",
       "      <td>0.000</td>\n",
       "      <td>0.000</td>\n",
       "      <td>0.000</td>\n",
       "      <td>0.000</td>\n",
       "      <td>0.000</td>\n",
       "      <td>0.000</td>\n",
       "      <td>0.000</td>\n",
       "      <td>0.001</td>\n",
       "      <td>0.000</td>\n",
       "      <td>0.373</td>\n",
       "    </tr>\n",
       "    <tr>\n",
       "      <th>50%</th>\n",
       "      <td>107888.500</td>\n",
       "      <td>1.000</td>\n",
       "      <td>1.000</td>\n",
       "      <td>45.000</td>\n",
       "      <td>35.000</td>\n",
       "      <td>0.000</td>\n",
       "      <td>0.000</td>\n",
       "      <td>7700.000</td>\n",
       "      <td>320.000</td>\n",
       "      <td>69.000</td>\n",
       "      <td>...</td>\n",
       "      <td>0.000</td>\n",
       "      <td>0.000</td>\n",
       "      <td>0.000</td>\n",
       "      <td>0.000</td>\n",
       "      <td>0.000</td>\n",
       "      <td>0.000</td>\n",
       "      <td>0.000</td>\n",
       "      <td>0.208</td>\n",
       "      <td>0.090</td>\n",
       "      <td>3.133</td>\n",
       "    </tr>\n",
       "    <tr>\n",
       "      <th>75%</th>\n",
       "      <td>140318.750</td>\n",
       "      <td>1.000</td>\n",
       "      <td>1.000</td>\n",
       "      <td>45.000</td>\n",
       "      <td>35.000</td>\n",
       "      <td>0.000</td>\n",
       "      <td>0.000</td>\n",
       "      <td>16000.000</td>\n",
       "      <td>610.000</td>\n",
       "      <td>250.000</td>\n",
       "      <td>...</td>\n",
       "      <td>0.022</td>\n",
       "      <td>0.000</td>\n",
       "      <td>0.000</td>\n",
       "      <td>0.097</td>\n",
       "      <td>0.462</td>\n",
       "      <td>0.003</td>\n",
       "      <td>0.003</td>\n",
       "      <td>1.658</td>\n",
       "      <td>0.932</td>\n",
       "      <td>30.800</td>\n",
       "    </tr>\n",
       "    <tr>\n",
       "      <th>max</th>\n",
       "      <td>192729.000</td>\n",
       "      <td>5.000</td>\n",
       "      <td>4.000</td>\n",
       "      <td>70.000</td>\n",
       "      <td>35.000</td>\n",
       "      <td>0.950</td>\n",
       "      <td>1.450</td>\n",
       "      <td>117000.000</td>\n",
       "      <td>4860.000</td>\n",
       "      <td>4070.000</td>\n",
       "      <td>...</td>\n",
       "      <td>2062.940</td>\n",
       "      <td>353.871</td>\n",
       "      <td>272.647</td>\n",
       "      <td>1458.040</td>\n",
       "      <td>2360.850</td>\n",
       "      <td>867.053</td>\n",
       "      <td>2062.940</td>\n",
       "      <td>1862.760</td>\n",
       "      <td>2062.940</td>\n",
       "      <td>9480.881</td>\n",
       "    </tr>\n",
       "  </tbody>\n",
       "</table>\n",
       "<p>8 rows × 497 columns</p>\n",
       "</div>"
      ],
      "text/plain": [
       "              ID   ABLanes   BALanes  PostedSpeed   BOSSS  TollCostT  \\\n",
       "count 127834.000 41811.000 41795.000    41882.000 150.000 127386.000   \n",
       "mean    5101.250     1.186     1.029       41.539  35.000      0.000   \n",
       "std    43543.253     0.502     0.475       10.989   0.000      0.008   \n",
       "min        1.000     0.000     0.000        0.000  35.000      0.000   \n",
       "25%    75126.250     1.000     1.000       35.000  35.000      0.000   \n",
       "50%   107888.500     1.000     1.000       45.000  35.000      0.000   \n",
       "75%   140318.750     1.000     1.000       45.000  35.000      0.000   \n",
       "max   192729.000     5.000     4.000       70.000  35.000      0.950   \n",
       "\n",
       "       TollCostNT  DailyCount  DailyCountSUT  DailyCountMUT  ...  \\\n",
       "count  127386.000    4600.000        729.000        729.000  ...   \n",
       "mean        0.000   12087.463        476.619        297.857  ...   \n",
       "std         0.012   13962.623        513.941        598.739  ...   \n",
       "min         0.000      90.000         10.000          0.000  ...   \n",
       "25%         0.000    2600.000        130.000         18.000  ...   \n",
       "50%         0.000    7700.000        320.000         69.000  ...   \n",
       "75%         0.000   16000.000        610.000        250.000  ...   \n",
       "max         1.450  117000.000       4860.000       4070.000  ...   \n",
       "\n",
       "       BA_Access_Walk_Flow  AB_Xfer_Walk_Flow  BA_Xfer_Walk_Flow  \\\n",
       "count            42250.000          42250.000          42250.000   \n",
       "mean                 2.993              0.317              0.237   \n",
       "std                 23.934              5.461              3.776   \n",
       "min                  0.000              0.000              0.000   \n",
       "25%                  0.000              0.000              0.000   \n",
       "50%                  0.000              0.000              0.000   \n",
       "75%                  0.022              0.000              0.000   \n",
       "max               2062.940            353.871            272.647   \n",
       "\n",
       "       AB_Egress_Walk_Flow  BA_Egress_Walk_Flow  AB_Walk_Flow  BA_Walk_Flow  \\\n",
       "count            42250.000            42250.000     40943.000     40943.000   \n",
       "mean                 3.755                4.873         0.546         0.608   \n",
       "std                 22.699               34.123        11.059        17.512   \n",
       "min                  0.000                0.000         0.000         0.000   \n",
       "25%                  0.000                0.000         0.000         0.000   \n",
       "50%                  0.000                0.000         0.000         0.000   \n",
       "75%                  0.097                0.462         0.003         0.003   \n",
       "max               1458.040             2360.850       867.053      2062.940   \n",
       "\n",
       "       AB_Drive_Flow  BA_Drive_Flow  Total_Transit_Flow  \n",
       "count      40943.000      40943.000           42250.000  \n",
       "mean           7.366          4.832             123.649  \n",
       "std           45.903         36.866             463.742  \n",
       "min            0.000          0.000               0.000  \n",
       "25%            0.001          0.000               0.373  \n",
       "50%            0.208          0.090               3.133  \n",
       "75%            1.658          0.932              30.800  \n",
       "max         1862.760       2062.940            9480.881  \n",
       "\n",
       "[8 rows x 497 columns]"
      ]
     },
     "execution_count": 3,
     "metadata": {},
     "output_type": "execute_result"
    }
   ],
   "source": []
  },
  {
   "cell_type": "markdown",
   "metadata": {},
   "source": [
    "## How to use this tool:\n",
    "aggregate_by_geo is basically a pivot + summarize function for any category in the TRMG2, making it easy to quickly summarize model outputs\n",
    "\n",
    "example: VMT statistics by County:\n"
   ]
  },
  {
   "cell_type": "code",
   "execution_count": null,
   "metadata": {},
   "outputs": [
    {
     "data": {
      "text/html": [
       "<div>\n",
       "<style scoped>\n",
       "    .dataframe tbody tr th:only-of-type {\n",
       "        vertical-align: middle;\n",
       "    }\n",
       "\n",
       "    .dataframe tbody tr th {\n",
       "        vertical-align: top;\n",
       "    }\n",
       "\n",
       "    .dataframe thead th {\n",
       "        text-align: right;\n",
       "    }\n",
       "</style>\n",
       "<table border=\"1\" class=\"dataframe\">\n",
       "  <thead>\n",
       "    <tr style=\"text-align: right;\">\n",
       "      <th></th>\n",
       "      <th>MPO</th>\n",
       "      <th>Sum Total Flow</th>\n",
       "      <th>Mean Flow</th>\n",
       "    </tr>\n",
       "  </thead>\n",
       "  <tbody>\n",
       "    <tr>\n",
       "      <th>0</th>\n",
       "      <td>CAMPO</td>\n",
       "      <td>194180089.684</td>\n",
       "      <td>2542.356</td>\n",
       "    </tr>\n",
       "    <tr>\n",
       "      <th>1</th>\n",
       "      <td>None</td>\n",
       "      <td>29152304.511</td>\n",
       "      <td>1274.529</td>\n",
       "    </tr>\n",
       "    <tr>\n",
       "      <th>2</th>\n",
       "      <td>DCHC</td>\n",
       "      <td>82426605.274</td>\n",
       "      <td>2930.828</td>\n",
       "    </tr>\n",
       "    <tr>\n",
       "      <th>3</th>\n",
       "      <td>None</td>\n",
       "      <td>NaN</td>\n",
       "      <td>NaN</td>\n",
       "    </tr>\n",
       "  </tbody>\n",
       "</table>\n",
       "</div>"
      ],
      "text/plain": [
       "     MPO  Sum Total Flow  Mean Flow\n",
       "0  CAMPO   194180089.684   2542.356\n",
       "1   None    29152304.511   1274.529\n",
       "2   DCHC    82426605.274   2930.828\n",
       "3   None             NaN        NaN"
      ]
     },
     "execution_count": 7,
     "metadata": {},
     "output_type": "execute_result"
    }
   ],
   "source": [
    "group_cols = [\"MPO\"]\n",
    "sum_cols = [\"Total_Flow_Daily\"]\n",
    "mean_cols = [\"Total_Flow_Daily\"]\n",
    "\n",
    "\n",
    "\n",
    "by_county = geography_utils.aggregate_by_geography(\n",
    "    hwy_2016_g2,\n",
    "    group_cols=group_cols,\n",
    "    sum_cols = sum_cols,\n",
    "    mean_cols=mean_cols,\n",
    "\n",
    "\n",
    ")\n",
    "\n",
    "by_county =   by_county.rename(columns={'Total_Flow_Daily_x': 'Sum Total Flow'})\n",
    "by_county = by_county.rename(columns={'Total_Flow_Daily_y': 'Mean Flow'})\n",
    "by_county"
   ]
  },
  {
   "cell_type": "code",
   "execution_count": null,
   "metadata": {},
   "outputs": [
    {
     "data": {
      "text/html": [
       "<div>\n",
       "<style scoped>\n",
       "    .dataframe tbody tr th:only-of-type {\n",
       "        vertical-align: middle;\n",
       "    }\n",
       "\n",
       "    .dataframe tbody tr th {\n",
       "        vertical-align: top;\n",
       "    }\n",
       "\n",
       "    .dataframe thead th {\n",
       "        text-align: right;\n",
       "    }\n",
       "</style>\n",
       "<table border=\"1\" class=\"dataframe\">\n",
       "  <thead>\n",
       "    <tr style=\"text-align: right;\">\n",
       "      <th></th>\n",
       "      <th>County</th>\n",
       "      <th>Total_Flow_Daily</th>\n",
       "      <th>Total_Transit_Flow</th>\n",
       "    </tr>\n",
       "  </thead>\n",
       "  <tbody>\n",
       "    <tr>\n",
       "      <th>0</th>\n",
       "      <td>Wake</td>\n",
       "      <td>172314595.946</td>\n",
       "      <td>2291254.297</td>\n",
       "    </tr>\n",
       "    <tr>\n",
       "      <th>1</th>\n",
       "      <td>Franklin</td>\n",
       "      <td>8323252.440</td>\n",
       "      <td>816.044</td>\n",
       "    </tr>\n",
       "    <tr>\n",
       "      <th>2</th>\n",
       "      <td>Johnston</td>\n",
       "      <td>19573688.226</td>\n",
       "      <td>3795.042</td>\n",
       "    </tr>\n",
       "    <tr>\n",
       "      <th>3</th>\n",
       "      <td>Chatham</td>\n",
       "      <td>5943315.381</td>\n",
       "      <td>21861.593</td>\n",
       "    </tr>\n",
       "    <tr>\n",
       "      <th>4</th>\n",
       "      <td>Durham</td>\n",
       "      <td>60486993.379</td>\n",
       "      <td>1753258.226</td>\n",
       "    </tr>\n",
       "    <tr>\n",
       "      <th>5</th>\n",
       "      <td>Nash</td>\n",
       "      <td>388466.360</td>\n",
       "      <td>41.788</td>\n",
       "    </tr>\n",
       "    <tr>\n",
       "      <th>6</th>\n",
       "      <td>Harnett</td>\n",
       "      <td>4795670.687</td>\n",
       "      <td>335.557</td>\n",
       "    </tr>\n",
       "    <tr>\n",
       "      <th>7</th>\n",
       "      <td>Orange</td>\n",
       "      <td>22718823.814</td>\n",
       "      <td>1142658.629</td>\n",
       "    </tr>\n",
       "    <tr>\n",
       "      <th>8</th>\n",
       "      <td>Alamance</td>\n",
       "      <td>5365310.614</td>\n",
       "      <td>8295.431</td>\n",
       "    </tr>\n",
       "    <tr>\n",
       "      <th>9</th>\n",
       "      <td>Granville</td>\n",
       "      <td>3324355.446</td>\n",
       "      <td>1282.284</td>\n",
       "    </tr>\n",
       "    <tr>\n",
       "      <th>10</th>\n",
       "      <td>Person</td>\n",
       "      <td>2524527.179</td>\n",
       "      <td>450.383</td>\n",
       "    </tr>\n",
       "    <tr>\n",
       "      <th>11</th>\n",
       "      <td>None</td>\n",
       "      <td>NaN</td>\n",
       "      <td>NaN</td>\n",
       "    </tr>\n",
       "  </tbody>\n",
       "</table>\n",
       "</div>"
      ],
      "text/plain": [
       "       County  Total_Flow_Daily  Total_Transit_Flow\n",
       "0        Wake     172314595.946         2291254.297\n",
       "1    Franklin       8323252.440             816.044\n",
       "2    Johnston      19573688.226            3795.042\n",
       "3     Chatham       5943315.381           21861.593\n",
       "4      Durham      60486993.379         1753258.226\n",
       "5        Nash        388466.360              41.788\n",
       "6     Harnett       4795670.687             335.557\n",
       "7      Orange      22718823.814         1142658.629\n",
       "8    Alamance       5365310.614            8295.431\n",
       "9   Granville       3324355.446            1282.284\n",
       "10     Person       2524527.179             450.383\n",
       "11       None               NaN                 NaN"
      ]
     },
     "execution_count": 3,
     "metadata": {},
     "output_type": "execute_result"
    }
   ],
   "source": [
    "group_cols = [\"County\"]\n",
    "sum_cols = [\"Total_Transit_Flow\",\"Total_Flow_Daily\"]\n",
    "\n",
    "\n",
    "by_class = geography_utils.aggregate_by_geography(\n",
    "  # replace_nas[replace_nas.COUNTY.notna()], \n",
    "    hwy_2016_g2,\n",
    "    group_cols=group_cols,\n",
    "    sum_cols = sum_cols\n",
    "\n",
    "\n",
    ")\n",
    "\n",
    "by_class"
   ]
  },
  {
   "cell_type": "code",
   "execution_count": null,
   "metadata": {},
   "outputs": [
    {
     "ename": "ModuleNotFoundError",
     "evalue": "No module named 'plotly'",
     "output_type": "error",
     "traceback": [
      "\u001b[1;31m---------------------------------------------------------------------------\u001b[0m",
      "\u001b[1;31mModuleNotFoundError\u001b[0m                       Traceback (most recent call last)",
      "\u001b[1;32mc:\\Users\\JacobFo\\OneDrive - City of Durham\\Python\\TRMG2\\TRMG2_Analyses\\Dashboard\\Sample_Dashboard.ipynb Cell 8'\u001b[0m in \u001b[0;36m<module>\u001b[1;34m\u001b[0m\n\u001b[1;32m----> <a href='vscode-notebook-cell:/c%3A/Users/JacobFo/OneDrive%20-%20City%20of%20Durham/Python/TRMG2/TRMG2_Analyses/Dashboard/Sample_Dashboard.ipynb#ch0000007?line=0'>1</a>\u001b[0m \u001b[39mimport\u001b[39;00m \u001b[39mplotly\u001b[39;00m\n\u001b[0;32m      <a href='vscode-notebook-cell:/c%3A/Users/JacobFo/OneDrive%20-%20City%20of%20Durham/Python/TRMG2/TRMG2_Analyses/Dashboard/Sample_Dashboard.ipynb#ch0000007?line=1'>2</a>\u001b[0m \u001b[39mimport\u001b[39;00m \u001b[39mplotly\u001b[39;00m\u001b[39m.\u001b[39;00m\u001b[39mexpress\u001b[39;00m \u001b[39mas\u001b[39;00m \u001b[39mpx\u001b[39;00m\n\u001b[0;32m      <a href='vscode-notebook-cell:/c%3A/Users/JacobFo/OneDrive%20-%20City%20of%20Durham/Python/TRMG2/TRMG2_Analyses/Dashboard/Sample_Dashboard.ipynb#ch0000007?line=2'>3</a>\u001b[0m \u001b[39mimport\u001b[39;00m \u001b[39mvoila\u001b[39;00m\n",
      "\u001b[1;31mModuleNotFoundError\u001b[0m: No module named 'plotly'"
     ]
    }
   ],
   "source": [
    "import plotly\n",
    "import plotly.express as px\n",
    "import voila"
   ]
  },
  {
   "cell_type": "code",
   "execution_count": null,
   "metadata": {},
   "outputs": [
    {
     "data": {
      "application/vnd.plotly.v1+json": {
       "config": {
        "plotlyServerURL": "https://plot.ly"
       },
       "data": [
        {
         "alignmentgroup": "True",
         "hovertemplate": "County=%{x}<br>Total_Flow_Daily=%{y}<extra></extra>",
         "legendgroup": "",
         "marker": {
          "color": "#636efa",
          "pattern": {
           "shape": ""
          }
         },
         "name": "",
         "offsetgroup": "",
         "orientation": "v",
         "showlegend": false,
         "textposition": "auto",
         "type": "bar",
         "x": [
          "Wake",
          "Franklin",
          "Johnston",
          "Chatham",
          "Durham",
          "Nash",
          "Harnett",
          "Orange",
          "Alamance",
          "Granville",
          "Person",
          null
         ],
         "xaxis": "x",
         "y": [
          172314595.9458276,
          8323252.439524139,
          19573688.225790445,
          5943315.380546782,
          60486993.37854836,
          388466.360165164,
          4795670.686780654,
          22718823.81364966,
          5365310.613570725,
          3324355.446032476,
          2524527.178643885,
          null
         ],
         "yaxis": "y"
        }
       ],
       "layout": {
        "barmode": "relative",
        "legend": {
         "tracegroupgap": 0
        },
        "margin": {
         "t": 60
        },
        "template": {
         "data": {
          "bar": [
           {
            "error_x": {
             "color": "#2a3f5f"
            },
            "error_y": {
             "color": "#2a3f5f"
            },
            "marker": {
             "line": {
              "color": "#E5ECF6",
              "width": 0.5
             },
             "pattern": {
              "fillmode": "overlay",
              "size": 10,
              "solidity": 0.2
             }
            },
            "type": "bar"
           }
          ],
          "barpolar": [
           {
            "marker": {
             "line": {
              "color": "#E5ECF6",
              "width": 0.5
             },
             "pattern": {
              "fillmode": "overlay",
              "size": 10,
              "solidity": 0.2
             }
            },
            "type": "barpolar"
           }
          ],
          "carpet": [
           {
            "aaxis": {
             "endlinecolor": "#2a3f5f",
             "gridcolor": "white",
             "linecolor": "white",
             "minorgridcolor": "white",
             "startlinecolor": "#2a3f5f"
            },
            "baxis": {
             "endlinecolor": "#2a3f5f",
             "gridcolor": "white",
             "linecolor": "white",
             "minorgridcolor": "white",
             "startlinecolor": "#2a3f5f"
            },
            "type": "carpet"
           }
          ],
          "choropleth": [
           {
            "colorbar": {
             "outlinewidth": 0,
             "ticks": ""
            },
            "type": "choropleth"
           }
          ],
          "contour": [
           {
            "colorbar": {
             "outlinewidth": 0,
             "ticks": ""
            },
            "colorscale": [
             [
              0,
              "#0d0887"
             ],
             [
              0.1111111111111111,
              "#46039f"
             ],
             [
              0.2222222222222222,
              "#7201a8"
             ],
             [
              0.3333333333333333,
              "#9c179e"
             ],
             [
              0.4444444444444444,
              "#bd3786"
             ],
             [
              0.5555555555555556,
              "#d8576b"
             ],
             [
              0.6666666666666666,
              "#ed7953"
             ],
             [
              0.7777777777777778,
              "#fb9f3a"
             ],
             [
              0.8888888888888888,
              "#fdca26"
             ],
             [
              1,
              "#f0f921"
             ]
            ],
            "type": "contour"
           }
          ],
          "contourcarpet": [
           {
            "colorbar": {
             "outlinewidth": 0,
             "ticks": ""
            },
            "type": "contourcarpet"
           }
          ],
          "heatmap": [
           {
            "colorbar": {
             "outlinewidth": 0,
             "ticks": ""
            },
            "colorscale": [
             [
              0,
              "#0d0887"
             ],
             [
              0.1111111111111111,
              "#46039f"
             ],
             [
              0.2222222222222222,
              "#7201a8"
             ],
             [
              0.3333333333333333,
              "#9c179e"
             ],
             [
              0.4444444444444444,
              "#bd3786"
             ],
             [
              0.5555555555555556,
              "#d8576b"
             ],
             [
              0.6666666666666666,
              "#ed7953"
             ],
             [
              0.7777777777777778,
              "#fb9f3a"
             ],
             [
              0.8888888888888888,
              "#fdca26"
             ],
             [
              1,
              "#f0f921"
             ]
            ],
            "type": "heatmap"
           }
          ],
          "heatmapgl": [
           {
            "colorbar": {
             "outlinewidth": 0,
             "ticks": ""
            },
            "colorscale": [
             [
              0,
              "#0d0887"
             ],
             [
              0.1111111111111111,
              "#46039f"
             ],
             [
              0.2222222222222222,
              "#7201a8"
             ],
             [
              0.3333333333333333,
              "#9c179e"
             ],
             [
              0.4444444444444444,
              "#bd3786"
             ],
             [
              0.5555555555555556,
              "#d8576b"
             ],
             [
              0.6666666666666666,
              "#ed7953"
             ],
             [
              0.7777777777777778,
              "#fb9f3a"
             ],
             [
              0.8888888888888888,
              "#fdca26"
             ],
             [
              1,
              "#f0f921"
             ]
            ],
            "type": "heatmapgl"
           }
          ],
          "histogram": [
           {
            "marker": {
             "pattern": {
              "fillmode": "overlay",
              "size": 10,
              "solidity": 0.2
             }
            },
            "type": "histogram"
           }
          ],
          "histogram2d": [
           {
            "colorbar": {
             "outlinewidth": 0,
             "ticks": ""
            },
            "colorscale": [
             [
              0,
              "#0d0887"
             ],
             [
              0.1111111111111111,
              "#46039f"
             ],
             [
              0.2222222222222222,
              "#7201a8"
             ],
             [
              0.3333333333333333,
              "#9c179e"
             ],
             [
              0.4444444444444444,
              "#bd3786"
             ],
             [
              0.5555555555555556,
              "#d8576b"
             ],
             [
              0.6666666666666666,
              "#ed7953"
             ],
             [
              0.7777777777777778,
              "#fb9f3a"
             ],
             [
              0.8888888888888888,
              "#fdca26"
             ],
             [
              1,
              "#f0f921"
             ]
            ],
            "type": "histogram2d"
           }
          ],
          "histogram2dcontour": [
           {
            "colorbar": {
             "outlinewidth": 0,
             "ticks": ""
            },
            "colorscale": [
             [
              0,
              "#0d0887"
             ],
             [
              0.1111111111111111,
              "#46039f"
             ],
             [
              0.2222222222222222,
              "#7201a8"
             ],
             [
              0.3333333333333333,
              "#9c179e"
             ],
             [
              0.4444444444444444,
              "#bd3786"
             ],
             [
              0.5555555555555556,
              "#d8576b"
             ],
             [
              0.6666666666666666,
              "#ed7953"
             ],
             [
              0.7777777777777778,
              "#fb9f3a"
             ],
             [
              0.8888888888888888,
              "#fdca26"
             ],
             [
              1,
              "#f0f921"
             ]
            ],
            "type": "histogram2dcontour"
           }
          ],
          "mesh3d": [
           {
            "colorbar": {
             "outlinewidth": 0,
             "ticks": ""
            },
            "type": "mesh3d"
           }
          ],
          "parcoords": [
           {
            "line": {
             "colorbar": {
              "outlinewidth": 0,
              "ticks": ""
             }
            },
            "type": "parcoords"
           }
          ],
          "pie": [
           {
            "automargin": true,
            "type": "pie"
           }
          ],
          "scatter": [
           {
            "marker": {
             "colorbar": {
              "outlinewidth": 0,
              "ticks": ""
             }
            },
            "type": "scatter"
           }
          ],
          "scatter3d": [
           {
            "line": {
             "colorbar": {
              "outlinewidth": 0,
              "ticks": ""
             }
            },
            "marker": {
             "colorbar": {
              "outlinewidth": 0,
              "ticks": ""
             }
            },
            "type": "scatter3d"
           }
          ],
          "scattercarpet": [
           {
            "marker": {
             "colorbar": {
              "outlinewidth": 0,
              "ticks": ""
             }
            },
            "type": "scattercarpet"
           }
          ],
          "scattergeo": [
           {
            "marker": {
             "colorbar": {
              "outlinewidth": 0,
              "ticks": ""
             }
            },
            "type": "scattergeo"
           }
          ],
          "scattergl": [
           {
            "marker": {
             "colorbar": {
              "outlinewidth": 0,
              "ticks": ""
             }
            },
            "type": "scattergl"
           }
          ],
          "scattermapbox": [
           {
            "marker": {
             "colorbar": {
              "outlinewidth": 0,
              "ticks": ""
             }
            },
            "type": "scattermapbox"
           }
          ],
          "scatterpolar": [
           {
            "marker": {
             "colorbar": {
              "outlinewidth": 0,
              "ticks": ""
             }
            },
            "type": "scatterpolar"
           }
          ],
          "scatterpolargl": [
           {
            "marker": {
             "colorbar": {
              "outlinewidth": 0,
              "ticks": ""
             }
            },
            "type": "scatterpolargl"
           }
          ],
          "scatterternary": [
           {
            "marker": {
             "colorbar": {
              "outlinewidth": 0,
              "ticks": ""
             }
            },
            "type": "scatterternary"
           }
          ],
          "surface": [
           {
            "colorbar": {
             "outlinewidth": 0,
             "ticks": ""
            },
            "colorscale": [
             [
              0,
              "#0d0887"
             ],
             [
              0.1111111111111111,
              "#46039f"
             ],
             [
              0.2222222222222222,
              "#7201a8"
             ],
             [
              0.3333333333333333,
              "#9c179e"
             ],
             [
              0.4444444444444444,
              "#bd3786"
             ],
             [
              0.5555555555555556,
              "#d8576b"
             ],
             [
              0.6666666666666666,
              "#ed7953"
             ],
             [
              0.7777777777777778,
              "#fb9f3a"
             ],
             [
              0.8888888888888888,
              "#fdca26"
             ],
             [
              1,
              "#f0f921"
             ]
            ],
            "type": "surface"
           }
          ],
          "table": [
           {
            "cells": {
             "fill": {
              "color": "#EBF0F8"
             },
             "line": {
              "color": "white"
             }
            },
            "header": {
             "fill": {
              "color": "#C8D4E3"
             },
             "line": {
              "color": "white"
             }
            },
            "type": "table"
           }
          ]
         },
         "layout": {
          "annotationdefaults": {
           "arrowcolor": "#2a3f5f",
           "arrowhead": 0,
           "arrowwidth": 1
          },
          "autotypenumbers": "strict",
          "coloraxis": {
           "colorbar": {
            "outlinewidth": 0,
            "ticks": ""
           }
          },
          "colorscale": {
           "diverging": [
            [
             0,
             "#8e0152"
            ],
            [
             0.1,
             "#c51b7d"
            ],
            [
             0.2,
             "#de77ae"
            ],
            [
             0.3,
             "#f1b6da"
            ],
            [
             0.4,
             "#fde0ef"
            ],
            [
             0.5,
             "#f7f7f7"
            ],
            [
             0.6,
             "#e6f5d0"
            ],
            [
             0.7,
             "#b8e186"
            ],
            [
             0.8,
             "#7fbc41"
            ],
            [
             0.9,
             "#4d9221"
            ],
            [
             1,
             "#276419"
            ]
           ],
           "sequential": [
            [
             0,
             "#0d0887"
            ],
            [
             0.1111111111111111,
             "#46039f"
            ],
            [
             0.2222222222222222,
             "#7201a8"
            ],
            [
             0.3333333333333333,
             "#9c179e"
            ],
            [
             0.4444444444444444,
             "#bd3786"
            ],
            [
             0.5555555555555556,
             "#d8576b"
            ],
            [
             0.6666666666666666,
             "#ed7953"
            ],
            [
             0.7777777777777778,
             "#fb9f3a"
            ],
            [
             0.8888888888888888,
             "#fdca26"
            ],
            [
             1,
             "#f0f921"
            ]
           ],
           "sequentialminus": [
            [
             0,
             "#0d0887"
            ],
            [
             0.1111111111111111,
             "#46039f"
            ],
            [
             0.2222222222222222,
             "#7201a8"
            ],
            [
             0.3333333333333333,
             "#9c179e"
            ],
            [
             0.4444444444444444,
             "#bd3786"
            ],
            [
             0.5555555555555556,
             "#d8576b"
            ],
            [
             0.6666666666666666,
             "#ed7953"
            ],
            [
             0.7777777777777778,
             "#fb9f3a"
            ],
            [
             0.8888888888888888,
             "#fdca26"
            ],
            [
             1,
             "#f0f921"
            ]
           ]
          },
          "colorway": [
           "#636efa",
           "#EF553B",
           "#00cc96",
           "#ab63fa",
           "#FFA15A",
           "#19d3f3",
           "#FF6692",
           "#B6E880",
           "#FF97FF",
           "#FECB52"
          ],
          "font": {
           "color": "#2a3f5f"
          },
          "geo": {
           "bgcolor": "white",
           "lakecolor": "white",
           "landcolor": "#E5ECF6",
           "showlakes": true,
           "showland": true,
           "subunitcolor": "white"
          },
          "hoverlabel": {
           "align": "left"
          },
          "hovermode": "closest",
          "mapbox": {
           "style": "light"
          },
          "paper_bgcolor": "white",
          "plot_bgcolor": "#E5ECF6",
          "polar": {
           "angularaxis": {
            "gridcolor": "white",
            "linecolor": "white",
            "ticks": ""
           },
           "bgcolor": "#E5ECF6",
           "radialaxis": {
            "gridcolor": "white",
            "linecolor": "white",
            "ticks": ""
           }
          },
          "scene": {
           "xaxis": {
            "backgroundcolor": "#E5ECF6",
            "gridcolor": "white",
            "gridwidth": 2,
            "linecolor": "white",
            "showbackground": true,
            "ticks": "",
            "zerolinecolor": "white"
           },
           "yaxis": {
            "backgroundcolor": "#E5ECF6",
            "gridcolor": "white",
            "gridwidth": 2,
            "linecolor": "white",
            "showbackground": true,
            "ticks": "",
            "zerolinecolor": "white"
           },
           "zaxis": {
            "backgroundcolor": "#E5ECF6",
            "gridcolor": "white",
            "gridwidth": 2,
            "linecolor": "white",
            "showbackground": true,
            "ticks": "",
            "zerolinecolor": "white"
           }
          },
          "shapedefaults": {
           "line": {
            "color": "#2a3f5f"
           }
          },
          "ternary": {
           "aaxis": {
            "gridcolor": "white",
            "linecolor": "white",
            "ticks": ""
           },
           "baxis": {
            "gridcolor": "white",
            "linecolor": "white",
            "ticks": ""
           },
           "bgcolor": "#E5ECF6",
           "caxis": {
            "gridcolor": "white",
            "linecolor": "white",
            "ticks": ""
           }
          },
          "title": {
           "x": 0.05
          },
          "xaxis": {
           "automargin": true,
           "gridcolor": "white",
           "linecolor": "white",
           "ticks": "",
           "title": {
            "standoff": 15
           },
           "zerolinecolor": "white",
           "zerolinewidth": 2
          },
          "yaxis": {
           "automargin": true,
           "gridcolor": "white",
           "linecolor": "white",
           "ticks": "",
           "title": {
            "standoff": 15
           },
           "zerolinecolor": "white",
           "zerolinewidth": 2
          }
         }
        },
        "xaxis": {
         "anchor": "y",
         "domain": [
          0,
          1
         ],
         "title": {
          "text": "County"
         }
        },
        "yaxis": {
         "anchor": "x",
         "domain": [
          0,
          1
         ],
         "title": {
          "text": "Total_Flow_Daily"
         }
        }
       }
      }
     },
     "metadata": {},
     "output_type": "display_data"
    }
   ],
   "source": [
    "import plotly.express as px\n",
    "\n",
    "fig = px.bar(by_class,              # our dataframe\n",
    "       x=\"County\",         # x will be the 'key' column of the dataframe\n",
    "       y=\"Total_Flow_Daily\")\n",
    "\n",
    "fig.show()"
   ]
  },
  {
   "cell_type": "code",
   "execution_count": null,
   "metadata": {},
   "outputs": [],
   "source": []
  }
 ],
 "metadata": {
  "kernelspec": {
   "display_name": "Python 3",
   "language": "python",
   "name": "python3"
  },
  "language_info": {
   "codemirror_mode": {
    "name": "ipython",
    "version": 3
   },
   "file_extension": ".py",
   "mimetype": "text/x-python",
   "name": "python",
   "nbconvert_exporter": "python",
   "pygments_lexer": "ipython3",
   "version": "3.8.5"
  }
 },
 "nbformat": 4,
 "nbformat_minor": 4
}
