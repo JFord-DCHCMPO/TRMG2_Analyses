{
 "cells": [
  {
   "cell_type": "markdown",
   "metadata": {},
   "source": [
    "## This document demonstrates how to import the python caliper module. The requirements for the Caliperpy package is listed below, copied and pasted directly from the TransCAD 9.0 GISDK help manual:\n",
    "\n",
    "### TransCAD 9.0 Caliperpy installation instructions\n",
    "Installing the Caliper Python Module\n",
    "To program TransCAD in Python, you need:\n",
    "\n",
    "TransCAD Version 9 or later\n",
    "A Windows distribution of Python, version 3.x. At the time of writing, the latest Python version was 3.8. For example:\n",
    "Anaconda Python for Windows, download at https://www.anaconda.com/download/\n",
    "ActiveState Python, download at http://www.activestate.com/products/activepython\n",
    "The Caliper Python Installer: C:\\Program Files\\TransCAD 2020\\GISDK\\Samples\\Python\\CaliperPy-v[yyyy-mm].win-amd64.exe\n",
    " \n",
    "\n",
    "You can run the Caliper Python Installer once to install the CaliperPy package globally in your local Python program site-package folder.\n",
    "\n",
    " \n",
    "\n",
    "The CaliperPy module use DCOM as a connection between TransCAD and Python. That means that DCOM must be enabled on your computer, and that the security settings for the DCOM objects \"TransCAD.AutomationServer\" and \"TransCAD.AutomationServer (secondary)\" must allow launch and access by users of your computer."
   ]
  },
  {
   "cell_type": "code",
   "execution_count": 1,
   "metadata": {},
   "outputs": [],
   "source": [
    "import caliper, caliperpy, traceback, sys\n",
    "import numpy as np\n",
    "import pandas as pd\n",
    "import pandas as pd\n",
    "from siuba import *\n",
    "from siuba import group_by, summarize, _\n",
    "from plotnine import ggplot, aes, geom_line\n",
    "import os\n",
    "from plotnine import *\n",
    "\n",
    "pd.set_option('display.float_format', lambda x: '%.3f' % x)\n",
    "#git instructions - open terminal in jupyternotebook\n",
    "## cd \"C:/Users/JacobFo/OneDrive - City of Durham/Python/TRMG2\"\n"
   ]
  },
  {
   "cell_type": "code",
   "execution_count": 2,
   "metadata": {},
   "outputs": [
    {
     "name": "stdout",
     "output_type": "stream",
     "text": [
      "Connecting to TransCAD...\n"
     ]
    }
   ],
   "source": [
    "\n",
    "dk = caliperpy.TransCAD.connect()"
   ]
  },
  {
   "cell_type": "markdown",
   "metadata": {},
   "source": [
    "## Highway Assignment Checks TRMG2\n",
    "\n",
    "Goal: Replicate the current TRMv6.2 summary tool and evaluation report's key metrics, while developing tool to replicate in TRMG2 format. \n",
    "\n",
    "\n",
    "\n",
    " "
   ]
  },
  {
   "cell_type": "code",
   "execution_count": 3,
   "metadata": {},
   "outputs": [],
   "source": [
    "path = \"c:/Users/JacobFo/TRMG2_v0.1/scenarios/base_2016/output/networks/\"\n",
    "inpFname =  os.path.join(path, \"scenario_links.bin\")\n",
    "hwy_2016_g2 = dk.GetDataFrameFromBin(inpFname)\n",
    "\n",
    "\n",
    "\n",
    "path = \"c:/Users/JacobFo/OneDrive - City of Durham/Full Model Runs/Original TRMv6.2_2016 - Copy/\"\n",
    "inpFname =  os.path.join(path, \"Input/Highway/Highway_Line.bin\")\n",
    "hwy_2016_v6 = dk.GetDataFrameFromBin(inpFname)\n",
    "\n",
    "replace_nas = hwy_2016_v6\n",
    "\n",
    "replace_nas.fillna(value = 0,inplace = True)\n",
    "\n",
    "replace_nas['TotVMT'] = replace_nas['ABAMVMT']+replace_nas['ABMDVMT']+replace_nas['ABNTVMT']+replace_nas['ABPMVMT']+replace_nas['BAAMVMT']+replace_nas['BAMDVMT']+replace_nas['BANTVMT']+replace_nas['BAPMVMT']\n",
    "\n",
    "replace_nas['TotVHT'] = replace_nas['ABAMVHT']+replace_nas['ABMDVHT']+replace_nas['ABNTVHT']+replace_nas['ABPMVHT']+replace_nas['BAAMVHT']+replace_nas['BAMDVHT']+replace_nas['BANTVHT']+replace_nas['BAPMVHT']\n",
    "\n"
   ]
  },
  {
   "cell_type": "markdown",
   "metadata": {},
   "source": [
    "# Vehicle Miles Traveled "
   ]
  },
  {
   "cell_type": "markdown",
   "metadata": {},
   "source": [
    "### Total VMT: TRMv6.2\n"
   ]
  },
  {
   "cell_type": "code",
   "execution_count": 4,
   "metadata": {},
   "outputs": [
    {
     "data": {
      "text/plain": [
       "56927558.91335465"
      ]
     },
     "execution_count": 4,
     "metadata": {},
     "output_type": "execute_result"
    }
   ],
   "source": [
    "vmt_v6_total = replace_nas['TotVMT'].sum()\n",
    "vmt_v6_total"
   ]
  },
  {
   "cell_type": "markdown",
   "metadata": {},
   "source": [
    "### Total VMT: TRMG2"
   ]
  },
  {
   "cell_type": "code",
   "execution_count": 5,
   "metadata": {},
   "outputs": [
    {
     "data": {
      "text/plain": [
       "56941195.208005026"
      ]
     },
     "execution_count": 5,
     "metadata": {},
     "output_type": "execute_result"
    }
   ],
   "source": [
    "vmt_g2_total=hwy_2016_g2['Total_VMT_Daily'].sum()\n",
    "vmt_g2_total"
   ]
  },
  {
   "cell_type": "markdown",
   "metadata": {},
   "source": [
    "Percent Difference: (G2 - v6.2)/ G2"
   ]
  },
  {
   "cell_type": "code",
   "execution_count": 6,
   "metadata": {},
   "outputs": [
    {
     "data": {
      "text/plain": [
       "0.02394803024517265"
      ]
     },
     "execution_count": 6,
     "metadata": {},
     "output_type": "execute_result"
    }
   ],
   "source": [
    "((vmt_g2_total-vmt_v6_total)/vmt_g2_total)*100"
   ]
  },
  {
   "cell_type": "markdown",
   "metadata": {},
   "source": [
    "### Total VMT by MPO: TRMv6.2"
   ]
  },
  {
   "cell_type": "code",
   "execution_count": 7,
   "metadata": {},
   "outputs": [
    {
     "data": {
      "text/html": [
       "<div>\n",
       "<style scoped>\n",
       "    .dataframe tbody tr th:only-of-type {\n",
       "        vertical-align: middle;\n",
       "    }\n",
       "\n",
       "    .dataframe tbody tr th {\n",
       "        vertical-align: top;\n",
       "    }\n",
       "\n",
       "    .dataframe thead th {\n",
       "        text-align: right;\n",
       "    }\n",
       "</style>\n",
       "<table border=\"1\" class=\"dataframe\">\n",
       "  <thead>\n",
       "    <tr style=\"text-align: right;\">\n",
       "      <th></th>\n",
       "      <th>MPO</th>\n",
       "      <th>Total_VMT_v6</th>\n",
       "    </tr>\n",
       "  </thead>\n",
       "  <tbody>\n",
       "    <tr>\n",
       "      <th>0</th>\n",
       "      <td>0</td>\n",
       "      <td>7864112.068</td>\n",
       "    </tr>\n",
       "    <tr>\n",
       "      <th>1</th>\n",
       "      <td>1</td>\n",
       "      <td>34546729.400</td>\n",
       "    </tr>\n",
       "    <tr>\n",
       "      <th>2</th>\n",
       "      <td>2</td>\n",
       "      <td>14516717.446</td>\n",
       "    </tr>\n",
       "  </tbody>\n",
       "</table>\n",
       "</div>"
      ],
      "text/plain": [
       "   MPO  Total_VMT_v6\n",
       "0    0   7864112.068\n",
       "1    1  34546729.400\n",
       "2    2  14516717.446"
      ]
     },
     "execution_count": 7,
     "metadata": {},
     "output_type": "execute_result"
    }
   ],
   "source": [
    "vmt_mpo_v6 = (\n",
    "replace_nas \n",
    "    >>group_by(MPO = _.MPO)\n",
    "    >>summarize(Total_VMT_v6 = _.TotVMT.sum())\n",
    ")\n",
    "\n",
    "\n",
    "vmt_mpo_v6 = (\n",
    "vmt_mpo_v6\n",
    "    >>arrange(_.MPO)\n",
    ")\n",
    "\n",
    "\n",
    "vmt_mpo_v6"
   ]
  },
  {
   "cell_type": "markdown",
   "metadata": {},
   "source": [
    "### Total VMT by MPO: TRMG2\n",
    "\n",
    "- missing from TRMG2 line and TAZ layer, will need to circle around to tag"
   ]
  },
  {
   "cell_type": "markdown",
   "metadata": {},
   "source": [
    "### Total VMT by County"
   ]
  },
  {
   "cell_type": "code",
   "execution_count": 8,
   "metadata": {},
   "outputs": [
    {
     "data": {
      "text/html": [
       "<div>\n",
       "<style scoped>\n",
       "    .dataframe tbody tr th:only-of-type {\n",
       "        vertical-align: middle;\n",
       "    }\n",
       "\n",
       "    .dataframe tbody tr th {\n",
       "        vertical-align: top;\n",
       "    }\n",
       "\n",
       "    .dataframe thead th {\n",
       "        text-align: right;\n",
       "    }\n",
       "</style>\n",
       "<table border=\"1\" class=\"dataframe\">\n",
       "  <thead>\n",
       "    <tr style=\"text-align: right;\">\n",
       "      <th></th>\n",
       "      <th>County</th>\n",
       "      <th>Total_VMT_v6</th>\n",
       "      <th>Total_VMT_G2</th>\n",
       "      <th>Difference</th>\n",
       "      <th>PctDifference</th>\n",
       "    </tr>\n",
       "  </thead>\n",
       "  <tbody>\n",
       "    <tr>\n",
       "      <th>0</th>\n",
       "      <td>alamance</td>\n",
       "      <td>0.000</td>\n",
       "      <td>851441.856</td>\n",
       "      <td>851441.856</td>\n",
       "      <td>100.000</td>\n",
       "    </tr>\n",
       "    <tr>\n",
       "      <th>1</th>\n",
       "      <td>chatham</td>\n",
       "      <td>1887084.185</td>\n",
       "      <td>1773993.398</td>\n",
       "      <td>-113090.787</td>\n",
       "      <td>-6.375</td>\n",
       "    </tr>\n",
       "    <tr>\n",
       "      <th>2</th>\n",
       "      <td>durham</td>\n",
       "      <td>9579639.353</td>\n",
       "      <td>8975801.833</td>\n",
       "      <td>-603837.521</td>\n",
       "      <td>-6.727</td>\n",
       "    </tr>\n",
       "    <tr>\n",
       "      <th>3</th>\n",
       "      <td>external</td>\n",
       "      <td>145264.996</td>\n",
       "      <td>0.000</td>\n",
       "      <td>-145264.996</td>\n",
       "      <td>-inf</td>\n",
       "    </tr>\n",
       "    <tr>\n",
       "      <th>4</th>\n",
       "      <td>franklin</td>\n",
       "      <td>1482186.218</td>\n",
       "      <td>1542338.060</td>\n",
       "      <td>60151.842</td>\n",
       "      <td>3.900</td>\n",
       "    </tr>\n",
       "    <tr>\n",
       "      <th>5</th>\n",
       "      <td>granville</td>\n",
       "      <td>1311675.053</td>\n",
       "      <td>1244674.655</td>\n",
       "      <td>-67000.398</td>\n",
       "      <td>-5.383</td>\n",
       "    </tr>\n",
       "    <tr>\n",
       "      <th>6</th>\n",
       "      <td>harnett</td>\n",
       "      <td>1099687.873</td>\n",
       "      <td>1066412.661</td>\n",
       "      <td>-33275.212</td>\n",
       "      <td>-3.120</td>\n",
       "    </tr>\n",
       "    <tr>\n",
       "      <th>7</th>\n",
       "      <td>johnston</td>\n",
       "      <td>6071384.148</td>\n",
       "      <td>5836881.100</td>\n",
       "      <td>-234503.048</td>\n",
       "      <td>-4.018</td>\n",
       "    </tr>\n",
       "    <tr>\n",
       "      <th>8</th>\n",
       "      <td>nash</td>\n",
       "      <td>250834.738</td>\n",
       "      <td>205933.509</td>\n",
       "      <td>-44901.229</td>\n",
       "      <td>-21.804</td>\n",
       "    </tr>\n",
       "    <tr>\n",
       "      <th>9</th>\n",
       "      <td>orange</td>\n",
       "      <td>5220110.193</td>\n",
       "      <td>4675084.773</td>\n",
       "      <td>-545025.419</td>\n",
       "      <td>-11.658</td>\n",
       "    </tr>\n",
       "    <tr>\n",
       "      <th>10</th>\n",
       "      <td>person</td>\n",
       "      <td>726642.306</td>\n",
       "      <td>667434.874</td>\n",
       "      <td>-59207.432</td>\n",
       "      <td>-8.871</td>\n",
       "    </tr>\n",
       "    <tr>\n",
       "      <th>11</th>\n",
       "      <td>wake</td>\n",
       "      <td>29143576.437</td>\n",
       "      <td>29836148.628</td>\n",
       "      <td>692572.191</td>\n",
       "      <td>2.321</td>\n",
       "    </tr>\n",
       "  </tbody>\n",
       "</table>\n",
       "</div>"
      ],
      "text/plain": [
       "       County  Total_VMT_v6  Total_VMT_G2  Difference  PctDifference\n",
       "0    alamance         0.000    851441.856  851441.856        100.000\n",
       "1     chatham   1887084.185   1773993.398 -113090.787         -6.375\n",
       "2      durham   9579639.353   8975801.833 -603837.521         -6.727\n",
       "3    external    145264.996         0.000 -145264.996           -inf\n",
       "4    franklin   1482186.218   1542338.060   60151.842          3.900\n",
       "5   granville   1311675.053   1244674.655  -67000.398         -5.383\n",
       "6     harnett   1099687.873   1066412.661  -33275.212         -3.120\n",
       "7    johnston   6071384.148   5836881.100 -234503.048         -4.018\n",
       "8        nash    250834.738    205933.509  -44901.229        -21.804\n",
       "9      orange   5220110.193   4675084.773 -545025.419        -11.658\n",
       "10     person    726642.306    667434.874  -59207.432         -8.871\n",
       "11       wake  29143576.437  29836148.628  692572.191          2.321"
      ]
     },
     "execution_count": 8,
     "metadata": {},
     "output_type": "execute_result"
    }
   ],
   "source": [
    "\n",
    "replace_nas['New_County'] = replace_nas['COUNTY'].str.lower()\n",
    "\n",
    "vmt_county_v6 = (\n",
    "replace_nas \n",
    "    >>group_by(County = _.New_County)\n",
    "    >>summarize(Total_VMT_v6 = _.TotVMT.sum())\n",
    ")\n",
    "\n",
    "## add missing alamance to compare to TRMG2\n",
    "vmt_county_v6.loc[len(vmt_county_v6.index)] = ['alamance', 0] \n",
    "\n",
    "vmt_county_v6 = (\n",
    "vmt_county_v6\n",
    "    >>arrange(_.County)\n",
    ")\n",
    "\n",
    "\n",
    "\n",
    "\n",
    "hwy_2016_g2['New_County'] = hwy_2016_g2['County'].str.lower()\n",
    "\n",
    "vmt_county_g2 = (\n",
    "hwy_2016_g2 \n",
    "    >>group_by(County = _.New_County)\n",
    "    >>summarize(Total_VMT_G2 =_.Total_VMT_Daily.sum()              \n",
    "))\n",
    "\n",
    "vmt_county_g2.loc[len(vmt_county_g2.index)] = ['external', 0] \n",
    "\n",
    "vmt_county_g2 = (\n",
    "vmt_county_g2\n",
    "    >>arrange(_.County)\n",
    ")\n",
    "\n",
    "county_comparison = pd.merge(vmt_county_v6, vmt_county_g2, on=\"County\")\n",
    "county_comparison['Difference'] = county_comparison['Total_VMT_G2']-county_comparison['Total_VMT_v6']\n",
    "county_comparison['PctDifference'] = ((county_comparison['Total_VMT_G2']-county_comparison['Total_VMT_v6'])/county_comparison['Total_VMT_G2'])*100\n",
    "county_comparison"
   ]
  },
  {
   "cell_type": "code",
   "execution_count": 9,
   "metadata": {},
   "outputs": [
    {
     "data": {
      "image/png": "[encoded data removed]",
      "text/plain": [
       "<Figure size 640x480 with 1 Axes>"
      ]
     },
     "metadata": {},
     "output_type": "display_data"
    },
    {
     "data": {
      "text/plain": [
       "<ggplot: (95273172800)>"
      ]
     },
     "execution_count": 9,
     "metadata": {},
     "output_type": "execute_result"
    }
   ],
   "source": [
    "(\n",
    "county_comparison\n",
    "    >>arrange(-_.PctDifference)\n",
    "    >>filter(_.County !=\"alamance\")\n",
    "    >>filter(_.County !=\"external\")\n",
    "    >>ggplot(aes('reorder(County, PctDifference)', \"PctDifference\"))+geom_col()+ theme(axis_text_x = element_text(angle = 45 , hjust=1)) +ggtitle(\"VMT PCtDiffernce TRMG2 to TRMv6\")\n",
    "\n",
    ")\n"
   ]
  },
  {
   "cell_type": "markdown",
   "metadata": {},
   "source": [
    "# Vehicle Hours Traveled"
   ]
  },
  {
   "cell_type": "markdown",
   "metadata": {},
   "source": [
    "### Total VHT: TRMv6.2"
   ]
  },
  {
   "cell_type": "code",
   "execution_count": 10,
   "metadata": {},
   "outputs": [
    {
     "data": {
      "text/plain": [
       "1415882.0878761539"
      ]
     },
     "execution_count": 10,
     "metadata": {},
     "output_type": "execute_result"
    }
   ],
   "source": [
    "vht_v6_total = replace_nas['TotVHT'].sum()\n",
    "vht_v6_total"
   ]
  },
  {
   "cell_type": "markdown",
   "metadata": {},
   "source": [
    "### Total VHT: TRMG2"
   ]
  },
  {
   "cell_type": "code",
   "execution_count": 11,
   "metadata": {},
   "outputs": [
    {
     "data": {
      "text/plain": [
       "1207677.1703346632"
      ]
     },
     "execution_count": 11,
     "metadata": {},
     "output_type": "execute_result"
    }
   ],
   "source": [
    "vht_g2_total = hwy_2016_g2['Total_VHT_Daily'].sum()\n",
    "vht_g2_total"
   ]
  },
  {
   "cell_type": "markdown",
   "metadata": {},
   "source": [
    "### Total VHT by County"
   ]
  },
  {
   "cell_type": "code",
   "execution_count": 12,
   "metadata": {},
   "outputs": [
    {
     "data": {
      "text/html": [
       "<div>\n",
       "<style scoped>\n",
       "    .dataframe tbody tr th:only-of-type {\n",
       "        vertical-align: middle;\n",
       "    }\n",
       "\n",
       "    .dataframe tbody tr th {\n",
       "        vertical-align: top;\n",
       "    }\n",
       "\n",
       "    .dataframe thead th {\n",
       "        text-align: right;\n",
       "    }\n",
       "</style>\n",
       "<table border=\"1\" class=\"dataframe\">\n",
       "  <thead>\n",
       "    <tr style=\"text-align: right;\">\n",
       "      <th></th>\n",
       "      <th>County</th>\n",
       "      <th>Total_VHT_v6</th>\n",
       "      <th>Total_VHT_G2</th>\n",
       "      <th>Difference</th>\n",
       "      <th>PctDifference</th>\n",
       "    </tr>\n",
       "  </thead>\n",
       "  <tbody>\n",
       "    <tr>\n",
       "      <th>0</th>\n",
       "      <td>alamance</td>\n",
       "      <td>0.000</td>\n",
       "      <td>21148.201</td>\n",
       "      <td>21148.201</td>\n",
       "      <td>100.000</td>\n",
       "    </tr>\n",
       "    <tr>\n",
       "      <th>1</th>\n",
       "      <td>chatham</td>\n",
       "      <td>38290.331</td>\n",
       "      <td>33177.573</td>\n",
       "      <td>-5112.757</td>\n",
       "      <td>-15.410</td>\n",
       "    </tr>\n",
       "    <tr>\n",
       "      <th>2</th>\n",
       "      <td>durham</td>\n",
       "      <td>246640.255</td>\n",
       "      <td>196089.130</td>\n",
       "      <td>-50551.125</td>\n",
       "      <td>-25.780</td>\n",
       "    </tr>\n",
       "    <tr>\n",
       "      <th>3</th>\n",
       "      <td>external</td>\n",
       "      <td>3321.714</td>\n",
       "      <td>0.000</td>\n",
       "      <td>-3321.714</td>\n",
       "      <td>-inf</td>\n",
       "    </tr>\n",
       "    <tr>\n",
       "      <th>4</th>\n",
       "      <td>franklin</td>\n",
       "      <td>32199.822</td>\n",
       "      <td>30902.817</td>\n",
       "      <td>-1297.005</td>\n",
       "      <td>-4.197</td>\n",
       "    </tr>\n",
       "    <tr>\n",
       "      <th>5</th>\n",
       "      <td>granville</td>\n",
       "      <td>25698.701</td>\n",
       "      <td>23789.886</td>\n",
       "      <td>-1908.815</td>\n",
       "      <td>-8.024</td>\n",
       "    </tr>\n",
       "    <tr>\n",
       "      <th>6</th>\n",
       "      <td>harnett</td>\n",
       "      <td>24472.330</td>\n",
       "      <td>22667.775</td>\n",
       "      <td>-1804.555</td>\n",
       "      <td>-7.961</td>\n",
       "    </tr>\n",
       "    <tr>\n",
       "      <th>7</th>\n",
       "      <td>johnston</td>\n",
       "      <td>124541.795</td>\n",
       "      <td>108610.210</td>\n",
       "      <td>-15931.585</td>\n",
       "      <td>-14.669</td>\n",
       "    </tr>\n",
       "    <tr>\n",
       "      <th>8</th>\n",
       "      <td>nash</td>\n",
       "      <td>4109.596</td>\n",
       "      <td>3254.710</td>\n",
       "      <td>-854.886</td>\n",
       "      <td>-26.266</td>\n",
       "    </tr>\n",
       "    <tr>\n",
       "      <th>9</th>\n",
       "      <td>orange</td>\n",
       "      <td>122548.292</td>\n",
       "      <td>100386.650</td>\n",
       "      <td>-22161.642</td>\n",
       "      <td>-22.076</td>\n",
       "    </tr>\n",
       "    <tr>\n",
       "      <th>10</th>\n",
       "      <td>person</td>\n",
       "      <td>16593.205</td>\n",
       "      <td>14686.392</td>\n",
       "      <td>-1906.814</td>\n",
       "      <td>-12.984</td>\n",
       "    </tr>\n",
       "    <tr>\n",
       "      <th>11</th>\n",
       "      <td>wake</td>\n",
       "      <td>777193.904</td>\n",
       "      <td>647381.981</td>\n",
       "      <td>-129811.924</td>\n",
       "      <td>-20.052</td>\n",
       "    </tr>\n",
       "  </tbody>\n",
       "</table>\n",
       "</div>"
      ],
      "text/plain": [
       "       County  Total_VHT_v6  Total_VHT_G2  Difference  PctDifference\n",
       "0    alamance         0.000     21148.201   21148.201        100.000\n",
       "1     chatham     38290.331     33177.573   -5112.757        -15.410\n",
       "2      durham    246640.255    196089.130  -50551.125        -25.780\n",
       "3    external      3321.714         0.000   -3321.714           -inf\n",
       "4    franklin     32199.822     30902.817   -1297.005         -4.197\n",
       "5   granville     25698.701     23789.886   -1908.815         -8.024\n",
       "6     harnett     24472.330     22667.775   -1804.555         -7.961\n",
       "7    johnston    124541.795    108610.210  -15931.585        -14.669\n",
       "8        nash      4109.596      3254.710    -854.886        -26.266\n",
       "9      orange    122548.292    100386.650  -22161.642        -22.076\n",
       "10     person     16593.205     14686.392   -1906.814        -12.984\n",
       "11       wake    777193.904    647381.981 -129811.924        -20.052"
      ]
     },
     "execution_count": 12,
     "metadata": {},
     "output_type": "execute_result"
    }
   ],
   "source": [
    "vht_county_v6 = (\n",
    "replace_nas \n",
    "    >>group_by(County = _.New_County)\n",
    "    >>summarize(Total_VHT_v6 = _.TotVHT.sum())\n",
    ")\n",
    "\n",
    "## add missing alamance to compare to TRMG2\n",
    "vht_county_v6.loc[len(vht_county_v6.index)] = ['alamance', 0] \n",
    "\n",
    "vht_county_v6 = (\n",
    "vht_county_v6\n",
    "    >>arrange(_.County)\n",
    ")\n",
    "\n",
    "\n",
    "hwy_2016_g2['New_County'] = hwy_2016_g2['County'].str.lower()\n",
    "\n",
    "vht_county_g2 = (\n",
    "hwy_2016_g2 \n",
    "    >>group_by(County = _.New_County)\n",
    "    >>summarize(Total_VHT_G2 =_.Total_VHT_Daily.sum()              \n",
    "))\n",
    "\n",
    "vht_county_g2.loc[len(vmt_county_g2.index)] = ['external', 0] \n",
    "\n",
    "vht_county_g2 = (\n",
    "vht_county_g2\n",
    "    >>arrange(_.County)\n",
    ")\n",
    "\n",
    "county_comparison = pd.merge(vht_county_v6, vht_county_g2, on=\"County\")\n",
    "county_comparison['Difference'] = county_comparison['Total_VHT_G2']-county_comparison['Total_VHT_v6']\n",
    "county_comparison['PctDifference'] = ((county_comparison['Total_VHT_G2']-county_comparison['Total_VHT_v6'])/county_comparison['Total_VHT_G2'])*100\n",
    "\n",
    "county_comparison\n"
   ]
  },
  {
   "cell_type": "code",
   "execution_count": 13,
   "metadata": {},
   "outputs": [
    {
     "data": {
      "image/png": "[encoded data removed]",
      "text/plain": [
       "<Figure size 640x480 with 1 Axes>"
      ]
     },
     "metadata": {},
     "output_type": "display_data"
    },
    {
     "data": {
      "text/plain": [
       "<ggplot: (95276692234)>"
      ]
     },
     "execution_count": 13,
     "metadata": {},
     "output_type": "execute_result"
    }
   ],
   "source": [
    "\n",
    "(\n",
    "county_comparison\n",
    "    >>arrange(-_.PctDifference)\n",
    "    >>filter(_.County !=\"alamance\")\n",
    "    >>filter(_.County !=\"external\")\n",
    "    >>ggplot(aes('reorder(County, PctDifference)', \"PctDifference\"))+geom_col()+ theme(axis_text_x = element_text(angle = 45 , hjust=1)) +ggtitle(\"VHT PCtDiffernce TRMG2 to TRMv6\")\n",
    "\n",
    ")\n"
   ]
  },
  {
   "cell_type": "markdown",
   "metadata": {},
   "source": [
    "# Total Daily Volume - All Links\n"
   ]
  },
  {
   "cell_type": "markdown",
   "metadata": {},
   "source": [
    "### Total Daily Volume: TRMv6.2"
   ]
  },
  {
   "cell_type": "code",
   "execution_count": 14,
   "metadata": {},
   "outputs": [
    {
     "data": {
      "text/plain": [
       "186392885.39225224"
      ]
     },
     "execution_count": 14,
     "metadata": {},
     "output_type": "execute_result"
    }
   ],
   "source": [
    "tot_vol_v6_total = replace_nas['ToTDlyVol'].sum()\n",
    "tot_vol_v6_total"
   ]
  },
  {
   "cell_type": "markdown",
   "metadata": {},
   "source": [
    "### Total Daily Volume: TRMG2"
   ]
  },
  {
   "cell_type": "code",
   "execution_count": 15,
   "metadata": {},
   "outputs": [
    {
     "data": {
      "text/plain": [
       "293661262.0148999"
      ]
     },
     "execution_count": 15,
     "metadata": {},
     "output_type": "execute_result"
    }
   ],
   "source": [
    "tot_vol_g2_total = hwy_2016_g2['Total_Flow_Daily'].sum()\n",
    "tot_vol_g2_total"
   ]
  },
  {
   "cell_type": "markdown",
   "metadata": {},
   "source": [
    "### Total Daily Volume by County"
   ]
  },
  {
   "cell_type": "code",
   "execution_count": 16,
   "metadata": {},
   "outputs": [
    {
     "data": {
      "text/html": [
       "<div>\n",
       "<style scoped>\n",
       "    .dataframe tbody tr th:only-of-type {\n",
       "        vertical-align: middle;\n",
       "    }\n",
       "\n",
       "    .dataframe tbody tr th {\n",
       "        vertical-align: top;\n",
       "    }\n",
       "\n",
       "    .dataframe thead th {\n",
       "        text-align: right;\n",
       "    }\n",
       "</style>\n",
       "<table border=\"1\" class=\"dataframe\">\n",
       "  <thead>\n",
       "    <tr style=\"text-align: right;\">\n",
       "      <th></th>\n",
       "      <th>County</th>\n",
       "      <th>Total_Flow_v6</th>\n",
       "      <th>Total_Flow_G2</th>\n",
       "      <th>Difference</th>\n",
       "      <th>PctDifference</th>\n",
       "    </tr>\n",
       "  </thead>\n",
       "  <tbody>\n",
       "    <tr>\n",
       "      <th>0</th>\n",
       "      <td>alamance</td>\n",
       "      <td>0.000</td>\n",
       "      <td>4515459.599</td>\n",
       "      <td>4515459.599</td>\n",
       "      <td>100.000</td>\n",
       "    </tr>\n",
       "    <tr>\n",
       "      <th>1</th>\n",
       "      <td>chatham</td>\n",
       "      <td>2498666.222</td>\n",
       "      <td>5578278.216</td>\n",
       "      <td>3079611.994</td>\n",
       "      <td>55.207</td>\n",
       "    </tr>\n",
       "    <tr>\n",
       "      <th>2</th>\n",
       "      <td>durham</td>\n",
       "      <td>43217816.601</td>\n",
       "      <td>55005948.333</td>\n",
       "      <td>11788131.732</td>\n",
       "      <td>21.431</td>\n",
       "    </tr>\n",
       "    <tr>\n",
       "      <th>3</th>\n",
       "      <td>external</td>\n",
       "      <td>676773.888</td>\n",
       "      <td>0.000</td>\n",
       "      <td>-676773.888</td>\n",
       "      <td>-inf</td>\n",
       "    </tr>\n",
       "    <tr>\n",
       "      <th>4</th>\n",
       "      <td>franklin</td>\n",
       "      <td>2665561.592</td>\n",
       "      <td>8179729.986</td>\n",
       "      <td>5514168.394</td>\n",
       "      <td>67.413</td>\n",
       "    </tr>\n",
       "    <tr>\n",
       "      <th>5</th>\n",
       "      <td>granville</td>\n",
       "      <td>1775753.358</td>\n",
       "      <td>3612674.614</td>\n",
       "      <td>1836921.257</td>\n",
       "      <td>50.847</td>\n",
       "    </tr>\n",
       "    <tr>\n",
       "      <th>6</th>\n",
       "      <td>harnett</td>\n",
       "      <td>1930055.644</td>\n",
       "      <td>5094912.909</td>\n",
       "      <td>3164857.265</td>\n",
       "      <td>62.118</td>\n",
       "    </tr>\n",
       "    <tr>\n",
       "      <th>7</th>\n",
       "      <td>johnston</td>\n",
       "      <td>10281901.428</td>\n",
       "      <td>19967056.585</td>\n",
       "      <td>9685155.157</td>\n",
       "      <td>48.506</td>\n",
       "    </tr>\n",
       "    <tr>\n",
       "      <th>8</th>\n",
       "      <td>nash</td>\n",
       "      <td>249296.364</td>\n",
       "      <td>431550.771</td>\n",
       "      <td>182254.408</td>\n",
       "      <td>42.232</td>\n",
       "    </tr>\n",
       "    <tr>\n",
       "      <th>9</th>\n",
       "      <td>orange</td>\n",
       "      <td>15895967.235</td>\n",
       "      <td>21542834.709</td>\n",
       "      <td>5646867.473</td>\n",
       "      <td>26.212</td>\n",
       "    </tr>\n",
       "    <tr>\n",
       "      <th>10</th>\n",
       "      <td>person</td>\n",
       "      <td>1152069.544</td>\n",
       "      <td>2835494.828</td>\n",
       "      <td>1683425.284</td>\n",
       "      <td>59.370</td>\n",
       "    </tr>\n",
       "    <tr>\n",
       "      <th>11</th>\n",
       "      <td>wake</td>\n",
       "      <td>105993078.449</td>\n",
       "      <td>165975883.675</td>\n",
       "      <td>59982805.227</td>\n",
       "      <td>36.139</td>\n",
       "    </tr>\n",
       "  </tbody>\n",
       "</table>\n",
       "</div>"
      ],
      "text/plain": [
       "       County  Total_Flow_v6  Total_Flow_G2   Difference  PctDifference\n",
       "0    alamance          0.000    4515459.599  4515459.599        100.000\n",
       "1     chatham    2498666.222    5578278.216  3079611.994         55.207\n",
       "2      durham   43217816.601   55005948.333 11788131.732         21.431\n",
       "3    external     676773.888          0.000  -676773.888           -inf\n",
       "4    franklin    2665561.592    8179729.986  5514168.394         67.413\n",
       "5   granville    1775753.358    3612674.614  1836921.257         50.847\n",
       "6     harnett    1930055.644    5094912.909  3164857.265         62.118\n",
       "7    johnston   10281901.428   19967056.585  9685155.157         48.506\n",
       "8        nash     249296.364     431550.771   182254.408         42.232\n",
       "9      orange   15895967.235   21542834.709  5646867.473         26.212\n",
       "10     person    1152069.544    2835494.828  1683425.284         59.370\n",
       "11       wake  105993078.449  165975883.675 59982805.227         36.139"
      ]
     },
     "execution_count": 16,
     "metadata": {},
     "output_type": "execute_result"
    }
   ],
   "source": [
    "tot_vol_county_v6 = (\n",
    "replace_nas \n",
    "    >>group_by(County = _.New_County)\n",
    "    >>summarize(Total_Flow_v6 = _.ToTDlyVol.sum())\n",
    ")\n",
    "\n",
    "## add missing alamance to compare to TRMG2\n",
    "tot_vol_county_v6.loc[len(tot_vol_county_v6.index)] = ['alamance', 0] \n",
    "\n",
    "tot_vol_county_v6 = (\n",
    "tot_vol_county_v6\n",
    "    >>arrange(_.County)\n",
    ")\n",
    "\n",
    "\n",
    "hwy_2016_g2['New_County'] = hwy_2016_g2['County'].str.lower()\n",
    "\n",
    "tot_vol_county_g2 = (\n",
    "hwy_2016_g2 \n",
    "    >>group_by(County = _.New_County)\n",
    "    >>summarize(Total_Flow_G2 =_.Total_Flow_Daily.sum()              \n",
    "))\n",
    "\n",
    "tot_vol_county_g2.loc[len(tot_vol_county_g2.index)] = ['external', 0] \n",
    "\n",
    "tot_vol_county_g2 = (\n",
    "tot_vol_county_g2\n",
    "    >>arrange(_.County)\n",
    ")\n",
    "\n",
    "county_comparison = pd.merge(tot_vol_county_v6, tot_vol_county_g2, on=\"County\")\n",
    "county_comparison['Difference'] = county_comparison['Total_Flow_G2']-county_comparison['Total_Flow_v6']\n",
    "county_comparison['PctDifference'] = ((county_comparison['Total_Flow_G2']-county_comparison['Total_Flow_v6'])/county_comparison['Total_Flow_G2'])*100\n",
    "\n",
    "county_comparison\n"
   ]
  },
  {
   "cell_type": "code",
   "execution_count": 17,
   "metadata": {},
   "outputs": [
    {
     "data": {
      "image/png": "[encoded data removed]",
      "text/plain": [
       "<Figure size 640x480 with 1 Axes>"
      ]
     },
     "metadata": {},
     "output_type": "display_data"
    },
    {
     "data": {
      "text/plain": [
       "<ggplot: (95272381510)>"
      ]
     },
     "execution_count": 17,
     "metadata": {},
     "output_type": "execute_result"
    }
   ],
   "source": [
    "\n",
    "(\n",
    "county_comparison\n",
    "    >>arrange(-_.PctDifference)\n",
    "    >>filter(_.County !=\"alamance\")\n",
    "    >>filter(_.County !=\"external\")\n",
    "    >>ggplot(aes('reorder(County, PctDifference)', \"PctDifference\"))+geom_col()+ theme(axis_text_x = element_text(angle = 45 , hjust=1)) +ggtitle(\"Total Flow PCtDiffernce TRMG2 to TRMv6\")\n",
    "\n",
    ")\n"
   ]
  },
  {
   "cell_type": "markdown",
   "metadata": {},
   "source": [
    "# Total Daily Volume - Links with Counts"
   ]
  },
  {
   "cell_type": "markdown",
   "metadata": {},
   "source": [
    "### Total Daily Volume: TRMv6.2"
   ]
  },
  {
   "cell_type": "code",
   "execution_count": 18,
   "metadata": {},
   "outputs": [
    {
     "data": {
      "text/plain": [
       "52528713.675038055"
      ]
     },
     "execution_count": 18,
     "metadata": {},
     "output_type": "execute_result"
    }
   ],
   "source": [
    "inpFname =  os.path.join(path, \"EvalModule/TRM6_Count_2016_Observed.bin\")\n",
    "count = dk.GetDataFrameFromBin(inpFname)\n",
    "\n",
    "temp = (\n",
    "count \n",
    "    >>select(_.ID, _.Daily_Counts)\n",
    ")\n",
    "\n",
    "temp = pd.merge(replace_nas, temp)\n",
    "\n",
    "hwy_2016_v6_counts = (\n",
    "temp\n",
    "    >>filter(_.Daily_Counts > 0)\n",
    ")\n",
    "\n",
    "tot_vol_v6_total = hwy_2016_v6_counts['ToTDlyVol'].sum()\n",
    "tot_vol_v6_total\n",
    "\n"
   ]
  },
  {
   "cell_type": "markdown",
   "metadata": {},
   "source": [
    "### Total Daily Volume: TRMG2"
   ]
  },
  {
   "cell_type": "code",
   "execution_count": 19,
   "metadata": {},
   "outputs": [
    {
     "data": {
      "text/plain": [
       "52909140.477534674"
      ]
     },
     "execution_count": 19,
     "metadata": {},
     "output_type": "execute_result"
    }
   ],
   "source": [
    "hwy_2016_g2_counts = (\n",
    "hwy_2016_g2\n",
    "    >>filter(_.DailyCount>0)\n",
    ")\n",
    "\n",
    "tot_vol_g2_total = hwy_2016_g2_counts['Total_Flow_Daily'].sum()\n",
    "tot_vol_g2_total"
   ]
  },
  {
   "cell_type": "markdown",
   "metadata": {},
   "source": [
    "Percent Difference"
   ]
  },
  {
   "cell_type": "code",
   "execution_count": 20,
   "metadata": {},
   "outputs": [
    {
     "data": {
      "text/plain": [
       "0.7190190561839679"
      ]
     },
     "execution_count": 20,
     "metadata": {},
     "output_type": "execute_result"
    }
   ],
   "source": [
    "((tot_vol_g2_total-tot_vol_v6_total)/tot_vol_g2_total)*100"
   ]
  },
  {
   "cell_type": "code",
   "execution_count": 21,
   "metadata": {},
   "outputs": [
    {
     "name": "stderr",
     "output_type": "stream",
     "text": [
      "<ipython-input-21-bde943d44b36>:10: SettingWithCopyWarning: \n",
      "A value is trying to be set on a copy of a slice from a DataFrame.\n",
      "Try using .loc[row_indexer,col_indexer] = value instead\n",
      "\n",
      "See the caveats in the documentation: https://pandas.pydata.org/pandas-docs/stable/user_guide/indexing.html#returning-a-view-versus-a-copy\n"
     ]
    },
    {
     "data": {
      "text/html": [
       "<div>\n",
       "<style scoped>\n",
       "    .dataframe tbody tr th:only-of-type {\n",
       "        vertical-align: middle;\n",
       "    }\n",
       "\n",
       "    .dataframe tbody tr th {\n",
       "        vertical-align: top;\n",
       "    }\n",
       "\n",
       "    .dataframe thead th {\n",
       "        text-align: right;\n",
       "    }\n",
       "</style>\n",
       "<table border=\"1\" class=\"dataframe\">\n",
       "  <thead>\n",
       "    <tr style=\"text-align: right;\">\n",
       "      <th></th>\n",
       "      <th>County</th>\n",
       "      <th>Total_Flow_v6</th>\n",
       "      <th>Total_Flow_G2</th>\n",
       "      <th>PctDifference</th>\n",
       "    </tr>\n",
       "  </thead>\n",
       "  <tbody>\n",
       "    <tr>\n",
       "      <th>0</th>\n",
       "      <td>chatham</td>\n",
       "      <td>845870.512</td>\n",
       "      <td>847316.179</td>\n",
       "      <td>0.171</td>\n",
       "    </tr>\n",
       "    <tr>\n",
       "      <th>1</th>\n",
       "      <td>durham</td>\n",
       "      <td>12016011.959</td>\n",
       "      <td>11807839.924</td>\n",
       "      <td>-1.763</td>\n",
       "    </tr>\n",
       "    <tr>\n",
       "      <th>2</th>\n",
       "      <td>external</td>\n",
       "      <td>104807.179</td>\n",
       "      <td>0.000</td>\n",
       "      <td>-inf</td>\n",
       "    </tr>\n",
       "    <tr>\n",
       "      <th>3</th>\n",
       "      <td>franklin</td>\n",
       "      <td>979763.419</td>\n",
       "      <td>1001854.161</td>\n",
       "      <td>2.205</td>\n",
       "    </tr>\n",
       "    <tr>\n",
       "      <th>4</th>\n",
       "      <td>granville</td>\n",
       "      <td>674119.029</td>\n",
       "      <td>687433.617</td>\n",
       "      <td>1.937</td>\n",
       "    </tr>\n",
       "    <tr>\n",
       "      <th>5</th>\n",
       "      <td>harnett</td>\n",
       "      <td>728257.696</td>\n",
       "      <td>702161.546</td>\n",
       "      <td>-3.717</td>\n",
       "    </tr>\n",
       "    <tr>\n",
       "      <th>6</th>\n",
       "      <td>johnston</td>\n",
       "      <td>3509072.787</td>\n",
       "      <td>3502112.797</td>\n",
       "      <td>-0.199</td>\n",
       "    </tr>\n",
       "    <tr>\n",
       "      <th>7</th>\n",
       "      <td>nash</td>\n",
       "      <td>124308.538</td>\n",
       "      <td>70556.855</td>\n",
       "      <td>-76.182</td>\n",
       "    </tr>\n",
       "    <tr>\n",
       "      <th>8</th>\n",
       "      <td>orange</td>\n",
       "      <td>4007723.588</td>\n",
       "      <td>3813678.699</td>\n",
       "      <td>-5.088</td>\n",
       "    </tr>\n",
       "    <tr>\n",
       "      <th>9</th>\n",
       "      <td>person</td>\n",
       "      <td>644518.160</td>\n",
       "      <td>596909.643</td>\n",
       "      <td>-7.976</td>\n",
       "    </tr>\n",
       "    <tr>\n",
       "      <th>10</th>\n",
       "      <td>wake</td>\n",
       "      <td>28884130.136</td>\n",
       "      <td>29792579.740</td>\n",
       "      <td>3.049</td>\n",
       "    </tr>\n",
       "  </tbody>\n",
       "</table>\n",
       "</div>"
      ],
      "text/plain": [
       "       County  Total_Flow_v6  Total_Flow_G2  PctDifference\n",
       "0     chatham     845870.512     847316.179          0.171\n",
       "1      durham   12016011.959   11807839.924         -1.763\n",
       "2    external     104807.179          0.000           -inf\n",
       "3    franklin     979763.419    1001854.161          2.205\n",
       "4   granville     674119.029     687433.617          1.937\n",
       "5     harnett     728257.696     702161.546         -3.717\n",
       "6    johnston    3509072.787    3502112.797         -0.199\n",
       "7        nash     124308.538      70556.855        -76.182\n",
       "8      orange    4007723.588    3813678.699         -5.088\n",
       "9      person     644518.160     596909.643         -7.976\n",
       "10       wake   28884130.136   29792579.740          3.049"
      ]
     },
     "execution_count": 21,
     "metadata": {},
     "output_type": "execute_result"
    }
   ],
   "source": [
    "tot_vol_county_v6 = (\n",
    "hwy_2016_v6_counts \n",
    "    >>group_by(County = _.New_County)\n",
    "    >>summarize(Total_Flow_v6 = _.ToTDlyVol.sum(),\n",
    "               Total_Counts_v6 = _.Daily_Counts.sum())\n",
    "    >>mutate(PctDifference = (_.Total_Flow_v6 - _.Total_Counts_v6)/_.Total_Flow_v6*100)\n",
    ")\n",
    "\n",
    "\n",
    "hwy_2016_g2_counts['New_County'] = hwy_2016_g2_counts['County'].str.lower()\n",
    "\n",
    "tot_vol_county_g2 = (\n",
    "hwy_2016_g2_counts \n",
    "    >>group_by(County = _.New_County)\n",
    "    >>summarize(Total_Flow_G2 =_.Total_Flow_Daily.sum(),\n",
    "                Total_Counts_G2 = _.DailyCount.sum())\n",
    "    >>mutate(PctDifference = (_.Total_Flow_G2 - _.Total_Counts_G2)/_.Total_Flow_G2*100)\n",
    ")\n",
    "\n",
    "\n",
    "tot_vol_county_g2.loc[len(tot_vol_county_g2.index)] = ['external', 0,0,0] \n",
    "\n",
    "tot_vol_county_g2 = (\n",
    "tot_vol_county_g2\n",
    "    >>arrange(_.County)\n",
    ")\n",
    "\n",
    "county_comparison = pd.merge(tot_vol_county_v6, tot_vol_county_g2, on=\"County\")\n",
    "\n",
    "county_comparison['Difference'] = county_comparison['Total_Flow_G2']-county_comparison['Total_Flow_v6']\n",
    "county_comparison['PctDifference'] = ((county_comparison['Total_Flow_G2']-county_comparison['Total_Flow_v6'])/county_comparison['Total_Flow_G2'])*100\n",
    "\n",
    "tot_flow_county = (\n",
    "county_comparison\n",
    "    >>select(_.County, _.Total_Flow_v6, _.Total_Flow_G2, _.PctDifference)\n",
    ")\n",
    "tot_flow_county"
   ]
  },
  {
   "cell_type": "code",
   "execution_count": 22,
   "metadata": {},
   "outputs": [
    {
     "data": {
      "image/png": "[encoded data removed]",
      "text/plain": [
       "<Figure size 640x480 with 1 Axes>"
      ]
     },
     "metadata": {},
     "output_type": "display_data"
    },
    {
     "data": {
      "text/plain": [
       "<ggplot: (95273444524)>"
      ]
     },
     "execution_count": 22,
     "metadata": {},
     "output_type": "execute_result"
    }
   ],
   "source": [
    "\n",
    "(\n",
    "tot_flow_county\n",
    "    >>arrange(-_.PctDifference)\n",
    "    >>filter(_.County !=\"alamance\")\n",
    "    >>filter(_.County !=\"external\")\n",
    "   # >>ggplot(aes(\"County\", \"PctDifference\"))+geom_col()+ theme(axis_text_x = element_text(angle = 45 , hjust=1)) +ggtitle(\"Total Flow PCtDiffernce TRMG2 to TRMv6\")\n",
    "     >>ggplot(aes('reorder(County, PctDifference)', \"PctDifference\"))+geom_col()+ theme(axis_text_x = element_text(angle = 45 , hjust=1)) +ggtitle(\"Total Flow PCtDiffernce TRMG2 to TRMv6\")\n",
    ")\n"
   ]
  },
  {
   "cell_type": "markdown",
   "metadata": {},
   "source": [
    "# Total Flow by Facility Type"
   ]
  },
  {
   "cell_type": "markdown",
   "metadata": {},
   "source": [
    "## TRMv6.2"
   ]
  },
  {
   "cell_type": "code",
   "execution_count": 75,
   "metadata": {},
   "outputs": [
    {
     "data": {
      "text/html": [
       "<div>\n",
       "<style scoped>\n",
       "    .dataframe tbody tr th:only-of-type {\n",
       "        vertical-align: middle;\n",
       "    }\n",
       "\n",
       "    .dataframe tbody tr th {\n",
       "        vertical-align: top;\n",
       "    }\n",
       "\n",
       "    .dataframe thead th {\n",
       "        text-align: right;\n",
       "    }\n",
       "</style>\n",
       "<table border=\"1\" class=\"dataframe\">\n",
       "  <thead>\n",
       "    <tr style=\"text-align: right;\">\n",
       "      <th></th>\n",
       "      <th>FCGroup_Tag</th>\n",
       "      <th>Total_Flow_v6</th>\n",
       "      <th>Total_Counts_v6</th>\n",
       "      <th>PctDifference</th>\n",
       "    </tr>\n",
       "  </thead>\n",
       "  <tbody>\n",
       "    <tr>\n",
       "      <th>0</th>\n",
       "      <td>Collector</td>\n",
       "      <td>6441993.944</td>\n",
       "      <td>6623550</td>\n",
       "      <td>-2.818</td>\n",
       "    </tr>\n",
       "    <tr>\n",
       "      <th>1</th>\n",
       "      <td>Freeway</td>\n",
       "      <td>14257957.000</td>\n",
       "      <td>14084500</td>\n",
       "      <td>1.217</td>\n",
       "    </tr>\n",
       "    <tr>\n",
       "      <th>2</th>\n",
       "      <td>Local</td>\n",
       "      <td>4735795.867</td>\n",
       "      <td>4655830</td>\n",
       "      <td>1.689</td>\n",
       "    </tr>\n",
       "    <tr>\n",
       "      <th>3</th>\n",
       "      <td>Major Arterial</td>\n",
       "      <td>13835060.618</td>\n",
       "      <td>15284820</td>\n",
       "      <td>-10.479</td>\n",
       "    </tr>\n",
       "    <tr>\n",
       "      <th>4</th>\n",
       "      <td>Minor Arterial</td>\n",
       "      <td>13151478.378</td>\n",
       "      <td>13397660</td>\n",
       "      <td>-1.872</td>\n",
       "    </tr>\n",
       "  </tbody>\n",
       "</table>\n",
       "</div>"
      ],
      "text/plain": [
       "      FCGroup_Tag  Total_Flow_v6  Total_Counts_v6  PctDifference\n",
       "0       Collector    6441993.944          6623550         -2.818\n",
       "1         Freeway   14257957.000         14084500          1.217\n",
       "2           Local    4735795.867          4655830          1.689\n",
       "3  Major Arterial   13835060.618         15284820        -10.479\n",
       "4  Minor Arterial   13151478.378         13397660         -1.872"
      ]
     },
     "execution_count": 75,
     "metadata": {},
     "output_type": "execute_result"
    }
   ],
   "source": [
    "hwy_2016_v6_counts['FCGroup_Tag'] = case_when(hwy_2016_v6_counts, {\n",
    "    _.FCGROUP ==1 : \"Freeway\",\n",
    "    _.FCGROUP ==2 : \"Major Arterial\",\n",
    "    _.FCGROUP ==3: \"Minor Arterial\",\n",
    "    _.FCGROUP ==4: \"Collector\",\n",
    "    _.FCGROUP ==5: \"Local\",\n",
    "    True: \"CC\"\n",
    "})\n",
    "\n",
    "tot_vol_fcgroup_v6 = (\n",
    "hwy_2016_v6_counts \n",
    "    >>group_by(_.FCGroup_Tag)\n",
    "    >>filter(_.FCGroup_Tag !=\"CC\")\n",
    "    >>summarize(Total_Flow_v6 = _.ToTDlyVol.sum(),\n",
    "               Total_Counts_v6 = _.Daily_Counts.sum())\n",
    "    >>mutate(PctDifference = (_.Total_Flow_v6 - _.Total_Counts_v6)/_.Total_Flow_v6*100)\n",
    ")\n",
    "tot_vol_fcgroup_v6"
   ]
  },
  {
   "cell_type": "code",
   "execution_count": 79,
   "metadata": {},
   "outputs": [
    {
     "data": {
      "image/png": "[encoded data removed]",
      "text/plain": [
       "<Figure size 640x480 with 1 Axes>"
      ]
     },
     "metadata": {},
     "output_type": "display_data"
    },
    {
     "data": {
      "text/plain": [
       "<ggplot: (95273387969)>"
      ]
     },
     "execution_count": 79,
     "metadata": {},
     "output_type": "execute_result"
    }
   ],
   "source": [
    "(\n",
    "tot_vol_fcgroup_v6\n",
    "    >>ggplot(aes('reorder(FCGroup_Tag, PctDifference)', \"PctDifference\"))+geom_bar(stat='identity', position='dodge')+ theme(axis_text_x = element_text(angle = 45 , hjust=1))\n",
    "            +ggtitle(\"Total Flow PCtDiffernce TRMG2 to TRMv6\")\n",
    ")\n"
   ]
  },
  {
   "cell_type": "code",
   "execution_count": null,
   "metadata": {},
   "outputs": [],
   "source": []
  },
  {
   "cell_type": "code",
   "execution_count": null,
   "metadata": {},
   "outputs": [],
   "source": []
  },
  {
   "cell_type": "code",
   "execution_count": null,
   "metadata": {},
   "outputs": [],
   "source": []
  },
  {
   "cell_type": "code",
   "execution_count": null,
   "metadata": {},
   "outputs": [],
   "source": []
  },
  {
   "cell_type": "markdown",
   "metadata": {},
   "source": [
    "## TRMG2"
   ]
  },
  {
   "cell_type": "code",
   "execution_count": 77,
   "metadata": {},
   "outputs": [
    {
     "data": {
      "text/html": [
       "<div>\n",
       "<style scoped>\n",
       "    .dataframe tbody tr th:only-of-type {\n",
       "        vertical-align: middle;\n",
       "    }\n",
       "\n",
       "    .dataframe tbody tr th {\n",
       "        vertical-align: top;\n",
       "    }\n",
       "\n",
       "    .dataframe thead th {\n",
       "        text-align: right;\n",
       "    }\n",
       "</style>\n",
       "<table border=\"1\" class=\"dataframe\">\n",
       "  <thead>\n",
       "    <tr style=\"text-align: right;\">\n",
       "      <th></th>\n",
       "      <th>HCMType</th>\n",
       "      <th>n</th>\n",
       "      <th>TotalVolume</th>\n",
       "      <th>TotalCounts</th>\n",
       "      <th>PctDifference</th>\n",
       "    </tr>\n",
       "  </thead>\n",
       "  <tbody>\n",
       "    <tr>\n",
       "      <th>7</th>\n",
       "      <td>TLHighway</td>\n",
       "      <td>77</td>\n",
       "      <td>754823.495</td>\n",
       "      <td>693600</td>\n",
       "      <td>8.111</td>\n",
       "    </tr>\n",
       "    <tr>\n",
       "      <th>3</th>\n",
       "      <td>Local</td>\n",
       "      <td>450</td>\n",
       "      <td>1170734.336</td>\n",
       "      <td>1132520</td>\n",
       "      <td>3.264</td>\n",
       "    </tr>\n",
       "    <tr>\n",
       "      <th>5</th>\n",
       "      <td>MajorArterial</td>\n",
       "      <td>869</td>\n",
       "      <td>19183169.068</td>\n",
       "      <td>19173297</td>\n",
       "      <td>0.051</td>\n",
       "    </tr>\n",
       "    <tr>\n",
       "      <th>4</th>\n",
       "      <td>MLHighway</td>\n",
       "      <td>115</td>\n",
       "      <td>2279768.150</td>\n",
       "      <td>2297000</td>\n",
       "      <td>-0.756</td>\n",
       "    </tr>\n",
       "    <tr>\n",
       "      <th>2</th>\n",
       "      <td>Freeway</td>\n",
       "      <td>355</td>\n",
       "      <td>13312653.779</td>\n",
       "      <td>13827057</td>\n",
       "      <td>-3.864</td>\n",
       "    </tr>\n",
       "    <tr>\n",
       "      <th>0</th>\n",
       "      <td>Arterial</td>\n",
       "      <td>1625</td>\n",
       "      <td>12750021.725</td>\n",
       "      <td>13727423</td>\n",
       "      <td>-7.666</td>\n",
       "    </tr>\n",
       "    <tr>\n",
       "      <th>6</th>\n",
       "      <td>MajorCollector</td>\n",
       "      <td>258</td>\n",
       "      <td>1103754.509</td>\n",
       "      <td>1206180</td>\n",
       "      <td>-9.280</td>\n",
       "    </tr>\n",
       "    <tr>\n",
       "      <th>1</th>\n",
       "      <td>Collector</td>\n",
       "      <td>778</td>\n",
       "      <td>2354215.415</td>\n",
       "      <td>2584541</td>\n",
       "      <td>-9.784</td>\n",
       "    </tr>\n",
       "  </tbody>\n",
       "</table>\n",
       "</div>"
      ],
      "text/plain": [
       "          HCMType     n  TotalVolume  TotalCounts  PctDifference\n",
       "7       TLHighway    77   754823.495       693600          8.111\n",
       "3           Local   450  1170734.336      1132520          3.264\n",
       "5   MajorArterial   869 19183169.068     19173297          0.051\n",
       "4       MLHighway   115  2279768.150      2297000         -0.756\n",
       "2         Freeway   355 13312653.779     13827057         -3.864\n",
       "0        Arterial  1625 12750021.725     13727423         -7.666\n",
       "6  MajorCollector   258  1103754.509      1206180         -9.280\n",
       "1       Collector   778  2354215.415      2584541         -9.784"
      ]
     },
     "execution_count": 77,
     "metadata": {},
     "output_type": "execute_result"
    }
   ],
   "source": [
    "##Recreate count_comparison_by_ft_and_at.csv \n",
    "\n",
    "\n",
    "count_comparison_by_ft_and_at = (\n",
    "hwy_2016_g2 \n",
    "    >>filter(_.HCMType !=\"CC\")\n",
    "    >>filter(_.DailyCount>0)\n",
    "    >>group_by(_.HCMType)\n",
    "    >>summarize(n = _.DailyCount.count(),\n",
    "                TotalVolume =_.Total_Flow_Daily.sum(),\n",
    "                TotalCounts = _.DailyCount.sum())\n",
    "    >>mutate(PctDifference = (_.TotalVolume - _.TotalCounts)/_.TotalVolume*100)\n",
    "    >>arrange(-_.PctDifference)\n",
    "  \n",
    "\n",
    ")\n",
    "\n",
    "count_comparison_by_ft_and_at"
   ]
  },
  {
   "cell_type": "code",
   "execution_count": null,
   "metadata": {},
   "outputs": [],
   "source": []
  },
  {
   "cell_type": "code",
   "execution_count": 78,
   "metadata": {},
   "outputs": [
    {
     "data": {
      "image/png": "[encoded data removed]",
      "text/plain": [
       "<Figure size 640x480 with 1 Axes>"
      ]
     },
     "metadata": {},
     "output_type": "display_data"
    },
    {
     "data": {
      "text/plain": [
       "<ggplot: (95307830297)>"
      ]
     },
     "execution_count": 78,
     "metadata": {},
     "output_type": "execute_result"
    }
   ],
   "source": [
    "(\n",
    "count_comparison_by_ft_and_at\n",
    "    >>ggplot(aes('reorder(HCMType, PctDifference)', \"PctDifference\"))+geom_bar(stat='identity', position='dodge')+ theme(axis_text_x = element_text(angle = 45 , hjust=1))\n",
    "            +ggtitle(\"Total Flow PCtDiffernce TRMG2 to TRMv6\")\n",
    ")\n"
   ]
  },
  {
   "cell_type": "code",
   "execution_count": null,
   "metadata": {},
   "outputs": [],
   "source": []
  },
  {
   "cell_type": "code",
   "execution_count": null,
   "metadata": {},
   "outputs": [],
   "source": []
  },
  {
   "cell_type": "code",
   "execution_count": null,
   "metadata": {},
   "outputs": [],
   "source": []
  },
  {
   "cell_type": "code",
   "execution_count": null,
   "metadata": {},
   "outputs": [],
   "source": []
  },
  {
   "cell_type": "code",
   "execution_count": null,
   "metadata": {},
   "outputs": [],
   "source": []
  },
  {
   "cell_type": "code",
   "execution_count": null,
   "metadata": {},
   "outputs": [],
   "source": []
  },
  {
   "cell_type": "code",
   "execution_count": null,
   "metadata": {},
   "outputs": [],
   "source": []
  },
  {
   "cell_type": "code",
   "execution_count": null,
   "metadata": {},
   "outputs": [],
   "source": []
  },
  {
   "cell_type": "code",
   "execution_count": null,
   "metadata": {},
   "outputs": [],
   "source": []
  },
  {
   "cell_type": "code",
   "execution_count": null,
   "metadata": {},
   "outputs": [],
   "source": []
  },
  {
   "cell_type": "code",
   "execution_count": null,
   "metadata": {},
   "outputs": [],
   "source": []
  },
  {
   "cell_type": "code",
   "execution_count": null,
   "metadata": {},
   "outputs": [],
   "source": []
  },
  {
   "cell_type": "code",
   "execution_count": null,
   "metadata": {},
   "outputs": [],
   "source": []
  },
  {
   "cell_type": "code",
   "execution_count": null,
   "metadata": {},
   "outputs": [],
   "source": []
  },
  {
   "cell_type": "code",
   "execution_count": null,
   "metadata": {},
   "outputs": [],
   "source": [
    "\n"
   ]
  },
  {
   "cell_type": "code",
   "execution_count": null,
   "metadata": {},
   "outputs": [],
   "source": []
  },
  {
   "cell_type": "code",
   "execution_count": null,
   "metadata": {},
   "outputs": [],
   "source": [
    "    "
   ]
  },
  {
   "cell_type": "code",
   "execution_count": null,
   "metadata": {},
   "outputs": [],
   "source": []
  },
  {
   "cell_type": "code",
   "execution_count": null,
   "metadata": {},
   "outputs": [],
   "source": []
  },
  {
   "cell_type": "code",
   "execution_count": null,
   "metadata": {},
   "outputs": [],
   "source": []
  },
  {
   "cell_type": "code",
   "execution_count": null,
   "metadata": {},
   "outputs": [],
   "source": []
  },
  {
   "cell_type": "code",
   "execution_count": null,
   "metadata": {},
   "outputs": [],
   "source": []
  },
  {
   "cell_type": "code",
   "execution_count": null,
   "metadata": {},
   "outputs": [],
   "source": []
  },
  {
   "cell_type": "code",
   "execution_count": null,
   "metadata": {},
   "outputs": [],
   "source": []
  },
  {
   "cell_type": "code",
   "execution_count": null,
   "metadata": {},
   "outputs": [],
   "source": []
  },
  {
   "cell_type": "code",
   "execution_count": null,
   "metadata": {},
   "outputs": [],
   "source": []
  },
  {
   "cell_type": "code",
   "execution_count": null,
   "metadata": {},
   "outputs": [],
   "source": []
  }
 ],
 "metadata": {
  "kernelspec": {
   "display_name": "Python 3",
   "language": "python",
   "name": "python3"
  },
  "language_info": {
   "codemirror_mode": {
    "name": "ipython",
    "version": 3
   },
   "file_extension": ".py",
   "mimetype": "text/x-python",
   "name": "python",
   "nbconvert_exporter": "python",
   "pygments_lexer": "ipython3",
   "version": "3.8.5"
  }
 },
 "nbformat": 4,
 "nbformat_minor": 4
}
