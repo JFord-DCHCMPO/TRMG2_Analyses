{
 "cells": [
  {
   "cell_type": "markdown",
   "metadata": {},
   "source": [
    "## This document demonstrates how to import the python caliper module. The requirements for the Caliperpy package is listed below, copied and pasted directly from the TransCAD 9.0 GISDK help manual:\n",
    "\n",
    "### TransCAD 9.0 Caliperpy installation instructions\n",
    "Installing the Caliper Python Module\n",
    "To program TransCAD in Python, you need:\n",
    "\n",
    "TransCAD Version 9 or later\n",
    "A Windows distribution of Python, version 3.x. At the time of writing, the latest Python version was 3.8. For example:\n",
    "Anaconda Python for Windows, download at https://www.anaconda.com/download/\n",
    "ActiveState Python, download at http://www.activestate.com/products/activepython\n",
    "The Caliper Python Installer: C:\\Program Files\\TransCAD 2020\\GISDK\\Samples\\Python\\CaliperPy-v[yyyy-mm].win-amd64.exe\n",
    " \n",
    "\n",
    "You can run the Caliper Python Installer once to install the CaliperPy package globally in your local Python program site-package folder.\n",
    "\n",
    " \n",
    "\n",
    "The CaliperPy module use DCOM as a connection between TransCAD and Python. That means that DCOM must be enabled on your computer, and that the security settings for the DCOM objects \"TransCAD.AutomationServer\" and \"TransCAD.AutomationServer (secondary)\" must allow launch and access by users of your computer."
   ]
  },
  {
   "cell_type": "code",
   "execution_count": 7,
   "metadata": {},
   "outputs": [],
   "source": [
    "from shared_utils import geography_utils \n",
    "dk = caliperpy.TransCAD.connect()"
   ]
  },
  {
   "cell_type": "markdown",
   "metadata": {},
   "source": [
    "### How to use\n",
    "\n",
    "Enter in the highway line bin from the TRMG2 scenario you wish to summarize\n"
   ]
  },
  {
   "cell_type": "code",
   "execution_count": 10,
   "metadata": {},
   "outputs": [],
   "source": [
    "'''\n",
    "Change the path entry to the scenario you wish to summarize/analyze.\n",
    "\n",
    "'''\n",
    "\n",
    "path = \"c:/Users/JacobFo/TRMG2_v0.2/scenarios/base_2016/output/networks/scenario_links.bin\"\n",
    "hwy_2016_g2 = dk.GetDataFrameFromBin(path)\n",
    "\n",
    "hwy_2016_g2['Total_Transit_Flow'] = hwy_2016_g2['AB_Total_TransitFlow'] + hwy_2016_g2['BA_Total_TransitFlow']\n",
    "\n"
   ]
  },
  {
   "cell_type": "markdown",
   "metadata": {},
   "source": [
    "### Load in TRMv6.2 2016"
   ]
  },
  {
   "cell_type": "code",
   "execution_count": 11,
   "metadata": {},
   "outputs": [],
   "source": [
    "path = \"c:/Users/JacobFo/OneDrive - City of Durham/Full Model Runs/Original TRMv6.2_2016 - Copy/\"\n",
    "inpFname =  os.path.join(path, \"Input/Highway/Highway_Line.bin\")\n",
    "hwy_2016_v6 = dk.GetDataFrameFromBin(inpFname)\n",
    "\n",
    "replace_nas = hwy_2016_v6\n",
    "\n",
    "replace_nas.fillna(value = 0,inplace = True)\n",
    "\n",
    "replace_nas['TotVMT'] = replace_nas['ABAMVMT']+replace_nas['ABMDVMT']+replace_nas['ABNTVMT']+replace_nas['ABPMVMT']+replace_nas['BAAMVMT']+replace_nas['BAMDVMT']+replace_nas['BANTVMT']+replace_nas['BAPMVMT']\n",
    "\n",
    "replace_nas['TotVHT'] = replace_nas['ABAMVHT']+replace_nas['ABMDVHT']+replace_nas['ABNTVHT']+replace_nas['ABPMVHT']+replace_nas['BAAMVHT']+replace_nas['BAMDVHT']+replace_nas['BANTVHT']+replace_nas['BAPMVHT']\n",
    "\n"
   ]
  },
  {
   "cell_type": "markdown",
   "metadata": {},
   "source": [
    "## How to use this tool:\n",
    "aggregate_by_geo is basically a pivot + summarize function for any category in the TRMG2, making it easy to quickly summarize model outputs\n",
    "\n",
    "example: VMT statistics by County:\n"
   ]
  },
  {
   "cell_type": "code",
   "execution_count": 6,
   "metadata": {},
   "outputs": [
    {
     "data": {
      "text/html": [
       "<div>\n",
       "<style scoped>\n",
       "    .dataframe tbody tr th:only-of-type {\n",
       "        vertical-align: middle;\n",
       "    }\n",
       "\n",
       "    .dataframe tbody tr th {\n",
       "        vertical-align: top;\n",
       "    }\n",
       "\n",
       "    .dataframe thead th {\n",
       "        text-align: right;\n",
       "    }\n",
       "</style>\n",
       "<table border=\"1\" class=\"dataframe\">\n",
       "  <thead>\n",
       "    <tr style=\"text-align: right;\">\n",
       "      <th></th>\n",
       "      <th>MPO</th>\n",
       "      <th>Sum Total Flow</th>\n",
       "      <th>Mean Flow</th>\n",
       "    </tr>\n",
       "  </thead>\n",
       "  <tbody>\n",
       "    <tr>\n",
       "      <th>0</th>\n",
       "      <td>CAMPO</td>\n",
       "      <td>194180089.684</td>\n",
       "      <td>2542.356</td>\n",
       "    </tr>\n",
       "    <tr>\n",
       "      <th>1</th>\n",
       "      <td>None</td>\n",
       "      <td>29152304.511</td>\n",
       "      <td>1274.529</td>\n",
       "    </tr>\n",
       "    <tr>\n",
       "      <th>2</th>\n",
       "      <td>DCHC</td>\n",
       "      <td>82426605.274</td>\n",
       "      <td>2930.828</td>\n",
       "    </tr>\n",
       "    <tr>\n",
       "      <th>3</th>\n",
       "      <td>None</td>\n",
       "      <td>NaN</td>\n",
       "      <td>NaN</td>\n",
       "    </tr>\n",
       "  </tbody>\n",
       "</table>\n",
       "</div>"
      ],
      "text/plain": [
       "     MPO  Sum Total Flow  Mean Flow\n",
       "0  CAMPO   194180089.684   2542.356\n",
       "1   None    29152304.511   1274.529\n",
       "2   DCHC    82426605.274   2930.828\n",
       "3   None             NaN        NaN"
      ]
     },
     "execution_count": 6,
     "metadata": {},
     "output_type": "execute_result"
    }
   ],
   "source": [
    "group_cols = [\"MPO\"]\n",
    "sum_cols = [\"Total_Flow_Daily\"]\n",
    "mean_cols = [\"Total_Flow_Daily\"]\n",
    "\n",
    "\n",
    "\n",
    "by_county = geography_utils.aggregate_by_geography(\n",
    "    hwy_2016_g2,\n",
    "    group_cols=group_cols,\n",
    "    sum_cols = sum_cols,\n",
    "    mean_cols=mean_cols,\n",
    "\n",
    "\n",
    ")\n",
    "\n",
    "by_county =   by_county.rename(columns={'Total_Flow_Daily_x': 'Sum Total Flow'})\n",
    "by_county = by_county.rename(columns={'Total_Flow_Daily_y': 'Mean Flow'})\n",
    "by_county"
   ]
  },
  {
   "cell_type": "code",
   "execution_count": 3,
   "metadata": {},
   "outputs": [
    {
     "data": {
      "text/html": [
       "<div>\n",
       "<style scoped>\n",
       "    .dataframe tbody tr th:only-of-type {\n",
       "        vertical-align: middle;\n",
       "    }\n",
       "\n",
       "    .dataframe tbody tr th {\n",
       "        vertical-align: top;\n",
       "    }\n",
       "\n",
       "    .dataframe thead th {\n",
       "        text-align: right;\n",
       "    }\n",
       "</style>\n",
       "<table border=\"1\" class=\"dataframe\">\n",
       "  <thead>\n",
       "    <tr style=\"text-align: right;\">\n",
       "      <th></th>\n",
       "      <th>County</th>\n",
       "      <th>Total_Flow_Daily</th>\n",
       "      <th>Total_Transit_Flow</th>\n",
       "    </tr>\n",
       "  </thead>\n",
       "  <tbody>\n",
       "    <tr>\n",
       "      <th>0</th>\n",
       "      <td>Wake</td>\n",
       "      <td>172314595.946</td>\n",
       "      <td>2291254.297</td>\n",
       "    </tr>\n",
       "    <tr>\n",
       "      <th>1</th>\n",
       "      <td>Franklin</td>\n",
       "      <td>8323252.440</td>\n",
       "      <td>816.044</td>\n",
       "    </tr>\n",
       "    <tr>\n",
       "      <th>2</th>\n",
       "      <td>Johnston</td>\n",
       "      <td>19573688.226</td>\n",
       "      <td>3795.042</td>\n",
       "    </tr>\n",
       "    <tr>\n",
       "      <th>3</th>\n",
       "      <td>Chatham</td>\n",
       "      <td>5943315.381</td>\n",
       "      <td>21861.593</td>\n",
       "    </tr>\n",
       "    <tr>\n",
       "      <th>4</th>\n",
       "      <td>Durham</td>\n",
       "      <td>60486993.379</td>\n",
       "      <td>1753258.226</td>\n",
       "    </tr>\n",
       "    <tr>\n",
       "      <th>5</th>\n",
       "      <td>Nash</td>\n",
       "      <td>388466.360</td>\n",
       "      <td>41.788</td>\n",
       "    </tr>\n",
       "    <tr>\n",
       "      <th>6</th>\n",
       "      <td>Harnett</td>\n",
       "      <td>4795670.687</td>\n",
       "      <td>335.557</td>\n",
       "    </tr>\n",
       "    <tr>\n",
       "      <th>7</th>\n",
       "      <td>Orange</td>\n",
       "      <td>22718823.814</td>\n",
       "      <td>1142658.629</td>\n",
       "    </tr>\n",
       "    <tr>\n",
       "      <th>8</th>\n",
       "      <td>Alamance</td>\n",
       "      <td>5365310.614</td>\n",
       "      <td>8295.431</td>\n",
       "    </tr>\n",
       "    <tr>\n",
       "      <th>9</th>\n",
       "      <td>Granville</td>\n",
       "      <td>3324355.446</td>\n",
       "      <td>1282.284</td>\n",
       "    </tr>\n",
       "    <tr>\n",
       "      <th>10</th>\n",
       "      <td>Person</td>\n",
       "      <td>2524527.179</td>\n",
       "      <td>450.383</td>\n",
       "    </tr>\n",
       "    <tr>\n",
       "      <th>11</th>\n",
       "      <td>None</td>\n",
       "      <td>NaN</td>\n",
       "      <td>NaN</td>\n",
       "    </tr>\n",
       "  </tbody>\n",
       "</table>\n",
       "</div>"
      ],
      "text/plain": [
       "       County  Total_Flow_Daily  Total_Transit_Flow\n",
       "0        Wake     172314595.946         2291254.297\n",
       "1    Franklin       8323252.440             816.044\n",
       "2    Johnston      19573688.226            3795.042\n",
       "3     Chatham       5943315.381           21861.593\n",
       "4      Durham      60486993.379         1753258.226\n",
       "5        Nash        388466.360              41.788\n",
       "6     Harnett       4795670.687             335.557\n",
       "7      Orange      22718823.814         1142658.629\n",
       "8    Alamance       5365310.614            8295.431\n",
       "9   Granville       3324355.446            1282.284\n",
       "10     Person       2524527.179             450.383\n",
       "11       None               NaN                 NaN"
      ]
     },
     "execution_count": 3,
     "metadata": {},
     "output_type": "execute_result"
    }
   ],
   "source": [
    "group_cols = [\"County\"]\n",
    "sum_cols = [\"Total_Transit_Flow\",\"Total_Flow_Daily\"]\n",
    "\n",
    "\n",
    "by_class = geography_utils.aggregate_by_geography(\n",
    "  # replace_nas[replace_nas.COUNTY.notna()], \n",
    "    hwy_2016_g2,\n",
    "    group_cols=group_cols,\n",
    "    sum_cols = sum_cols\n",
    "\n",
    "\n",
    ")\n",
    "\n",
    "by_class"
   ]
  },
  {
   "cell_type": "code",
   "execution_count": 4,
   "metadata": {},
   "outputs": [],
   "source": [
    "import plotly\n",
    "import plotly.express as px"
   ]
  },
  {
   "cell_type": "code",
   "execution_count": 5,
   "metadata": {},
   "outputs": [
    {
     "data": {
      "application/vnd.plotly.v1+json": {
       "config": {
        "plotlyServerURL": "https://plot.ly"
       },
       "data": [
        {
         "alignmentgroup": "True",
         "hovertemplate": "County=%{x}<br>Total_Flow_Daily=%{y}<extra></extra>",
         "legendgroup": "",
         "marker": {
          "color": "#636efa",
          "pattern": {
           "shape": ""
          }
         },
         "name": "",
         "offsetgroup": "",
         "orientation": "v",
         "showlegend": false,
         "textposition": "auto",
         "type": "bar",
         "x": [
          "Wake",
          "Franklin",
          "Johnston",
          "Chatham",
          "Durham",
          "Nash",
          "Harnett",
          "Orange",
          "Alamance",
          "Granville",
          "Person",
          null
         ],
         "xaxis": "x",
         "y": [
          172314595.9458276,
          8323252.439524139,
          19573688.225790445,
          5943315.380546782,
          60486993.37854836,
          388466.360165164,
          4795670.686780654,
          22718823.81364966,
          5365310.613570725,
          3324355.446032476,
          2524527.178643885,
          null
         ],
         "yaxis": "y"
        }
       ],
       "layout": {
        "barmode": "relative",
        "legend": {
         "tracegroupgap": 0
        },
        "margin": {
         "t": 60
        },
        "template": {
         "data": {
          "bar": [
           {
            "error_x": {
             "color": "#2a3f5f"
            },
            "error_y": {
             "color": "#2a3f5f"
            },
            "marker": {
             "line": {
              "color": "#E5ECF6",
              "width": 0.5
             },
             "pattern": {
              "fillmode": "overlay",
              "size": 10,
              "solidity": 0.2
             }
            },
            "type": "bar"
           }
          ],
          "barpolar": [
           {
            "marker": {
             "line": {
              "color": "#E5ECF6",
              "width": 0.5
             },
             "pattern": {
              "fillmode": "overlay",
              "size": 10,
              "solidity": 0.2
             }
            },
            "type": "barpolar"
           }
          ],
          "carpet": [
           {
            "aaxis": {
             "endlinecolor": "#2a3f5f",
             "gridcolor": "white",
             "linecolor": "white",
             "minorgridcolor": "white",
             "startlinecolor": "#2a3f5f"
            },
            "baxis": {
             "endlinecolor": "#2a3f5f",
             "gridcolor": "white",
             "linecolor": "white",
             "minorgridcolor": "white",
             "startlinecolor": "#2a3f5f"
            },
            "type": "carpet"
           }
          ],
          "choropleth": [
           {
            "colorbar": {
             "outlinewidth": 0,
             "ticks": ""
            },
            "type": "choropleth"
           }
          ],
          "contour": [
           {
            "colorbar": {
             "outlinewidth": 0,
             "ticks": ""
            },
            "colorscale": [
             [
              0,
              "#0d0887"
             ],
             [
              0.1111111111111111,
              "#46039f"
             ],
             [
              0.2222222222222222,
              "#7201a8"
             ],
             [
              0.3333333333333333,
              "#9c179e"
             ],
             [
              0.4444444444444444,
              "#bd3786"
             ],
             [
              0.5555555555555556,
              "#d8576b"
             ],
             [
              0.6666666666666666,
              "#ed7953"
             ],
             [
              0.7777777777777778,
              "#fb9f3a"
             ],
             [
              0.8888888888888888,
              "#fdca26"
             ],
             [
              1,
              "#f0f921"
             ]
            ],
            "type": "contour"
           }
          ],
          "contourcarpet": [
           {
            "colorbar": {
             "outlinewidth": 0,
             "ticks": ""
            },
            "type": "contourcarpet"
           }
          ],
          "heatmap": [
           {
            "colorbar": {
             "outlinewidth": 0,
             "ticks": ""
            },
            "colorscale": [
             [
              0,
              "#0d0887"
             ],
             [
              0.1111111111111111,
              "#46039f"
             ],
             [
              0.2222222222222222,
              "#7201a8"
             ],
             [
              0.3333333333333333,
              "#9c179e"
             ],
             [
              0.4444444444444444,
              "#bd3786"
             ],
             [
              0.5555555555555556,
              "#d8576b"
             ],
             [
              0.6666666666666666,
              "#ed7953"
             ],
             [
              0.7777777777777778,
              "#fb9f3a"
             ],
             [
              0.8888888888888888,
              "#fdca26"
             ],
             [
              1,
              "#f0f921"
             ]
            ],
            "type": "heatmap"
           }
          ],
          "heatmapgl": [
           {
            "colorbar": {
             "outlinewidth": 0,
             "ticks": ""
            },
            "colorscale": [
             [
              0,
              "#0d0887"
             ],
             [
              0.1111111111111111,
              "#46039f"
             ],
             [
              0.2222222222222222,
              "#7201a8"
             ],
             [
              0.3333333333333333,
              "#9c179e"
             ],
             [
              0.4444444444444444,
              "#bd3786"
             ],
             [
              0.5555555555555556,
              "#d8576b"
             ],
             [
              0.6666666666666666,
              "#ed7953"
             ],
             [
              0.7777777777777778,
              "#fb9f3a"
             ],
             [
              0.8888888888888888,
              "#fdca26"
             ],
             [
              1,
              "#f0f921"
             ]
            ],
            "type": "heatmapgl"
           }
          ],
          "histogram": [
           {
            "marker": {
             "pattern": {
              "fillmode": "overlay",
              "size": 10,
              "solidity": 0.2
             }
            },
            "type": "histogram"
           }
          ],
          "histogram2d": [
           {
            "colorbar": {
             "outlinewidth": 0,
             "ticks": ""
            },
            "colorscale": [
             [
              0,
              "#0d0887"
             ],
             [
              0.1111111111111111,
              "#46039f"
             ],
             [
              0.2222222222222222,
              "#7201a8"
             ],
             [
              0.3333333333333333,
              "#9c179e"
             ],
             [
              0.4444444444444444,
              "#bd3786"
             ],
             [
              0.5555555555555556,
              "#d8576b"
             ],
             [
              0.6666666666666666,
              "#ed7953"
             ],
             [
              0.7777777777777778,
              "#fb9f3a"
             ],
             [
              0.8888888888888888,
              "#fdca26"
             ],
             [
              1,
              "#f0f921"
             ]
            ],
            "type": "histogram2d"
           }
          ],
          "histogram2dcontour": [
           {
            "colorbar": {
             "outlinewidth": 0,
             "ticks": ""
            },
            "colorscale": [
             [
              0,
              "#0d0887"
             ],
             [
              0.1111111111111111,
              "#46039f"
             ],
             [
              0.2222222222222222,
              "#7201a8"
             ],
             [
              0.3333333333333333,
              "#9c179e"
             ],
             [
              0.4444444444444444,
              "#bd3786"
             ],
             [
              0.5555555555555556,
              "#d8576b"
             ],
             [
              0.6666666666666666,
              "#ed7953"
             ],
             [
              0.7777777777777778,
              "#fb9f3a"
             ],
             [
              0.8888888888888888,
              "#fdca26"
             ],
             [
              1,
              "#f0f921"
             ]
            ],
            "type": "histogram2dcontour"
           }
          ],
          "mesh3d": [
           {
            "colorbar": {
             "outlinewidth": 0,
             "ticks": ""
            },
            "type": "mesh3d"
           }
          ],
          "parcoords": [
           {
            "line": {
             "colorbar": {
              "outlinewidth": 0,
              "ticks": ""
             }
            },
            "type": "parcoords"
           }
          ],
          "pie": [
           {
            "automargin": true,
            "type": "pie"
           }
          ],
          "scatter": [
           {
            "marker": {
             "colorbar": {
              "outlinewidth": 0,
              "ticks": ""
             }
            },
            "type": "scatter"
           }
          ],
          "scatter3d": [
           {
            "line": {
             "colorbar": {
              "outlinewidth": 0,
              "ticks": ""
             }
            },
            "marker": {
             "colorbar": {
              "outlinewidth": 0,
              "ticks": ""
             }
            },
            "type": "scatter3d"
           }
          ],
          "scattercarpet": [
           {
            "marker": {
             "colorbar": {
              "outlinewidth": 0,
              "ticks": ""
             }
            },
            "type": "scattercarpet"
           }
          ],
          "scattergeo": [
           {
            "marker": {
             "colorbar": {
              "outlinewidth": 0,
              "ticks": ""
             }
            },
            "type": "scattergeo"
           }
          ],
          "scattergl": [
           {
            "marker": {
             "colorbar": {
              "outlinewidth": 0,
              "ticks": ""
             }
            },
            "type": "scattergl"
           }
          ],
          "scattermapbox": [
           {
            "marker": {
             "colorbar": {
              "outlinewidth": 0,
              "ticks": ""
             }
            },
            "type": "scattermapbox"
           }
          ],
          "scatterpolar": [
           {
            "marker": {
             "colorbar": {
              "outlinewidth": 0,
              "ticks": ""
             }
            },
            "type": "scatterpolar"
           }
          ],
          "scatterpolargl": [
           {
            "marker": {
             "colorbar": {
              "outlinewidth": 0,
              "ticks": ""
             }
            },
            "type": "scatterpolargl"
           }
          ],
          "scatterternary": [
           {
            "marker": {
             "colorbar": {
              "outlinewidth": 0,
              "ticks": ""
             }
            },
            "type": "scatterternary"
           }
          ],
          "surface": [
           {
            "colorbar": {
             "outlinewidth": 0,
             "ticks": ""
            },
            "colorscale": [
             [
              0,
              "#0d0887"
             ],
             [
              0.1111111111111111,
              "#46039f"
             ],
             [
              0.2222222222222222,
              "#7201a8"
             ],
             [
              0.3333333333333333,
              "#9c179e"
             ],
             [
              0.4444444444444444,
              "#bd3786"
             ],
             [
              0.5555555555555556,
              "#d8576b"
             ],
             [
              0.6666666666666666,
              "#ed7953"
             ],
             [
              0.7777777777777778,
              "#fb9f3a"
             ],
             [
              0.8888888888888888,
              "#fdca26"
             ],
             [
              1,
              "#f0f921"
             ]
            ],
            "type": "surface"
           }
          ],
          "table": [
           {
            "cells": {
             "fill": {
              "color": "#EBF0F8"
             },
             "line": {
              "color": "white"
             }
            },
            "header": {
             "fill": {
              "color": "#C8D4E3"
             },
             "line": {
              "color": "white"
             }
            },
            "type": "table"
           }
          ]
         },
         "layout": {
          "annotationdefaults": {
           "arrowcolor": "#2a3f5f",
           "arrowhead": 0,
           "arrowwidth": 1
          },
          "autotypenumbers": "strict",
          "coloraxis": {
           "colorbar": {
            "outlinewidth": 0,
            "ticks": ""
           }
          },
          "colorscale": {
           "diverging": [
            [
             0,
             "#8e0152"
            ],
            [
             0.1,
             "#c51b7d"
            ],
            [
             0.2,
             "#de77ae"
            ],
            [
             0.3,
             "#f1b6da"
            ],
            [
             0.4,
             "#fde0ef"
            ],
            [
             0.5,
             "#f7f7f7"
            ],
            [
             0.6,
             "#e6f5d0"
            ],
            [
             0.7,
             "#b8e186"
            ],
            [
             0.8,
             "#7fbc41"
            ],
            [
             0.9,
             "#4d9221"
            ],
            [
             1,
             "#276419"
            ]
           ],
           "sequential": [
            [
             0,
             "#0d0887"
            ],
            [
             0.1111111111111111,
             "#46039f"
            ],
            [
             0.2222222222222222,
             "#7201a8"
            ],
            [
             0.3333333333333333,
             "#9c179e"
            ],
            [
             0.4444444444444444,
             "#bd3786"
            ],
            [
             0.5555555555555556,
             "#d8576b"
            ],
            [
             0.6666666666666666,
             "#ed7953"
            ],
            [
             0.7777777777777778,
             "#fb9f3a"
            ],
            [
             0.8888888888888888,
             "#fdca26"
            ],
            [
             1,
             "#f0f921"
            ]
           ],
           "sequentialminus": [
            [
             0,
             "#0d0887"
            ],
            [
             0.1111111111111111,
             "#46039f"
            ],
            [
             0.2222222222222222,
             "#7201a8"
            ],
            [
             0.3333333333333333,
             "#9c179e"
            ],
            [
             0.4444444444444444,
             "#bd3786"
            ],
            [
             0.5555555555555556,
             "#d8576b"
            ],
            [
             0.6666666666666666,
             "#ed7953"
            ],
            [
             0.7777777777777778,
             "#fb9f3a"
            ],
            [
             0.8888888888888888,
             "#fdca26"
            ],
            [
             1,
             "#f0f921"
            ]
           ]
          },
          "colorway": [
           "#636efa",
           "#EF553B",
           "#00cc96",
           "#ab63fa",
           "#FFA15A",
           "#19d3f3",
           "#FF6692",
           "#B6E880",
           "#FF97FF",
           "#FECB52"
          ],
          "font": {
           "color": "#2a3f5f"
          },
          "geo": {
           "bgcolor": "white",
           "lakecolor": "white",
           "landcolor": "#E5ECF6",
           "showlakes": true,
           "showland": true,
           "subunitcolor": "white"
          },
          "hoverlabel": {
           "align": "left"
          },
          "hovermode": "closest",
          "mapbox": {
           "style": "light"
          },
          "paper_bgcolor": "white",
          "plot_bgcolor": "#E5ECF6",
          "polar": {
           "angularaxis": {
            "gridcolor": "white",
            "linecolor": "white",
            "ticks": ""
           },
           "bgcolor": "#E5ECF6",
           "radialaxis": {
            "gridcolor": "white",
            "linecolor": "white",
            "ticks": ""
           }
          },
          "scene": {
           "xaxis": {
            "backgroundcolor": "#E5ECF6",
            "gridcolor": "white",
            "gridwidth": 2,
            "linecolor": "white",
            "showbackground": true,
            "ticks": "",
            "zerolinecolor": "white"
           },
           "yaxis": {
            "backgroundcolor": "#E5ECF6",
            "gridcolor": "white",
            "gridwidth": 2,
            "linecolor": "white",
            "showbackground": true,
            "ticks": "",
            "zerolinecolor": "white"
           },
           "zaxis": {
            "backgroundcolor": "#E5ECF6",
            "gridcolor": "white",
            "gridwidth": 2,
            "linecolor": "white",
            "showbackground": true,
            "ticks": "",
            "zerolinecolor": "white"
           }
          },
          "shapedefaults": {
           "line": {
            "color": "#2a3f5f"
           }
          },
          "ternary": {
           "aaxis": {
            "gridcolor": "white",
            "linecolor": "white",
            "ticks": ""
           },
           "baxis": {
            "gridcolor": "white",
            "linecolor": "white",
            "ticks": ""
           },
           "bgcolor": "#E5ECF6",
           "caxis": {
            "gridcolor": "white",
            "linecolor": "white",
            "ticks": ""
           }
          },
          "title": {
           "x": 0.05
          },
          "xaxis": {
           "automargin": true,
           "gridcolor": "white",
           "linecolor": "white",
           "ticks": "",
           "title": {
            "standoff": 15
           },
           "zerolinecolor": "white",
           "zerolinewidth": 2
          },
          "yaxis": {
           "automargin": true,
           "gridcolor": "white",
           "linecolor": "white",
           "ticks": "",
           "title": {
            "standoff": 15
           },
           "zerolinecolor": "white",
           "zerolinewidth": 2
          }
         }
        },
        "xaxis": {
         "anchor": "y",
         "domain": [
          0,
          1
         ],
         "title": {
          "text": "County"
         }
        },
        "yaxis": {
         "anchor": "x",
         "domain": [
          0,
          1
         ],
         "title": {
          "text": "Total_Flow_Daily"
         }
        }
       }
      }
     },
     "metadata": {},
     "output_type": "display_data"
    }
   ],
   "source": [
    "import plotly.express as px\n",
    "\n",
    "fig = px.bar(by_class,              # our dataframe\n",
    "       x=\"County\",         # x will be the 'key' column of the dataframe\n",
    "       y=\"Total_Flow_Daily\")\n",
    "\n",
    "fig.show()"
   ]
  },
  {
   "cell_type": "code",
   "execution_count": null,
   "metadata": {},
   "outputs": [],
   "source": []
  },
  {
   "cell_type": "code",
   "execution_count": null,
   "metadata": {},
   "outputs": [],
   "source": []
  },
  {
   "cell_type": "markdown",
   "metadata": {},
   "source": [
    "## Highway Assignment Checks TRMG2\n",
    "\n",
    "Goal: Replicate the current TRMv6.2 summary tool and evaluation report's key metrics, while developing tool to replicate in TRMG2 format. \n",
    "\n",
    "\n",
    "\n",
    " "
   ]
  },
  {
   "cell_type": "markdown",
   "metadata": {},
   "source": [
    "# Vehicle Miles Traveled "
   ]
  },
  {
   "cell_type": "markdown",
   "metadata": {},
   "source": [
    "### Total VMT: TRMv6.2\n"
   ]
  },
  {
   "cell_type": "code",
   "execution_count": 12,
   "metadata": {},
   "outputs": [
    {
     "data": {
      "text/plain": [
       "56927558.91335465"
      ]
     },
     "execution_count": 12,
     "metadata": {},
     "output_type": "execute_result"
    }
   ],
   "source": [
    "vmt_v6_total = replace_nas['TotVMT'].sum()\n",
    "vmt_v6_total"
   ]
  },
  {
   "cell_type": "markdown",
   "metadata": {},
   "source": [
    "### Total VMT: TRMG2"
   ]
  },
  {
   "cell_type": "code",
   "execution_count": 13,
   "metadata": {},
   "outputs": [
    {
     "data": {
      "text/plain": [
       "59765994.53828005"
      ]
     },
     "execution_count": 13,
     "metadata": {},
     "output_type": "execute_result"
    }
   ],
   "source": [
    "vmt_g2_total=hwy_2016_g2['Total_VMT_Daily'].sum()\n",
    "vmt_g2_total"
   ]
  },
  {
   "cell_type": "markdown",
   "metadata": {},
   "source": [
    "Percent Difference: (G2 - v6.2)/ G2"
   ]
  },
  {
   "cell_type": "code",
   "execution_count": 14,
   "metadata": {},
   "outputs": [
    {
     "data": {
      "text/plain": [
       "4.749248543178484"
      ]
     },
     "execution_count": 14,
     "metadata": {},
     "output_type": "execute_result"
    }
   ],
   "source": [
    "((vmt_g2_total-vmt_v6_total)/vmt_g2_total)*100"
   ]
  },
  {
   "cell_type": "markdown",
   "metadata": {},
   "source": [
    "### Total VMT by MPO: TRMv6.2"
   ]
  },
  {
   "cell_type": "code",
   "execution_count": 15,
   "metadata": {},
   "outputs": [
    {
     "data": {
      "text/html": [
       "<div>\n",
       "<style scoped>\n",
       "    .dataframe tbody tr th:only-of-type {\n",
       "        vertical-align: middle;\n",
       "    }\n",
       "\n",
       "    .dataframe tbody tr th {\n",
       "        vertical-align: top;\n",
       "    }\n",
       "\n",
       "    .dataframe thead th {\n",
       "        text-align: right;\n",
       "    }\n",
       "</style>\n",
       "<table border=\"1\" class=\"dataframe\">\n",
       "  <thead>\n",
       "    <tr style=\"text-align: right;\">\n",
       "      <th></th>\n",
       "      <th>MPO</th>\n",
       "      <th>Total_VMT_v6</th>\n",
       "    </tr>\n",
       "  </thead>\n",
       "  <tbody>\n",
       "    <tr>\n",
       "      <th>0</th>\n",
       "      <td>0</td>\n",
       "      <td>7864112.068</td>\n",
       "    </tr>\n",
       "    <tr>\n",
       "      <th>1</th>\n",
       "      <td>1</td>\n",
       "      <td>34546729.400</td>\n",
       "    </tr>\n",
       "    <tr>\n",
       "      <th>2</th>\n",
       "      <td>2</td>\n",
       "      <td>14516717.446</td>\n",
       "    </tr>\n",
       "  </tbody>\n",
       "</table>\n",
       "</div>"
      ],
      "text/plain": [
       "   MPO  Total_VMT_v6\n",
       "0    0   7864112.068\n",
       "1    1  34546729.400\n",
       "2    2  14516717.446"
      ]
     },
     "execution_count": 15,
     "metadata": {},
     "output_type": "execute_result"
    }
   ],
   "source": [
    "vmt_mpo_v6 = (\n",
    "replace_nas \n",
    "    >>group_by(MPO = _.MPO)\n",
    "    >>summarize(Total_VMT_v6 = _.TotVMT.sum())\n",
    ")\n",
    "\n",
    "\n",
    "vmt_mpo_v6 = (\n",
    "vmt_mpo_v6\n",
    "    >>arrange(_.MPO)\n",
    ")\n",
    "\n",
    "\n",
    "vmt_mpo_v6"
   ]
  },
  {
   "cell_type": "markdown",
   "metadata": {},
   "source": [
    "### Total VMT by MPO: TRMG2\n",
    "\n",
    "- missing from TRMG2 line and TAZ layer, will need to circle around to tag"
   ]
  },
  {
   "cell_type": "markdown",
   "metadata": {},
   "source": []
  },
  {
   "cell_type": "code",
   "execution_count": 17,
   "metadata": {},
   "outputs": [
    {
     "data": {
      "text/html": [
       "<div>\n",
       "<style scoped>\n",
       "    .dataframe tbody tr th:only-of-type {\n",
       "        vertical-align: middle;\n",
       "    }\n",
       "\n",
       "    .dataframe tbody tr th {\n",
       "        vertical-align: top;\n",
       "    }\n",
       "\n",
       "    .dataframe thead th {\n",
       "        text-align: right;\n",
       "    }\n",
       "</style>\n",
       "<table border=\"1\" class=\"dataframe\">\n",
       "  <thead>\n",
       "    <tr style=\"text-align: right;\">\n",
       "      <th></th>\n",
       "      <th>MPO</th>\n",
       "      <th>Sum VMT Flow</th>\n",
       "      <th>Mean VMT</th>\n",
       "    </tr>\n",
       "  </thead>\n",
       "  <tbody>\n",
       "    <tr>\n",
       "      <th>0</th>\n",
       "      <td>CAMPO</td>\n",
       "      <td>36385516.350</td>\n",
       "      <td>476.387</td>\n",
       "    </tr>\n",
       "    <tr>\n",
       "      <th>1</th>\n",
       "      <td>None</td>\n",
       "      <td>8466352.764</td>\n",
       "      <td>370.146</td>\n",
       "    </tr>\n",
       "    <tr>\n",
       "      <th>2</th>\n",
       "      <td>DCHC</td>\n",
       "      <td>14649339.953</td>\n",
       "      <td>520.884</td>\n",
       "    </tr>\n",
       "    <tr>\n",
       "      <th>3</th>\n",
       "      <td>None</td>\n",
       "      <td>NaN</td>\n",
       "      <td>NaN</td>\n",
       "    </tr>\n",
       "  </tbody>\n",
       "</table>\n",
       "</div>"
      ],
      "text/plain": [
       "     MPO  Sum VMT Flow  Mean VMT\n",
       "0  CAMPO  36385516.350   476.387\n",
       "1   None   8466352.764   370.146\n",
       "2   DCHC  14649339.953   520.884\n",
       "3   None           NaN       NaN"
      ]
     },
     "execution_count": 17,
     "metadata": {},
     "output_type": "execute_result"
    }
   ],
   "source": [
    "group_cols = [\"MPO\"]\n",
    "sum_cols = [\"Total_VMT_Daily\"]\n",
    "mean_cols = [\"Total_VMT_Daily\"]\n",
    "\n",
    "\n",
    "\n",
    "by_mpo = geography_utils.aggregate_by_geography(\n",
    "    hwy_2016_g2,\n",
    "    group_cols=group_cols,\n",
    "    sum_cols = sum_cols,\n",
    "    mean_cols=mean_cols,\n",
    "\n",
    "\n",
    ")\n",
    "\n",
    "by_mpo =   by_mpo.rename(columns={'Total_VMT_Daily_x': 'Sum VMT Flow'})\n",
    "by_mpo = by_mpo.rename(columns={'Total_VMT_Daily_y': 'Mean VMT'})\n",
    "by_mpo"
   ]
  },
  {
   "cell_type": "markdown",
   "metadata": {},
   "source": [
    "### Total VMT by County"
   ]
  },
  {
   "cell_type": "code",
   "execution_count": 14,
   "metadata": {},
   "outputs": [
    {
     "data": {
      "text/html": [
       "<div>\n",
       "<style scoped>\n",
       "    .dataframe tbody tr th:only-of-type {\n",
       "        vertical-align: middle;\n",
       "    }\n",
       "\n",
       "    .dataframe tbody tr th {\n",
       "        vertical-align: top;\n",
       "    }\n",
       "\n",
       "    .dataframe thead th {\n",
       "        text-align: right;\n",
       "    }\n",
       "</style>\n",
       "<table border=\"1\" class=\"dataframe\">\n",
       "  <thead>\n",
       "    <tr style=\"text-align: right;\">\n",
       "      <th></th>\n",
       "      <th>County</th>\n",
       "      <th>Total_VMT_v6</th>\n",
       "      <th>Total_VMT_G2</th>\n",
       "      <th>Difference</th>\n",
       "      <th>PctDifference</th>\n",
       "    </tr>\n",
       "  </thead>\n",
       "  <tbody>\n",
       "    <tr>\n",
       "      <th>0</th>\n",
       "      <td>alamance</td>\n",
       "      <td>0.000</td>\n",
       "      <td>993303.300</td>\n",
       "      <td>993303.300</td>\n",
       "      <td>100.000</td>\n",
       "    </tr>\n",
       "    <tr>\n",
       "      <th>1</th>\n",
       "      <td>chatham</td>\n",
       "      <td>1887084.185</td>\n",
       "      <td>1908876.628</td>\n",
       "      <td>21792.443</td>\n",
       "      <td>1.142</td>\n",
       "    </tr>\n",
       "    <tr>\n",
       "      <th>2</th>\n",
       "      <td>durham</td>\n",
       "      <td>9579639.353</td>\n",
       "      <td>9896837.569</td>\n",
       "      <td>317198.216</td>\n",
       "      <td>3.205</td>\n",
       "    </tr>\n",
       "    <tr>\n",
       "      <th>3</th>\n",
       "      <td>external</td>\n",
       "      <td>145264.996</td>\n",
       "      <td>0.000</td>\n",
       "      <td>-145264.996</td>\n",
       "      <td>-inf</td>\n",
       "    </tr>\n",
       "    <tr>\n",
       "      <th>4</th>\n",
       "      <td>franklin</td>\n",
       "      <td>1482186.218</td>\n",
       "      <td>1562436.320</td>\n",
       "      <td>80250.102</td>\n",
       "      <td>5.136</td>\n",
       "    </tr>\n",
       "    <tr>\n",
       "      <th>5</th>\n",
       "      <td>granville</td>\n",
       "      <td>1311675.053</td>\n",
       "      <td>1176954.347</td>\n",
       "      <td>-134720.706</td>\n",
       "      <td>-11.447</td>\n",
       "    </tr>\n",
       "    <tr>\n",
       "      <th>6</th>\n",
       "      <td>harnett</td>\n",
       "      <td>1099687.873</td>\n",
       "      <td>1001411.441</td>\n",
       "      <td>-98276.432</td>\n",
       "      <td>-9.814</td>\n",
       "    </tr>\n",
       "    <tr>\n",
       "      <th>7</th>\n",
       "      <td>johnston</td>\n",
       "      <td>6071384.148</td>\n",
       "      <td>5819436.969</td>\n",
       "      <td>-251947.179</td>\n",
       "      <td>-4.329</td>\n",
       "    </tr>\n",
       "    <tr>\n",
       "      <th>8</th>\n",
       "      <td>nash</td>\n",
       "      <td>250834.738</td>\n",
       "      <td>199839.953</td>\n",
       "      <td>-50994.785</td>\n",
       "      <td>-25.518</td>\n",
       "    </tr>\n",
       "    <tr>\n",
       "      <th>9</th>\n",
       "      <td>orange</td>\n",
       "      <td>5220110.193</td>\n",
       "      <td>5146945.830</td>\n",
       "      <td>-73164.362</td>\n",
       "      <td>-1.422</td>\n",
       "    </tr>\n",
       "    <tr>\n",
       "      <th>10</th>\n",
       "      <td>person</td>\n",
       "      <td>726642.306</td>\n",
       "      <td>592546.601</td>\n",
       "      <td>-134095.705</td>\n",
       "      <td>-22.630</td>\n",
       "    </tr>\n",
       "    <tr>\n",
       "      <th>11</th>\n",
       "      <td>wake</td>\n",
       "      <td>29143576.437</td>\n",
       "      <td>31202620.108</td>\n",
       "      <td>2059043.671</td>\n",
       "      <td>6.599</td>\n",
       "    </tr>\n",
       "  </tbody>\n",
       "</table>\n",
       "</div>"
      ],
      "text/plain": [
       "       County  Total_VMT_v6  Total_VMT_G2  Difference  PctDifference\n",
       "0    alamance         0.000    993303.300  993303.300        100.000\n",
       "1     chatham   1887084.185   1908876.628   21792.443          1.142\n",
       "2      durham   9579639.353   9896837.569  317198.216          3.205\n",
       "3    external    145264.996         0.000 -145264.996           -inf\n",
       "4    franklin   1482186.218   1562436.320   80250.102          5.136\n",
       "5   granville   1311675.053   1176954.347 -134720.706        -11.447\n",
       "6     harnett   1099687.873   1001411.441  -98276.432         -9.814\n",
       "7    johnston   6071384.148   5819436.969 -251947.179         -4.329\n",
       "8        nash    250834.738    199839.953  -50994.785        -25.518\n",
       "9      orange   5220110.193   5146945.830  -73164.362         -1.422\n",
       "10     person    726642.306    592546.601 -134095.705        -22.630\n",
       "11       wake  29143576.437  31202620.108 2059043.671          6.599"
      ]
     },
     "execution_count": 14,
     "metadata": {},
     "output_type": "execute_result"
    }
   ],
   "source": [
    "\n",
    "replace_nas['New_County'] = replace_nas['COUNTY'].str.lower()\n",
    "\n",
    "vmt_county_v6 = (\n",
    "replace_nas \n",
    "    >>group_by(County = _.New_County)\n",
    "    >>summarize(Total_VMT_v6 = _.TotVMT.sum())\n",
    ")\n",
    "\n",
    "## add missing alamance to compare to TRMG2\n",
    "vmt_county_v6.loc[len(vmt_county_v6.index)] = ['alamance', 0] \n",
    "\n",
    "vmt_county_v6 = (\n",
    "vmt_county_v6\n",
    "    >>arrange(_.County)\n",
    ")\n",
    "\n",
    "\n",
    "\n",
    "\n",
    "hwy_2016_g2['New_County'] = hwy_2016_g2['County'].str.lower()\n",
    "\n",
    "vmt_county_g2 = (\n",
    "hwy_2016_g2 \n",
    "    >>group_by(County = _.New_County)\n",
    "    >>summarize(Total_VMT_G2 =_.Total_VMT_Daily.sum()              \n",
    "))\n",
    "\n",
    "vmt_county_g2.loc[len(vmt_county_g2.index)] = ['external', 0] \n",
    "\n",
    "vmt_county_g2 = (\n",
    "vmt_county_g2\n",
    "    >>arrange(_.County)\n",
    ")\n",
    "\n",
    "county_comparison = pd.merge(vmt_county_v6, vmt_county_g2, on=\"County\")\n",
    "county_comparison['Difference'] = county_comparison['Total_VMT_G2']-county_comparison['Total_VMT_v6']\n",
    "county_comparison['PctDifference'] = ((county_comparison['Total_VMT_G2']-county_comparison['Total_VMT_v6'])/county_comparison['Total_VMT_G2'])*100\n",
    "county_comparison"
   ]
  },
  {
   "cell_type": "code",
   "execution_count": 16,
   "metadata": {},
   "outputs": [
    {
     "data": {
      "image/png": "[encoded data removed]",
      "text/plain": [
       "<Figure size 640x480 with 1 Axes>"
      ]
     },
     "metadata": {},
     "output_type": "display_data"
    },
    {
     "data": {
      "text/plain": [
       "<ggplot: (152111915716)>"
      ]
     },
     "execution_count": 16,
     "metadata": {},
     "output_type": "execute_result"
    }
   ],
   "source": [
    "(\n",
    "county_comparison\n",
    "    >>arrange(-_.PctDifference)\n",
    "    >>filter(_.County !=\"alamance\")\n",
    "    >>filter(_.County !=\"external\")\n",
    "    >>ggplot(aes('reorder(County, PctDifference)', \"PctDifference\"))+geom_col()+ theme(axis_text_x = element_text(angle = 45 , hjust=1)) +ggtitle(\"VMT PCtDiffernce TRMG2 to TRMv6\")\n",
    "\n",
    ")\n"
   ]
  },
  {
   "cell_type": "markdown",
   "metadata": {},
   "source": [
    "# Vehicle Hours Traveled"
   ]
  },
  {
   "cell_type": "markdown",
   "metadata": {},
   "source": [
    "### Total VHT: TRMv6.2"
   ]
  },
  {
   "cell_type": "code",
   "execution_count": 17,
   "metadata": {},
   "outputs": [
    {
     "data": {
      "text/plain": [
       "1415882.0878761539"
      ]
     },
     "execution_count": 17,
     "metadata": {},
     "output_type": "execute_result"
    }
   ],
   "source": [
    "vht_v6_total = replace_nas['TotVHT'].sum()\n",
    "vht_v6_total"
   ]
  },
  {
   "cell_type": "markdown",
   "metadata": {},
   "source": [
    "### Total VHT: TRMG2"
   ]
  },
  {
   "cell_type": "code",
   "execution_count": 18,
   "metadata": {},
   "outputs": [
    {
     "data": {
      "text/plain": [
       "1287044.2371000464"
      ]
     },
     "execution_count": 18,
     "metadata": {},
     "output_type": "execute_result"
    }
   ],
   "source": [
    "vht_g2_total = hwy_2016_g2['Total_VHT_Daily'].sum()\n",
    "vht_g2_total"
   ]
  },
  {
   "cell_type": "markdown",
   "metadata": {},
   "source": [
    "### Total VHT by County"
   ]
  },
  {
   "cell_type": "code",
   "execution_count": 19,
   "metadata": {},
   "outputs": [
    {
     "data": {
      "text/html": [
       "<div>\n",
       "<style scoped>\n",
       "    .dataframe tbody tr th:only-of-type {\n",
       "        vertical-align: middle;\n",
       "    }\n",
       "\n",
       "    .dataframe tbody tr th {\n",
       "        vertical-align: top;\n",
       "    }\n",
       "\n",
       "    .dataframe thead th {\n",
       "        text-align: right;\n",
       "    }\n",
       "</style>\n",
       "<table border=\"1\" class=\"dataframe\">\n",
       "  <thead>\n",
       "    <tr style=\"text-align: right;\">\n",
       "      <th></th>\n",
       "      <th>County</th>\n",
       "      <th>Total_VHT_v6</th>\n",
       "      <th>Total_VHT_G2</th>\n",
       "      <th>Difference</th>\n",
       "      <th>PctDifference</th>\n",
       "    </tr>\n",
       "  </thead>\n",
       "  <tbody>\n",
       "    <tr>\n",
       "      <th>0</th>\n",
       "      <td>alamance</td>\n",
       "      <td>0.000</td>\n",
       "      <td>25916.825</td>\n",
       "      <td>25916.825</td>\n",
       "      <td>100.000</td>\n",
       "    </tr>\n",
       "    <tr>\n",
       "      <th>1</th>\n",
       "      <td>chatham</td>\n",
       "      <td>38290.331</td>\n",
       "      <td>36496.280</td>\n",
       "      <td>-1794.051</td>\n",
       "      <td>-4.916</td>\n",
       "    </tr>\n",
       "    <tr>\n",
       "      <th>2</th>\n",
       "      <td>durham</td>\n",
       "      <td>246640.255</td>\n",
       "      <td>222062.404</td>\n",
       "      <td>-24577.851</td>\n",
       "      <td>-11.068</td>\n",
       "    </tr>\n",
       "    <tr>\n",
       "      <th>3</th>\n",
       "      <td>external</td>\n",
       "      <td>3321.714</td>\n",
       "      <td>0.000</td>\n",
       "      <td>-3321.714</td>\n",
       "      <td>-inf</td>\n",
       "    </tr>\n",
       "    <tr>\n",
       "      <th>4</th>\n",
       "      <td>franklin</td>\n",
       "      <td>32199.822</td>\n",
       "      <td>31519.267</td>\n",
       "      <td>-680.555</td>\n",
       "      <td>-2.159</td>\n",
       "    </tr>\n",
       "    <tr>\n",
       "      <th>5</th>\n",
       "      <td>granville</td>\n",
       "      <td>25698.701</td>\n",
       "      <td>22038.494</td>\n",
       "      <td>-3660.207</td>\n",
       "      <td>-16.608</td>\n",
       "    </tr>\n",
       "    <tr>\n",
       "      <th>6</th>\n",
       "      <td>harnett</td>\n",
       "      <td>24472.330</td>\n",
       "      <td>21624.691</td>\n",
       "      <td>-2847.638</td>\n",
       "      <td>-13.168</td>\n",
       "    </tr>\n",
       "    <tr>\n",
       "      <th>7</th>\n",
       "      <td>johnston</td>\n",
       "      <td>124541.795</td>\n",
       "      <td>108030.821</td>\n",
       "      <td>-16510.975</td>\n",
       "      <td>-15.284</td>\n",
       "    </tr>\n",
       "    <tr>\n",
       "      <th>8</th>\n",
       "      <td>nash</td>\n",
       "      <td>4109.596</td>\n",
       "      <td>3125.565</td>\n",
       "      <td>-984.031</td>\n",
       "      <td>-31.483</td>\n",
       "    </tr>\n",
       "    <tr>\n",
       "      <th>9</th>\n",
       "      <td>orange</td>\n",
       "      <td>122548.292</td>\n",
       "      <td>111874.426</td>\n",
       "      <td>-10673.866</td>\n",
       "      <td>-9.541</td>\n",
       "    </tr>\n",
       "    <tr>\n",
       "      <th>10</th>\n",
       "      <td>person</td>\n",
       "      <td>16593.205</td>\n",
       "      <td>13116.742</td>\n",
       "      <td>-3476.463</td>\n",
       "      <td>-26.504</td>\n",
       "    </tr>\n",
       "    <tr>\n",
       "      <th>11</th>\n",
       "      <td>wake</td>\n",
       "      <td>777193.904</td>\n",
       "      <td>685015.993</td>\n",
       "      <td>-92177.911</td>\n",
       "      <td>-13.456</td>\n",
       "    </tr>\n",
       "  </tbody>\n",
       "</table>\n",
       "</div>"
      ],
      "text/plain": [
       "       County  Total_VHT_v6  Total_VHT_G2  Difference  PctDifference\n",
       "0    alamance         0.000     25916.825   25916.825        100.000\n",
       "1     chatham     38290.331     36496.280   -1794.051         -4.916\n",
       "2      durham    246640.255    222062.404  -24577.851        -11.068\n",
       "3    external      3321.714         0.000   -3321.714           -inf\n",
       "4    franklin     32199.822     31519.267    -680.555         -2.159\n",
       "5   granville     25698.701     22038.494   -3660.207        -16.608\n",
       "6     harnett     24472.330     21624.691   -2847.638        -13.168\n",
       "7    johnston    124541.795    108030.821  -16510.975        -15.284\n",
       "8        nash      4109.596      3125.565    -984.031        -31.483\n",
       "9      orange    122548.292    111874.426  -10673.866         -9.541\n",
       "10     person     16593.205     13116.742   -3476.463        -26.504\n",
       "11       wake    777193.904    685015.993  -92177.911        -13.456"
      ]
     },
     "execution_count": 19,
     "metadata": {},
     "output_type": "execute_result"
    }
   ],
   "source": [
    "vht_county_v6 = (\n",
    "replace_nas \n",
    "    >>group_by(County = _.New_County)\n",
    "    >>summarize(Total_VHT_v6 = _.TotVHT.sum())\n",
    ")\n",
    "\n",
    "## add missing alamance to compare to TRMG2\n",
    "vht_county_v6.loc[len(vht_county_v6.index)] = ['alamance', 0] \n",
    "\n",
    "vht_county_v6 = (\n",
    "vht_county_v6\n",
    "    >>arrange(_.County)\n",
    ")\n",
    "\n",
    "\n",
    "hwy_2016_g2['New_County'] = hwy_2016_g2['County'].str.lower()\n",
    "\n",
    "vht_county_g2 = (\n",
    "hwy_2016_g2 \n",
    "    >>group_by(County = _.New_County)\n",
    "    >>summarize(Total_VHT_G2 =_.Total_VHT_Daily.sum()              \n",
    "))\n",
    "\n",
    "vht_county_g2.loc[len(vmt_county_g2.index)] = ['external', 0] \n",
    "\n",
    "vht_county_g2 = (\n",
    "vht_county_g2\n",
    "    >>arrange(_.County)\n",
    ")\n",
    "\n",
    "county_comparison = pd.merge(vht_county_v6, vht_county_g2, on=\"County\")\n",
    "county_comparison['Difference'] = county_comparison['Total_VHT_G2']-county_comparison['Total_VHT_v6']\n",
    "county_comparison['PctDifference'] = ((county_comparison['Total_VHT_G2']-county_comparison['Total_VHT_v6'])/county_comparison['Total_VHT_G2'])*100\n",
    "\n",
    "county_comparison\n"
   ]
  },
  {
   "cell_type": "code",
   "execution_count": 20,
   "metadata": {},
   "outputs": [
    {
     "data": {
      "image/png": "[encoded data removed]",
      "text/plain": [
       "<Figure size 640x480 with 1 Axes>"
      ]
     },
     "metadata": {},
     "output_type": "display_data"
    },
    {
     "data": {
      "text/plain": [
       "<ggplot: (152068902750)>"
      ]
     },
     "execution_count": 20,
     "metadata": {},
     "output_type": "execute_result"
    }
   ],
   "source": [
    "\n",
    "(\n",
    "county_comparison\n",
    "    >>arrange(-_.PctDifference)\n",
    "    >>filter(_.County !=\"alamance\")\n",
    "    >>filter(_.County !=\"external\")\n",
    "    >>ggplot(aes('reorder(County, PctDifference)', \"PctDifference\"))+geom_col()+ theme(axis_text_x = element_text(angle = 45 , hjust=1)) +ggtitle(\"VHT PCtDiffernce TRMG2 to TRMv6\")\n",
    "\n",
    ")\n"
   ]
  },
  {
   "cell_type": "markdown",
   "metadata": {},
   "source": [
    "# Total Daily Volume - All Links\n"
   ]
  },
  {
   "cell_type": "markdown",
   "metadata": {},
   "source": [
    "### Total Daily Volume: TRMv6.2"
   ]
  },
  {
   "cell_type": "code",
   "execution_count": 21,
   "metadata": {},
   "outputs": [
    {
     "data": {
      "text/plain": [
       "186392885.39225224"
      ]
     },
     "execution_count": 21,
     "metadata": {},
     "output_type": "execute_result"
    }
   ],
   "source": [
    "tot_vol_v6_total = replace_nas['ToTDlyVol'].sum()\n",
    "tot_vol_v6_total"
   ]
  },
  {
   "cell_type": "markdown",
   "metadata": {},
   "source": [
    "### Total Daily Volume: TRMG2"
   ]
  },
  {
   "cell_type": "code",
   "execution_count": 22,
   "metadata": {},
   "outputs": [
    {
     "data": {
      "text/plain": [
       "306663903.1572029"
      ]
     },
     "execution_count": 22,
     "metadata": {},
     "output_type": "execute_result"
    }
   ],
   "source": [
    "tot_vol_g2_total = hwy_2016_g2['Total_Flow_Daily'].sum()\n",
    "tot_vol_g2_total"
   ]
  },
  {
   "cell_type": "markdown",
   "metadata": {},
   "source": [
    "### Total Daily Volume by County"
   ]
  },
  {
   "cell_type": "code",
   "execution_count": 23,
   "metadata": {},
   "outputs": [
    {
     "data": {
      "text/html": [
       "<div>\n",
       "<style scoped>\n",
       "    .dataframe tbody tr th:only-of-type {\n",
       "        vertical-align: middle;\n",
       "    }\n",
       "\n",
       "    .dataframe tbody tr th {\n",
       "        vertical-align: top;\n",
       "    }\n",
       "\n",
       "    .dataframe thead th {\n",
       "        text-align: right;\n",
       "    }\n",
       "</style>\n",
       "<table border=\"1\" class=\"dataframe\">\n",
       "  <thead>\n",
       "    <tr style=\"text-align: right;\">\n",
       "      <th></th>\n",
       "      <th>County</th>\n",
       "      <th>Total_Flow_v6</th>\n",
       "      <th>Total_Flow_G2</th>\n",
       "      <th>Difference</th>\n",
       "      <th>PctDifference</th>\n",
       "    </tr>\n",
       "  </thead>\n",
       "  <tbody>\n",
       "    <tr>\n",
       "      <th>0</th>\n",
       "      <td>alamance</td>\n",
       "      <td>0.000</td>\n",
       "      <td>5365310.614</td>\n",
       "      <td>5365310.614</td>\n",
       "      <td>100.000</td>\n",
       "    </tr>\n",
       "    <tr>\n",
       "      <th>1</th>\n",
       "      <td>chatham</td>\n",
       "      <td>2498666.222</td>\n",
       "      <td>5943315.381</td>\n",
       "      <td>3444649.158</td>\n",
       "      <td>57.958</td>\n",
       "    </tr>\n",
       "    <tr>\n",
       "      <th>2</th>\n",
       "      <td>durham</td>\n",
       "      <td>43217816.601</td>\n",
       "      <td>60486993.379</td>\n",
       "      <td>17269176.777</td>\n",
       "      <td>28.550</td>\n",
       "    </tr>\n",
       "    <tr>\n",
       "      <th>3</th>\n",
       "      <td>external</td>\n",
       "      <td>676773.888</td>\n",
       "      <td>0.000</td>\n",
       "      <td>-676773.888</td>\n",
       "      <td>-inf</td>\n",
       "    </tr>\n",
       "    <tr>\n",
       "      <th>4</th>\n",
       "      <td>franklin</td>\n",
       "      <td>2665561.592</td>\n",
       "      <td>8323252.440</td>\n",
       "      <td>5657690.847</td>\n",
       "      <td>67.975</td>\n",
       "    </tr>\n",
       "    <tr>\n",
       "      <th>5</th>\n",
       "      <td>granville</td>\n",
       "      <td>1775753.358</td>\n",
       "      <td>3324355.446</td>\n",
       "      <td>1548602.089</td>\n",
       "      <td>46.584</td>\n",
       "    </tr>\n",
       "    <tr>\n",
       "      <th>6</th>\n",
       "      <td>harnett</td>\n",
       "      <td>1930055.644</td>\n",
       "      <td>4795670.687</td>\n",
       "      <td>2865615.042</td>\n",
       "      <td>59.754</td>\n",
       "    </tr>\n",
       "    <tr>\n",
       "      <th>7</th>\n",
       "      <td>johnston</td>\n",
       "      <td>10281901.428</td>\n",
       "      <td>19573688.226</td>\n",
       "      <td>9291786.798</td>\n",
       "      <td>47.471</td>\n",
       "    </tr>\n",
       "    <tr>\n",
       "      <th>8</th>\n",
       "      <td>nash</td>\n",
       "      <td>249296.364</td>\n",
       "      <td>388466.360</td>\n",
       "      <td>139169.997</td>\n",
       "      <td>35.825</td>\n",
       "    </tr>\n",
       "    <tr>\n",
       "      <th>9</th>\n",
       "      <td>orange</td>\n",
       "      <td>15895967.235</td>\n",
       "      <td>22718823.814</td>\n",
       "      <td>6822856.578</td>\n",
       "      <td>30.032</td>\n",
       "    </tr>\n",
       "    <tr>\n",
       "      <th>10</th>\n",
       "      <td>person</td>\n",
       "      <td>1152069.544</td>\n",
       "      <td>2524527.179</td>\n",
       "      <td>1372457.635</td>\n",
       "      <td>54.365</td>\n",
       "    </tr>\n",
       "    <tr>\n",
       "      <th>11</th>\n",
       "      <td>wake</td>\n",
       "      <td>105993078.449</td>\n",
       "      <td>172314595.946</td>\n",
       "      <td>66321517.497</td>\n",
       "      <td>38.489</td>\n",
       "    </tr>\n",
       "  </tbody>\n",
       "</table>\n",
       "</div>"
      ],
      "text/plain": [
       "       County  Total_Flow_v6  Total_Flow_G2   Difference  PctDifference\n",
       "0    alamance          0.000    5365310.614  5365310.614        100.000\n",
       "1     chatham    2498666.222    5943315.381  3444649.158         57.958\n",
       "2      durham   43217816.601   60486993.379 17269176.777         28.550\n",
       "3    external     676773.888          0.000  -676773.888           -inf\n",
       "4    franklin    2665561.592    8323252.440  5657690.847         67.975\n",
       "5   granville    1775753.358    3324355.446  1548602.089         46.584\n",
       "6     harnett    1930055.644    4795670.687  2865615.042         59.754\n",
       "7    johnston   10281901.428   19573688.226  9291786.798         47.471\n",
       "8        nash     249296.364     388466.360   139169.997         35.825\n",
       "9      orange   15895967.235   22718823.814  6822856.578         30.032\n",
       "10     person    1152069.544    2524527.179  1372457.635         54.365\n",
       "11       wake  105993078.449  172314595.946 66321517.497         38.489"
      ]
     },
     "execution_count": 23,
     "metadata": {},
     "output_type": "execute_result"
    }
   ],
   "source": [
    "tot_vol_county_v6 = (\n",
    "replace_nas \n",
    "    >>group_by(County = _.New_County)\n",
    "    >>summarize(Total_Flow_v6 = _.ToTDlyVol.sum())\n",
    ")\n",
    "\n",
    "## add missing alamance to compare to TRMG2\n",
    "tot_vol_county_v6.loc[len(tot_vol_county_v6.index)] = ['alamance', 0] \n",
    "\n",
    "tot_vol_county_v6 = (\n",
    "tot_vol_county_v6\n",
    "    >>arrange(_.County)\n",
    ")\n",
    "\n",
    "\n",
    "hwy_2016_g2['New_County'] = hwy_2016_g2['County'].str.lower()\n",
    "\n",
    "tot_vol_county_g2 = (\n",
    "hwy_2016_g2 \n",
    "    >>group_by(County = _.New_County)\n",
    "    >>summarize(Total_Flow_G2 =_.Total_Flow_Daily.sum()              \n",
    "))\n",
    "\n",
    "tot_vol_county_g2.loc[len(tot_vol_county_g2.index)] = ['external', 0] \n",
    "\n",
    "tot_vol_county_g2 = (\n",
    "tot_vol_county_g2\n",
    "    >>arrange(_.County)\n",
    ")\n",
    "\n",
    "county_comparison = pd.merge(tot_vol_county_v6, tot_vol_county_g2, on=\"County\")\n",
    "county_comparison['Difference'] = county_comparison['Total_Flow_G2']-county_comparison['Total_Flow_v6']\n",
    "county_comparison['PctDifference'] = ((county_comparison['Total_Flow_G2']-county_comparison['Total_Flow_v6'])/county_comparison['Total_Flow_G2'])*100\n",
    "\n",
    "county_comparison\n"
   ]
  },
  {
   "cell_type": "code",
   "execution_count": 24,
   "metadata": {},
   "outputs": [
    {
     "data": {
      "image/png": "[encoded data removed]",
      "text/plain": [
       "<Figure size 640x480 with 1 Axes>"
      ]
     },
     "metadata": {},
     "output_type": "display_data"
    },
    {
     "data": {
      "text/plain": [
       "<ggplot: (152072254546)>"
      ]
     },
     "execution_count": 24,
     "metadata": {},
     "output_type": "execute_result"
    }
   ],
   "source": [
    "\n",
    "(\n",
    "county_comparison\n",
    "    >>arrange(-_.PctDifference)\n",
    "    >>filter(_.County !=\"alamance\")\n",
    "    >>filter(_.County !=\"external\")\n",
    "    >>ggplot(aes('reorder(County, PctDifference)', \"PctDifference\"))+geom_col()+ theme(axis_text_x = element_text(angle = 45 , hjust=1)) +ggtitle(\"Total Flow PCtDiffernce TRMG2 to TRMv6\")\n",
    "\n",
    ")\n"
   ]
  },
  {
   "cell_type": "markdown",
   "metadata": {},
   "source": [
    "# Total Daily Volume - Links with Counts"
   ]
  },
  {
   "cell_type": "markdown",
   "metadata": {},
   "source": [
    "### Total Daily Volume: TRMv6.2"
   ]
  },
  {
   "cell_type": "code",
   "execution_count": 34,
   "metadata": {},
   "outputs": [
    {
     "data": {
      "text/plain": [
       "52528713.675038055"
      ]
     },
     "execution_count": 34,
     "metadata": {},
     "output_type": "execute_result"
    }
   ],
   "source": [
    "inpFname =  os.path.join(path, \"EvalModule/TRM6_Count_2016_Observed.bin\")\n",
    "count = dk.GetDataFrameFromBin(inpFname)\n",
    "\n",
    "temp = (\n",
    "count \n",
    "    >>select(_.ID, _.Daily_Counts)\n",
    ")\n",
    "\n",
    "temp = pd.merge(replace_nas, temp)\n",
    "\n",
    "hwy_2016_v6_counts = (\n",
    "temp\n",
    "    >>filter(_.Daily_Counts > 0)\n",
    ")\n",
    "\n",
    "tot_vol_v6_total = hwy_2016_v6_counts['ToTDlyVol'].sum()\n",
    "tot_vol_v6_total\n",
    "\n"
   ]
  },
  {
   "cell_type": "markdown",
   "metadata": {},
   "source": [
    "### Total Daily Volume: TRMG2"
   ]
  },
  {
   "cell_type": "code",
   "execution_count": 35,
   "metadata": {},
   "outputs": [
    {
     "data": {
      "text/plain": [
       "56116720.94354267"
      ]
     },
     "execution_count": 35,
     "metadata": {},
     "output_type": "execute_result"
    }
   ],
   "source": [
    "hwy_2016_g2_counts = (\n",
    "hwy_2016_g2\n",
    "    >>filter(_.DailyCount>0)\n",
    ")\n",
    "\n",
    "tot_vol_g2_total = hwy_2016_g2_counts['Total_Flow_Daily'].sum()\n",
    "tot_vol_g2_total"
   ]
  },
  {
   "cell_type": "markdown",
   "metadata": {},
   "source": [
    "Percent Difference"
   ]
  },
  {
   "cell_type": "code",
   "execution_count": 36,
   "metadata": {},
   "outputs": [
    {
     "data": {
      "text/plain": [
       "6.393829162103747"
      ]
     },
     "execution_count": 36,
     "metadata": {},
     "output_type": "execute_result"
    }
   ],
   "source": [
    "((tot_vol_g2_total-tot_vol_v6_total)/tot_vol_g2_total)*100"
   ]
  },
  {
   "cell_type": "code",
   "execution_count": 37,
   "metadata": {},
   "outputs": [
    {
     "name": "stderr",
     "output_type": "stream",
     "text": [
      "<ipython-input-37-bde943d44b36>:10: SettingWithCopyWarning: \n",
      "A value is trying to be set on a copy of a slice from a DataFrame.\n",
      "Try using .loc[row_indexer,col_indexer] = value instead\n",
      "\n",
      "See the caveats in the documentation: https://pandas.pydata.org/pandas-docs/stable/user_guide/indexing.html#returning-a-view-versus-a-copy\n"
     ]
    },
    {
     "data": {
      "text/html": [
       "<div>\n",
       "<style scoped>\n",
       "    .dataframe tbody tr th:only-of-type {\n",
       "        vertical-align: middle;\n",
       "    }\n",
       "\n",
       "    .dataframe tbody tr th {\n",
       "        vertical-align: top;\n",
       "    }\n",
       "\n",
       "    .dataframe thead th {\n",
       "        text-align: right;\n",
       "    }\n",
       "</style>\n",
       "<table border=\"1\" class=\"dataframe\">\n",
       "  <thead>\n",
       "    <tr style=\"text-align: right;\">\n",
       "      <th></th>\n",
       "      <th>County</th>\n",
       "      <th>Total_Flow_v6</th>\n",
       "      <th>Total_Flow_G2</th>\n",
       "      <th>PctDifference</th>\n",
       "    </tr>\n",
       "  </thead>\n",
       "  <tbody>\n",
       "    <tr>\n",
       "      <th>0</th>\n",
       "      <td>chatham</td>\n",
       "      <td>845870.512</td>\n",
       "      <td>912262.988</td>\n",
       "      <td>7.278</td>\n",
       "    </tr>\n",
       "    <tr>\n",
       "      <th>1</th>\n",
       "      <td>durham</td>\n",
       "      <td>12016011.959</td>\n",
       "      <td>12969703.995</td>\n",
       "      <td>7.353</td>\n",
       "    </tr>\n",
       "    <tr>\n",
       "      <th>2</th>\n",
       "      <td>external</td>\n",
       "      <td>104807.179</td>\n",
       "      <td>0.000</td>\n",
       "      <td>-inf</td>\n",
       "    </tr>\n",
       "    <tr>\n",
       "      <th>3</th>\n",
       "      <td>franklin</td>\n",
       "      <td>979763.419</td>\n",
       "      <td>1020690.377</td>\n",
       "      <td>4.010</td>\n",
       "    </tr>\n",
       "    <tr>\n",
       "      <th>4</th>\n",
       "      <td>granville</td>\n",
       "      <td>674119.029</td>\n",
       "      <td>628106.699</td>\n",
       "      <td>-7.326</td>\n",
       "    </tr>\n",
       "    <tr>\n",
       "      <th>5</th>\n",
       "      <td>harnett</td>\n",
       "      <td>728257.696</td>\n",
       "      <td>652223.976</td>\n",
       "      <td>-11.658</td>\n",
       "    </tr>\n",
       "    <tr>\n",
       "      <th>6</th>\n",
       "      <td>johnston</td>\n",
       "      <td>3509072.787</td>\n",
       "      <td>3436414.086</td>\n",
       "      <td>-2.114</td>\n",
       "    </tr>\n",
       "    <tr>\n",
       "      <th>7</th>\n",
       "      <td>nash</td>\n",
       "      <td>124308.538</td>\n",
       "      <td>66200.312</td>\n",
       "      <td>-87.776</td>\n",
       "    </tr>\n",
       "    <tr>\n",
       "      <th>8</th>\n",
       "      <td>orange</td>\n",
       "      <td>4007723.588</td>\n",
       "      <td>3925944.749</td>\n",
       "      <td>-2.083</td>\n",
       "    </tr>\n",
       "    <tr>\n",
       "      <th>9</th>\n",
       "      <td>person</td>\n",
       "      <td>644518.160</td>\n",
       "      <td>527404.481</td>\n",
       "      <td>-22.206</td>\n",
       "    </tr>\n",
       "    <tr>\n",
       "      <th>10</th>\n",
       "      <td>wake</td>\n",
       "      <td>28884130.136</td>\n",
       "      <td>31020631.325</td>\n",
       "      <td>6.887</td>\n",
       "    </tr>\n",
       "  </tbody>\n",
       "</table>\n",
       "</div>"
      ],
      "text/plain": [
       "       County  Total_Flow_v6  Total_Flow_G2  PctDifference\n",
       "0     chatham     845870.512     912262.988          7.278\n",
       "1      durham   12016011.959   12969703.995          7.353\n",
       "2    external     104807.179          0.000           -inf\n",
       "3    franklin     979763.419    1020690.377          4.010\n",
       "4   granville     674119.029     628106.699         -7.326\n",
       "5     harnett     728257.696     652223.976        -11.658\n",
       "6    johnston    3509072.787    3436414.086         -2.114\n",
       "7        nash     124308.538      66200.312        -87.776\n",
       "8      orange    4007723.588    3925944.749         -2.083\n",
       "9      person     644518.160     527404.481        -22.206\n",
       "10       wake   28884130.136   31020631.325          6.887"
      ]
     },
     "execution_count": 37,
     "metadata": {},
     "output_type": "execute_result"
    }
   ],
   "source": [
    "tot_vol_county_v6 = (\n",
    "hwy_2016_v6_counts \n",
    "    >>group_by(County = _.New_County)\n",
    "    >>summarize(Total_Flow_v6 = _.ToTDlyVol.sum(),\n",
    "               Total_Counts_v6 = _.Daily_Counts.sum())\n",
    "    >>mutate(PctDifference = (_.Total_Flow_v6 - _.Total_Counts_v6)/_.Total_Flow_v6*100)\n",
    ")\n",
    "\n",
    "\n",
    "hwy_2016_g2_counts['New_County'] = hwy_2016_g2_counts['County'].str.lower()\n",
    "\n",
    "tot_vol_county_g2 = (\n",
    "hwy_2016_g2_counts \n",
    "    >>group_by(County = _.New_County)\n",
    "    >>summarize(Total_Flow_G2 =_.Total_Flow_Daily.sum(),\n",
    "                Total_Counts_G2 = _.DailyCount.sum())\n",
    "    >>mutate(PctDifference = (_.Total_Flow_G2 - _.Total_Counts_G2)/_.Total_Flow_G2*100)\n",
    ")\n",
    "\n",
    "\n",
    "tot_vol_county_g2.loc[len(tot_vol_county_g2.index)] = ['external', 0,0,0] \n",
    "\n",
    "tot_vol_county_g2 = (\n",
    "tot_vol_county_g2\n",
    "    >>arrange(_.County)\n",
    ")\n",
    "\n",
    "county_comparison = pd.merge(tot_vol_county_v6, tot_vol_county_g2, on=\"County\")\n",
    "\n",
    "county_comparison['Difference'] = county_comparison['Total_Flow_G2']-county_comparison['Total_Flow_v6']\n",
    "county_comparison['PctDifference'] = ((county_comparison['Total_Flow_G2']-county_comparison['Total_Flow_v6'])/county_comparison['Total_Flow_G2'])*100\n",
    "\n",
    "tot_flow_county = (\n",
    "county_comparison\n",
    "    >>select(_.County, _.Total_Flow_v6, _.Total_Flow_G2, _.PctDifference)\n",
    ")\n",
    "tot_flow_county"
   ]
  },
  {
   "cell_type": "code",
   "execution_count": 38,
   "metadata": {},
   "outputs": [
    {
     "data": {
      "image/png": "[encoded data removed]",
      "text/plain": [
       "<Figure size 640x480 with 1 Axes>"
      ]
     },
     "metadata": {},
     "output_type": "display_data"
    },
    {
     "data": {
      "text/plain": [
       "<ggplot: (152075577188)>"
      ]
     },
     "execution_count": 38,
     "metadata": {},
     "output_type": "execute_result"
    }
   ],
   "source": [
    "\n",
    "(\n",
    "tot_flow_county\n",
    "    >>arrange(-_.PctDifference)\n",
    "    >>filter(_.County !=\"alamance\")\n",
    "    >>filter(_.County !=\"external\")\n",
    "   # >>ggplot(aes(\"County\", \"PctDifference\"))+geom_col()+ theme(axis_text_x = element_text(angle = 45 , hjust=1)) +ggtitle(\"Total Flow PCtDiffernce TRMG2 to TRMv6\")\n",
    "     >>ggplot(aes('reorder(County, PctDifference)', \"PctDifference\"))+geom_col()+ theme(axis_text_x = element_text(angle = 45 , hjust=1)) +ggtitle(\"Total Flow PCtDiffernce TRMG2 to TRMv6\")\n",
    ")\n"
   ]
  },
  {
   "cell_type": "markdown",
   "metadata": {},
   "source": [
    "# Total Flow by Facility Type"
   ]
  },
  {
   "cell_type": "markdown",
   "metadata": {},
   "source": [
    "## TRMv6.2"
   ]
  },
  {
   "cell_type": "code",
   "execution_count": 39,
   "metadata": {},
   "outputs": [
    {
     "data": {
      "text/html": [
       "<div>\n",
       "<style scoped>\n",
       "    .dataframe tbody tr th:only-of-type {\n",
       "        vertical-align: middle;\n",
       "    }\n",
       "\n",
       "    .dataframe tbody tr th {\n",
       "        vertical-align: top;\n",
       "    }\n",
       "\n",
       "    .dataframe thead th {\n",
       "        text-align: right;\n",
       "    }\n",
       "</style>\n",
       "<table border=\"1\" class=\"dataframe\">\n",
       "  <thead>\n",
       "    <tr style=\"text-align: right;\">\n",
       "      <th></th>\n",
       "      <th>FCGroup_Tag</th>\n",
       "      <th>Total_Flow_v6</th>\n",
       "      <th>Total_Counts_v6</th>\n",
       "      <th>PctDifference</th>\n",
       "    </tr>\n",
       "  </thead>\n",
       "  <tbody>\n",
       "    <tr>\n",
       "      <th>0</th>\n",
       "      <td>Collector</td>\n",
       "      <td>6441993.944</td>\n",
       "      <td>6623550</td>\n",
       "      <td>-2.818</td>\n",
       "    </tr>\n",
       "    <tr>\n",
       "      <th>1</th>\n",
       "      <td>Freeway</td>\n",
       "      <td>14257957.000</td>\n",
       "      <td>14084500</td>\n",
       "      <td>1.217</td>\n",
       "    </tr>\n",
       "    <tr>\n",
       "      <th>2</th>\n",
       "      <td>Local</td>\n",
       "      <td>4735795.867</td>\n",
       "      <td>4655830</td>\n",
       "      <td>1.689</td>\n",
       "    </tr>\n",
       "    <tr>\n",
       "      <th>3</th>\n",
       "      <td>Major Arterial</td>\n",
       "      <td>13835060.618</td>\n",
       "      <td>15284820</td>\n",
       "      <td>-10.479</td>\n",
       "    </tr>\n",
       "    <tr>\n",
       "      <th>4</th>\n",
       "      <td>Minor Arterial</td>\n",
       "      <td>13151478.378</td>\n",
       "      <td>13397660</td>\n",
       "      <td>-1.872</td>\n",
       "    </tr>\n",
       "  </tbody>\n",
       "</table>\n",
       "</div>"
      ],
      "text/plain": [
       "      FCGroup_Tag  Total_Flow_v6  Total_Counts_v6  PctDifference\n",
       "0       Collector    6441993.944          6623550         -2.818\n",
       "1         Freeway   14257957.000         14084500          1.217\n",
       "2           Local    4735795.867          4655830          1.689\n",
       "3  Major Arterial   13835060.618         15284820        -10.479\n",
       "4  Minor Arterial   13151478.378         13397660         -1.872"
      ]
     },
     "execution_count": 39,
     "metadata": {},
     "output_type": "execute_result"
    }
   ],
   "source": [
    "hwy_2016_v6_counts['FCGroup_Tag'] = case_when(hwy_2016_v6_counts, {\n",
    "    _.FCGROUP ==1 : \"Freeway\",\n",
    "    _.FCGROUP ==2 : \"Major Arterial\",\n",
    "    _.FCGROUP ==3: \"Minor Arterial\",\n",
    "    _.FCGROUP ==4: \"Collector\",\n",
    "    _.FCGROUP ==5: \"Local\",\n",
    "    True: \"CC\"\n",
    "})\n",
    "\n",
    "tot_vol_fcgroup_v6 = (\n",
    "hwy_2016_v6_counts \n",
    "    >>group_by(_.FCGroup_Tag)\n",
    "    >>filter(_.FCGroup_Tag !=\"CC\")\n",
    "    >>summarize(Total_Flow_v6 = _.ToTDlyVol.sum(),\n",
    "               Total_Counts_v6 = _.Daily_Counts.sum())\n",
    "    >>mutate(PctDifference = (_.Total_Flow_v6 - _.Total_Counts_v6)/_.Total_Flow_v6*100)\n",
    ")\n",
    "tot_vol_fcgroup_v6"
   ]
  },
  {
   "cell_type": "code",
   "execution_count": 40,
   "metadata": {},
   "outputs": [
    {
     "data": {
      "image/png": "[encoded data removed]",
      "text/plain": [
       "<Figure size 640x480 with 1 Axes>"
      ]
     },
     "metadata": {},
     "output_type": "display_data"
    },
    {
     "data": {
      "text/plain": [
       "<ggplot: (152098400220)>"
      ]
     },
     "execution_count": 40,
     "metadata": {},
     "output_type": "execute_result"
    }
   ],
   "source": [
    "(\n",
    "tot_vol_fcgroup_v6\n",
    "    >>ggplot(aes('reorder(FCGroup_Tag, PctDifference)', \"PctDifference\"))+geom_bar(stat='identity', position='dodge')+ theme(axis_text_x = element_text(angle = 45 , hjust=1))\n",
    "            +ggtitle(\"Total Flow PCtDiffernce TRMG2 to TRMv6\")\n",
    ")\n"
   ]
  },
  {
   "cell_type": "code",
   "execution_count": null,
   "metadata": {},
   "outputs": [],
   "source": []
  },
  {
   "cell_type": "code",
   "execution_count": null,
   "metadata": {},
   "outputs": [],
   "source": []
  },
  {
   "cell_type": "code",
   "execution_count": null,
   "metadata": {},
   "outputs": [],
   "source": []
  },
  {
   "cell_type": "code",
   "execution_count": null,
   "metadata": {},
   "outputs": [],
   "source": []
  },
  {
   "cell_type": "markdown",
   "metadata": {},
   "source": [
    "## TRMG2"
   ]
  },
  {
   "cell_type": "code",
   "execution_count": 41,
   "metadata": {},
   "outputs": [
    {
     "data": {
      "text/html": [
       "<div>\n",
       "<style scoped>\n",
       "    .dataframe tbody tr th:only-of-type {\n",
       "        vertical-align: middle;\n",
       "    }\n",
       "\n",
       "    .dataframe tbody tr th {\n",
       "        vertical-align: top;\n",
       "    }\n",
       "\n",
       "    .dataframe thead th {\n",
       "        text-align: right;\n",
       "    }\n",
       "</style>\n",
       "<table border=\"1\" class=\"dataframe\">\n",
       "  <thead>\n",
       "    <tr style=\"text-align: right;\">\n",
       "      <th></th>\n",
       "      <th>HCMType</th>\n",
       "      <th>n</th>\n",
       "      <th>TotalVolume</th>\n",
       "      <th>TotalCounts</th>\n",
       "      <th>PctDifference</th>\n",
       "    </tr>\n",
       "  </thead>\n",
       "  <tbody>\n",
       "    <tr>\n",
       "      <th>7</th>\n",
       "      <td>TLHighway</td>\n",
       "      <td>79</td>\n",
       "      <td>814139.459</td>\n",
       "      <td>716100</td>\n",
       "      <td>12.042</td>\n",
       "    </tr>\n",
       "    <tr>\n",
       "      <th>2</th>\n",
       "      <td>Freeway</td>\n",
       "      <td>359</td>\n",
       "      <td>14787504.962</td>\n",
       "      <td>14060257</td>\n",
       "      <td>4.918</td>\n",
       "    </tr>\n",
       "    <tr>\n",
       "      <th>4</th>\n",
       "      <td>MLHighway</td>\n",
       "      <td>115</td>\n",
       "      <td>2394673.483</td>\n",
       "      <td>2297000</td>\n",
       "      <td>4.079</td>\n",
       "    </tr>\n",
       "    <tr>\n",
       "      <th>3</th>\n",
       "      <td>Local</td>\n",
       "      <td>459</td>\n",
       "      <td>1217696.350</td>\n",
       "      <td>1168850</td>\n",
       "      <td>4.011</td>\n",
       "    </tr>\n",
       "    <tr>\n",
       "      <th>5</th>\n",
       "      <td>MajorArterial</td>\n",
       "      <td>877</td>\n",
       "      <td>19678396.453</td>\n",
       "      <td>19336397</td>\n",
       "      <td>1.738</td>\n",
       "    </tr>\n",
       "    <tr>\n",
       "      <th>0</th>\n",
       "      <td>Arterial</td>\n",
       "      <td>1605</td>\n",
       "      <td>13139758.068</td>\n",
       "      <td>13623523</td>\n",
       "      <td>-3.682</td>\n",
       "    </tr>\n",
       "    <tr>\n",
       "      <th>6</th>\n",
       "      <td>MajorCollector</td>\n",
       "      <td>275</td>\n",
       "      <td>1300728.737</td>\n",
       "      <td>1366060</td>\n",
       "      <td>-5.023</td>\n",
       "    </tr>\n",
       "    <tr>\n",
       "      <th>1</th>\n",
       "      <td>Collector</td>\n",
       "      <td>828</td>\n",
       "      <td>2644544.037</td>\n",
       "      <td>2894841</td>\n",
       "      <td>-9.465</td>\n",
       "    </tr>\n",
       "  </tbody>\n",
       "</table>\n",
       "</div>"
      ],
      "text/plain": [
       "          HCMType     n  TotalVolume  TotalCounts  PctDifference\n",
       "7       TLHighway    79   814139.459       716100         12.042\n",
       "2         Freeway   359 14787504.962     14060257          4.918\n",
       "4       MLHighway   115  2394673.483      2297000          4.079\n",
       "3           Local   459  1217696.350      1168850          4.011\n",
       "5   MajorArterial   877 19678396.453     19336397          1.738\n",
       "0        Arterial  1605 13139758.068     13623523         -3.682\n",
       "6  MajorCollector   275  1300728.737      1366060         -5.023\n",
       "1       Collector   828  2644544.037      2894841         -9.465"
      ]
     },
     "execution_count": 41,
     "metadata": {},
     "output_type": "execute_result"
    }
   ],
   "source": [
    "##Recreate count_comparison_by_ft_and_at.csv \n",
    "\n",
    "\n",
    "count_comparison_by_ft_and_at = (\n",
    "hwy_2016_g2 \n",
    "    >>filter(_.HCMType !=\"CC\")\n",
    "    >>filter(_.DailyCount>0)\n",
    "    >>group_by(_.HCMType)\n",
    "    >>summarize(n = _.DailyCount.count(),\n",
    "                TotalVolume =_.Total_Flow_Daily.sum(),\n",
    "                TotalCounts = _.DailyCount.sum())\n",
    "    >>mutate(PctDifference = (_.TotalVolume - _.TotalCounts)/_.TotalVolume*100)\n",
    "    >>arrange(-_.PctDifference)\n",
    "  \n",
    "\n",
    ")\n",
    "\n",
    "count_comparison_by_ft_and_at"
   ]
  },
  {
   "cell_type": "code",
   "execution_count": null,
   "metadata": {},
   "outputs": [],
   "source": []
  },
  {
   "cell_type": "code",
   "execution_count": 42,
   "metadata": {},
   "outputs": [
    {
     "data": {
      "image/png": "[encoded data removed]",
      "text/plain": [
       "<Figure size 640x480 with 1 Axes>"
      ]
     },
     "metadata": {},
     "output_type": "display_data"
    },
    {
     "data": {
      "text/plain": [
       "<ggplot: (152080372435)>"
      ]
     },
     "execution_count": 42,
     "metadata": {},
     "output_type": "execute_result"
    }
   ],
   "source": [
    "(\n",
    "count_comparison_by_ft_and_at\n",
    "    >>ggplot(aes('reorder(HCMType, PctDifference)', \"PctDifference\"))+geom_bar(stat='identity', position='dodge')+ theme(axis_text_x = element_text(angle = 45 , hjust=1))\n",
    "            +ggtitle(\"Total Flow PCtDiffernce TRMG2 to TRMv6\")\n",
    ")\n"
   ]
  },
  {
   "cell_type": "code",
   "execution_count": null,
   "metadata": {},
   "outputs": [],
   "source": []
  },
  {
   "cell_type": "code",
   "execution_count": null,
   "metadata": {},
   "outputs": [],
   "source": []
  },
  {
   "cell_type": "code",
   "execution_count": null,
   "metadata": {},
   "outputs": [],
   "source": []
  },
  {
   "cell_type": "code",
   "execution_count": null,
   "metadata": {},
   "outputs": [],
   "source": []
  },
  {
   "cell_type": "code",
   "execution_count": null,
   "metadata": {},
   "outputs": [],
   "source": []
  },
  {
   "cell_type": "code",
   "execution_count": null,
   "metadata": {},
   "outputs": [],
   "source": []
  },
  {
   "cell_type": "code",
   "execution_count": null,
   "metadata": {},
   "outputs": [],
   "source": []
  },
  {
   "cell_type": "code",
   "execution_count": null,
   "metadata": {},
   "outputs": [],
   "source": []
  },
  {
   "cell_type": "code",
   "execution_count": null,
   "metadata": {},
   "outputs": [],
   "source": []
  },
  {
   "cell_type": "code",
   "execution_count": null,
   "metadata": {},
   "outputs": [],
   "source": []
  },
  {
   "cell_type": "code",
   "execution_count": null,
   "metadata": {},
   "outputs": [],
   "source": []
  },
  {
   "cell_type": "code",
   "execution_count": null,
   "metadata": {},
   "outputs": [],
   "source": []
  },
  {
   "cell_type": "code",
   "execution_count": null,
   "metadata": {},
   "outputs": [],
   "source": []
  },
  {
   "cell_type": "code",
   "execution_count": null,
   "metadata": {},
   "outputs": [],
   "source": []
  },
  {
   "cell_type": "code",
   "execution_count": null,
   "metadata": {},
   "outputs": [],
   "source": [
    "\n"
   ]
  },
  {
   "cell_type": "code",
   "execution_count": null,
   "metadata": {},
   "outputs": [],
   "source": []
  },
  {
   "cell_type": "code",
   "execution_count": null,
   "metadata": {},
   "outputs": [],
   "source": [
    "    "
   ]
  },
  {
   "cell_type": "code",
   "execution_count": null,
   "metadata": {},
   "outputs": [],
   "source": []
  },
  {
   "cell_type": "code",
   "execution_count": null,
   "metadata": {},
   "outputs": [],
   "source": []
  },
  {
   "cell_type": "code",
   "execution_count": null,
   "metadata": {},
   "outputs": [],
   "source": []
  },
  {
   "cell_type": "code",
   "execution_count": null,
   "metadata": {},
   "outputs": [],
   "source": []
  },
  {
   "cell_type": "code",
   "execution_count": null,
   "metadata": {},
   "outputs": [],
   "source": []
  },
  {
   "cell_type": "code",
   "execution_count": null,
   "metadata": {},
   "outputs": [],
   "source": []
  },
  {
   "cell_type": "code",
   "execution_count": null,
   "metadata": {},
   "outputs": [],
   "source": []
  },
  {
   "cell_type": "code",
   "execution_count": null,
   "metadata": {},
   "outputs": [],
   "source": []
  },
  {
   "cell_type": "code",
   "execution_count": null,
   "metadata": {},
   "outputs": [],
   "source": []
  },
  {
   "cell_type": "code",
   "execution_count": null,
   "metadata": {},
   "outputs": [],
   "source": []
  }
 ],
 "metadata": {
  "kernelspec": {
   "display_name": "Python 3",
   "language": "python",
   "name": "python3"
  },
  "language_info": {
   "codemirror_mode": {
    "name": "ipython",
    "version": 3
   },
   "file_extension": ".py",
   "mimetype": "text/x-python",
   "name": "python",
   "nbconvert_exporter": "python",
   "pygments_lexer": "ipython3",
   "version": "3.8.5"
  }
 },
 "nbformat": 4,
 "nbformat_minor": 4
}
