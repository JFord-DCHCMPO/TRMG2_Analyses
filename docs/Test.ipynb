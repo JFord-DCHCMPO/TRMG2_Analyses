{
 "cells": [
  {
   "cell_type": "markdown",
   "metadata": {},
   "source": [
    "## Overview\n",
    "\n",
    "This document summarizes the 2016 BY performance for the TRMG2 compared to the TRMv6.2\n"
   ]
  },
  {
   "cell_type": "code",
   "execution_count": 43,
   "metadata": {},
   "outputs": [],
   "source": [
    "import pandas as pd\n",
    "from siuba import *\n",
    "import numpy as np\n",
    "from plotnine import *\n",
    "\n",
    "\n",
    "pd.set_option('display.float_format', lambda x: '%.3f' % x)\n",
    "pd.options.display.float_format = '{:,.2f}'.format\n",
    "set low_memory=False.\n",
    "\n",
    "\n",
    "\n"
   ]
  },
  {
   "cell_type": "code",
   "execution_count": 44,
   "metadata": {},
   "outputs": [
    {
     "name": "stderr",
     "output_type": "stream",
     "text": [
      "C:\\Users\\JacobFo\\Anaconda3\\lib\\site-packages\\IPython\\core\\interactiveshell.py:3418: DtypeWarning:\n",
      "\n",
      "Columns (49,50,51,55,56,57,59) have mixed types.Specify dtype option on import or set low_memory=False.\n",
      "\n",
      "C:\\Users\\JacobFo\\Anaconda3\\lib\\site-packages\\IPython\\core\\interactiveshell.py:3418: DtypeWarning:\n",
      "\n",
      "Columns (20,21,25,26) have mixed types.Specify dtype option on import or set low_memory=False.\n",
      "\n"
     ]
    }
   ],
   "source": [
    "hwy_2016_g2 =  pd.read_csv('TRMG2_2016.csv')\n",
    "hwy_2016_v6 =  pd.read_csv('TRMv6_2016.csv')\n",
    "\n",
    "count =  pd.read_csv('TRM6_Count_2016_Observed.csv')\n",
    "\n",
    "\n",
    "\n",
    "temp = (\n",
    "count \n",
    "    >>select(_.ID, _.Daily_Counts)\n",
    ")\n",
    "\n",
    "temp = pd.merge(hwy_2016_v6, temp)\n",
    "\n",
    "hwy_2016_v6_counts = (\n",
    "temp\n",
    "    >>filter(_.Daily_Counts > 0)\n",
    ")\n",
    "\n"
   ]
  },
  {
   "cell_type": "code",
   "execution_count": 45,
   "metadata": {},
   "outputs": [
    {
     "data": {
      "text/html": [
       "<div>\n",
       "<style scoped>\n",
       "    .dataframe tbody tr th:only-of-type {\n",
       "        vertical-align: middle;\n",
       "    }\n",
       "\n",
       "    .dataframe tbody tr th {\n",
       "        vertical-align: top;\n",
       "    }\n",
       "\n",
       "    .dataframe thead tr th {\n",
       "        text-align: left;\n",
       "    }\n",
       "\n",
       "    .dataframe thead tr:last-of-type th {\n",
       "        text-align: right;\n",
       "    }\n",
       "</style>\n",
       "<table border=\"1\" class=\"dataframe\">\n",
       "  <thead>\n",
       "    <tr>\n",
       "      <th></th>\n",
       "      <th>sum</th>\n",
       "      <th>mean</th>\n",
       "    </tr>\n",
       "    <tr>\n",
       "      <th></th>\n",
       "      <th>Total_Flow_Daily</th>\n",
       "      <th>Total_Flow_Daily</th>\n",
       "    </tr>\n",
       "    <tr>\n",
       "      <th>MPO</th>\n",
       "      <th></th>\n",
       "      <th></th>\n",
       "    </tr>\n",
       "  </thead>\n",
       "  <tbody>\n",
       "    <tr>\n",
       "      <th>CAMPO</th>\n",
       "      <td>87,767,380.48</td>\n",
       "      <td>13,249.91</td>\n",
       "    </tr>\n",
       "    <tr>\n",
       "      <th>DCHC</th>\n",
       "      <td>44,499,404.10</td>\n",
       "      <td>12,282.47</td>\n",
       "    </tr>\n",
       "    <tr>\n",
       "      <th>None</th>\n",
       "      <td>8,027,109.89</td>\n",
       "      <td>4,769.52</td>\n",
       "    </tr>\n",
       "  </tbody>\n",
       "</table>\n",
       "</div>"
      ],
      "text/plain": [
       "                   sum             mean\n",
       "      Total_Flow_Daily Total_Flow_Daily\n",
       "MPO                                    \n",
       "CAMPO    87,767,380.48        13,249.91\n",
       "DCHC     44,499,404.10        12,282.47\n",
       "None      8,027,109.89         4,769.52"
      ]
     },
     "execution_count": 45,
     "metadata": {},
     "output_type": "execute_result"
    }
   ],
   "source": [
    "hwy_2016_g2.pivot_table(values=\"Total_Flow_Daily\", index=\"MPO\",  aggfunc=[np.sum, np.mean],fill_value=0)"
   ]
  },
  {
   "cell_type": "markdown",
   "metadata": {},
   "source": [
    "## Total Daily Flow by MPO: All Links"
   ]
  },
  {
   "cell_type": "code",
   "execution_count": 46,
   "metadata": {},
   "outputs": [
    {
     "data": {
      "text/html": [
       "<div>\n",
       "<style scoped>\n",
       "    .dataframe tbody tr th:only-of-type {\n",
       "        vertical-align: middle;\n",
       "    }\n",
       "\n",
       "    .dataframe tbody tr th {\n",
       "        vertical-align: top;\n",
       "    }\n",
       "\n",
       "    .dataframe thead tr th {\n",
       "        text-align: left;\n",
       "    }\n",
       "\n",
       "    .dataframe thead tr:last-of-type th {\n",
       "        text-align: right;\n",
       "    }\n",
       "</style>\n",
       "<table border=\"1\" class=\"dataframe\">\n",
       "  <thead>\n",
       "    <tr>\n",
       "      <th></th>\n",
       "      <th>sum</th>\n",
       "      <th>mean</th>\n",
       "    </tr>\n",
       "    <tr>\n",
       "      <th></th>\n",
       "      <th>Total_Flow_Daily</th>\n",
       "      <th>Total_Flow_Daily</th>\n",
       "    </tr>\n",
       "    <tr>\n",
       "      <th>MPO</th>\n",
       "      <th></th>\n",
       "      <th></th>\n",
       "    </tr>\n",
       "  </thead>\n",
       "  <tbody>\n",
       "    <tr>\n",
       "      <th>CAMPO</th>\n",
       "      <td>87,767,380.48</td>\n",
       "      <td>13,249.91</td>\n",
       "    </tr>\n",
       "    <tr>\n",
       "      <th>DCHC</th>\n",
       "      <td>44,499,404.10</td>\n",
       "      <td>12,282.47</td>\n",
       "    </tr>\n",
       "    <tr>\n",
       "      <th>None</th>\n",
       "      <td>8,027,109.89</td>\n",
       "      <td>4,769.52</td>\n",
       "    </tr>\n",
       "  </tbody>\n",
       "</table>\n",
       "</div>"
      ],
      "text/plain": [
       "                   sum             mean\n",
       "      Total_Flow_Daily Total_Flow_Daily\n",
       "MPO                                    \n",
       "CAMPO    87,767,380.48        13,249.91\n",
       "DCHC     44,499,404.10        12,282.47\n",
       "None      8,027,109.89         4,769.52"
      ]
     },
     "execution_count": 46,
     "metadata": {},
     "output_type": "execute_result"
    }
   ],
   "source": [
    "#hide_input\n",
    "hwy_2016_g2.pivot_table(values=\"Total_Flow_Daily\", index=\"MPO\",  aggfunc=[np.sum, np.mean],fill_value=0)"
   ]
  }
 ],
 "metadata": {
  "kernelspec": {
   "display_name": "Python 3",
   "language": "python",
   "name": "python3"
  },
  "language_info": {
   "codemirror_mode": {
    "name": "ipython",
    "version": 3
   },
   "file_extension": ".py",
   "mimetype": "text/x-python",
   "name": "python",
   "nbconvert_exporter": "python",
   "pygments_lexer": "ipython3",
   "version": "3.8.5"
  }
 },
 "nbformat": 4,
 "nbformat_minor": 4
}
